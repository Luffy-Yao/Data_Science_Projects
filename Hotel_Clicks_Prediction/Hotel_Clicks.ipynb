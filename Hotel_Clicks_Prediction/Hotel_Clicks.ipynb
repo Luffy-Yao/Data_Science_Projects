{
 "cells": [
  {
   "cell_type": "markdown",
   "metadata": {},
   "source": [
    "#### Datasets\n",
    "\n",
    "**train_set.csv**: in the training dataset you will find a list of hotels and hotel characteristics. Every row has a unique identifier for the hotel - the hotel_id. The column n_clicks specifies the number of clicks the hotel has received in a specified time frame. This is the target variable you have to predict.\n",
    "Number of rows: 396487.\n",
    "\n",
    "**test_set.csv**: in the test set you will find a list of new hotels with the same characteristics as in the training set and derived in the same time frame. In this dataset the target variable that you have to predict is missing.\n",
    "Number of rows: 132162.\n",
    "\n",
    "**sample_submission.csv**: an example submission file. It should contain only the unique hotel_ids from the test set and the number of predicted clicks.\n",
    "\n",
    "\n",
    "The training dataset provided is not clean and may be missing data or contain nonsensical values. Also, the datasets below contain potentially hashed and/or modified values. \n",
    "\n",
    "\n",
    "\n",
    "#### Evaluation\n",
    "\n",
    "The predictions will be evaluated by a normalized weighted mean square error. Find more details in the resource section.\n",
    "\n",
    "#### Column description\n",
    "\n",
    "**hotel_id**: a number uniquely identifying each hotel\n",
    "\n",
    "**city_id**: describes the city the hotel is located in\n",
    "\n",
    "**content_score**: describes the quality of the content that is provided \n",
    "for the hotel on a scale from 0 (worst) to 100 (best)\n",
    "\n",
    "**n_images**: number of images that are available for the given hotel\n",
    "\n",
    "**distance_to_center**: distance (in meters) of the hotel to the nearest city center\n",
    "\n",
    "**avg_rating**: average rating of the hotel on a scale from 0 (worst) to 100 (best)\n",
    "\n",
    "**n_reviews**: number of reviews that are available for that hotel\n",
    "\n",
    "**avg_rank**: average position the hotel had in the list\n",
    "\n",
    "**avg_price**: average price in Euro of the hotel\n",
    "\n",
    "**avg_saving_percent**: average saving users achieve on this hotel by using aggregator, i.e. the relative difference between the cheapest and most expensive deal for the hotel\n",
    "\n",
    "**n_clicks**: the number of clicks the hotel has received in a specific time frame (target variable, unique to the training set)"
   ]
  },
  {
   "cell_type": "code",
   "execution_count": 1,
   "metadata": {},
   "outputs": [],
   "source": [
    "import numpy as np\n",
    "import pandas as pd\n",
    "import itertools\n",
    "from matplotlib import pyplot as plt\n",
    "from collections import Counter\n",
    "import seaborn as sns\n",
    "sns.set()\n",
    "\n",
    "from sklearn import linear_model\n",
    "from sklearn.ensemble import RandomForestRegressor,RandomForestClassifier, AdaBoostRegressor,GradientBoostingRegressor, ExtraTreesRegressor, BaggingRegressor\n",
    "from sklearn.linear_model import LogisticRegression\n",
    "from sklearn.neighbors import KNeighborsRegressor, KNeighborsClassifier\n",
    "from sklearn.tree import DecisionTreeRegressor,DecisionTreeClassifier\n",
    "from sklearn.svm import LinearSVR\n",
    "from sklearn.model_selection import GridSearchCV, cross_val_score, StratifiedKFold, learning_curve, train_test_split\n",
    "from sklearn.metrics import accuracy_score, r2_score "
   ]
  },
  {
   "cell_type": "code",
   "execution_count": 2,
   "metadata": {},
   "outputs": [
    {
     "data": {
      "text/html": [
       "<div>\n",
       "<style scoped>\n",
       "    .dataframe tbody tr th:only-of-type {\n",
       "        vertical-align: middle;\n",
       "    }\n",
       "\n",
       "    .dataframe tbody tr th {\n",
       "        vertical-align: top;\n",
       "    }\n",
       "\n",
       "    .dataframe thead th {\n",
       "        text-align: right;\n",
       "    }\n",
       "</style>\n",
       "<table border=\"1\" class=\"dataframe\">\n",
       "  <thead>\n",
       "    <tr style=\"text-align: right;\">\n",
       "      <th></th>\n",
       "      <th>hotel_id</th>\n",
       "      <th>city_id</th>\n",
       "      <th>content_score</th>\n",
       "      <th>n_images</th>\n",
       "      <th>distance_to_center</th>\n",
       "      <th>avg_rating</th>\n",
       "      <th>stars</th>\n",
       "      <th>n_reviews</th>\n",
       "      <th>avg_rank</th>\n",
       "      <th>avg_price</th>\n",
       "      <th>avg_saving_percent</th>\n",
       "      <th>n_clicks</th>\n",
       "    </tr>\n",
       "  </thead>\n",
       "  <tbody>\n",
       "    <tr>\n",
       "      <th>0</th>\n",
       "      <td>9.767406e+10</td>\n",
       "      <td>134520.0</td>\n",
       "      <td>70.0</td>\n",
       "      <td>2.0</td>\n",
       "      <td>1199.0</td>\n",
       "      <td>77.0</td>\n",
       "      <td>4.0</td>\n",
       "      <td>861.0</td>\n",
       "      <td>17.550</td>\n",
       "      <td>81.64</td>\n",
       "      <td>18.0</td>\n",
       "      <td>0</td>\n",
       "    </tr>\n",
       "    <tr>\n",
       "      <th>1</th>\n",
       "      <td>9.768889e+10</td>\n",
       "      <td>133876.0</td>\n",
       "      <td>67.0</td>\n",
       "      <td>3.0</td>\n",
       "      <td>12585.0</td>\n",
       "      <td>90.0</td>\n",
       "      <td>4.0</td>\n",
       "      <td>4371.0</td>\n",
       "      <td>17.383</td>\n",
       "      <td>189.38</td>\n",
       "      <td>28.0</td>\n",
       "      <td>4</td>\n",
       "    </tr>\n",
       "    <tr>\n",
       "      <th>2</th>\n",
       "      <td>9.811544e+10</td>\n",
       "      <td>133732.0</td>\n",
       "      <td>39.0</td>\n",
       "      <td>3.0</td>\n",
       "      <td>23491.0</td>\n",
       "      <td>83.0</td>\n",
       "      <td>3.0</td>\n",
       "      <td>1005.0</td>\n",
       "      <td>16.438</td>\n",
       "      <td>57.63</td>\n",
       "      <td>27.0</td>\n",
       "      <td>44</td>\n",
       "    </tr>\n",
       "    <tr>\n",
       "      <th>3</th>\n",
       "      <td>9.824279e+10</td>\n",
       "      <td>43772.0</td>\n",
       "      <td>59.0</td>\n",
       "      <td>8.0</td>\n",
       "      <td>3291.0</td>\n",
       "      <td>73.0</td>\n",
       "      <td>2.0</td>\n",
       "      <td>3084.0</td>\n",
       "      <td>7.000</td>\n",
       "      <td>72.16</td>\n",
       "      <td>2.0</td>\n",
       "      <td>4</td>\n",
       "    </tr>\n",
       "    <tr>\n",
       "      <th>4</th>\n",
       "      <td>9.833438e+10</td>\n",
       "      <td>50532.0</td>\n",
       "      <td>66.0</td>\n",
       "      <td>1.0</td>\n",
       "      <td>288.0</td>\n",
       "      <td>80.0</td>\n",
       "      <td>0.0</td>\n",
       "      <td>603.0</td>\n",
       "      <td>12.564</td>\n",
       "      <td>173.25</td>\n",
       "      <td>0.0</td>\n",
       "      <td>10</td>\n",
       "    </tr>\n",
       "  </tbody>\n",
       "</table>\n",
       "</div>"
      ],
      "text/plain": [
       "       hotel_id   city_id  content_score  n_images  distance_to_center  \\\n",
       "0  9.767406e+10  134520.0           70.0       2.0              1199.0   \n",
       "1  9.768889e+10  133876.0           67.0       3.0             12585.0   \n",
       "2  9.811544e+10  133732.0           39.0       3.0             23491.0   \n",
       "3  9.824279e+10   43772.0           59.0       8.0              3291.0   \n",
       "4  9.833438e+10   50532.0           66.0       1.0               288.0   \n",
       "\n",
       "   avg_rating  stars  n_reviews  avg_rank  avg_price  avg_saving_percent  \\\n",
       "0        77.0    4.0      861.0    17.550      81.64                18.0   \n",
       "1        90.0    4.0     4371.0    17.383     189.38                28.0   \n",
       "2        83.0    3.0     1005.0    16.438      57.63                27.0   \n",
       "3        73.0    2.0     3084.0     7.000      72.16                 2.0   \n",
       "4        80.0    0.0      603.0    12.564     173.25                 0.0   \n",
       "\n",
       "   n_clicks  \n",
       "0         0  \n",
       "1         4  \n",
       "2        44  \n",
       "3         4  \n",
       "4        10  "
      ]
     },
     "execution_count": 2,
     "metadata": {},
     "output_type": "execute_result"
    }
   ],
   "source": [
    "# Train data\n",
    "\n",
    "df = pd.read_csv(\"../Hotel_Clicks_Prediction/train_set.csv\")\n",
    "df.head(5)"
   ]
  },
  {
   "cell_type": "code",
   "execution_count": 3,
   "metadata": {},
   "outputs": [
    {
     "data": {
      "text/html": [
       "<div>\n",
       "<style scoped>\n",
       "    .dataframe tbody tr th:only-of-type {\n",
       "        vertical-align: middle;\n",
       "    }\n",
       "\n",
       "    .dataframe tbody tr th {\n",
       "        vertical-align: top;\n",
       "    }\n",
       "\n",
       "    .dataframe thead th {\n",
       "        text-align: right;\n",
       "    }\n",
       "</style>\n",
       "<table border=\"1\" class=\"dataframe\">\n",
       "  <thead>\n",
       "    <tr style=\"text-align: right;\">\n",
       "      <th></th>\n",
       "      <th>hotel_id</th>\n",
       "      <th>city_id</th>\n",
       "      <th>content_score</th>\n",
       "      <th>n_images</th>\n",
       "      <th>distance_to_center</th>\n",
       "      <th>avg_rating</th>\n",
       "      <th>stars</th>\n",
       "      <th>n_reviews</th>\n",
       "      <th>avg_rank</th>\n",
       "      <th>avg_price</th>\n",
       "      <th>avg_saving_percent</th>\n",
       "    </tr>\n",
       "  </thead>\n",
       "  <tbody>\n",
       "    <tr>\n",
       "      <th>0</th>\n",
       "      <td>14942256073</td>\n",
       "      <td>122750.0</td>\n",
       "      <td>58.0</td>\n",
       "      <td>2.0</td>\n",
       "      <td>11503.0</td>\n",
       "      <td>89.0</td>\n",
       "      <td>0.0</td>\n",
       "      <td>168.0</td>\n",
       "      <td>13.500</td>\n",
       "      <td>90.19</td>\n",
       "      <td>32.0</td>\n",
       "    </tr>\n",
       "    <tr>\n",
       "      <th>1</th>\n",
       "      <td>16036037903</td>\n",
       "      <td>28134.0</td>\n",
       "      <td>68.0</td>\n",
       "      <td>4.0</td>\n",
       "      <td>938.0</td>\n",
       "      <td>81.0</td>\n",
       "      <td>5.0</td>\n",
       "      <td>735.0</td>\n",
       "      <td>13.667</td>\n",
       "      <td>98.27</td>\n",
       "      <td>19.0</td>\n",
       "    </tr>\n",
       "    <tr>\n",
       "      <th>2</th>\n",
       "      <td>288585940112</td>\n",
       "      <td>30578.0</td>\n",
       "      <td>19.0</td>\n",
       "      <td>0.0</td>\n",
       "      <td>38982.0</td>\n",
       "      <td>NaN</td>\n",
       "      <td>0.0</td>\n",
       "      <td>0.0</td>\n",
       "      <td>20.462</td>\n",
       "      <td>48.77</td>\n",
       "      <td>0.0</td>\n",
       "    </tr>\n",
       "    <tr>\n",
       "      <th>3</th>\n",
       "      <td>129041645070</td>\n",
       "      <td>54398.0</td>\n",
       "      <td>47.0</td>\n",
       "      <td>0.0</td>\n",
       "      <td>1683.0</td>\n",
       "      <td>80.0</td>\n",
       "      <td>0.0</td>\n",
       "      <td>69.0</td>\n",
       "      <td>15.000</td>\n",
       "      <td>72.32</td>\n",
       "      <td>0.0</td>\n",
       "    </tr>\n",
       "    <tr>\n",
       "      <th>4</th>\n",
       "      <td>12460296563</td>\n",
       "      <td>63890.0</td>\n",
       "      <td>59.0</td>\n",
       "      <td>3.0</td>\n",
       "      <td>1299.0</td>\n",
       "      <td>80.0</td>\n",
       "      <td>3.0</td>\n",
       "      <td>1470.0</td>\n",
       "      <td>10.000</td>\n",
       "      <td>24.54</td>\n",
       "      <td>19.0</td>\n",
       "    </tr>\n",
       "  </tbody>\n",
       "</table>\n",
       "</div>"
      ],
      "text/plain": [
       "       hotel_id   city_id  content_score  n_images  distance_to_center  \\\n",
       "0   14942256073  122750.0           58.0       2.0             11503.0   \n",
       "1   16036037903   28134.0           68.0       4.0               938.0   \n",
       "2  288585940112   30578.0           19.0       0.0             38982.0   \n",
       "3  129041645070   54398.0           47.0       0.0              1683.0   \n",
       "4   12460296563   63890.0           59.0       3.0              1299.0   \n",
       "\n",
       "   avg_rating  stars  n_reviews  avg_rank  avg_price  avg_saving_percent  \n",
       "0        89.0    0.0      168.0    13.500      90.19                32.0  \n",
       "1        81.0    5.0      735.0    13.667      98.27                19.0  \n",
       "2         NaN    0.0        0.0    20.462      48.77                 0.0  \n",
       "3        80.0    0.0       69.0    15.000      72.32                 0.0  \n",
       "4        80.0    3.0     1470.0    10.000      24.54                19.0  "
      ]
     },
     "execution_count": 3,
     "metadata": {},
     "output_type": "execute_result"
    }
   ],
   "source": [
    "# Test data\n",
    "\n",
    "data_test = pd.read_csv(\"../Hotel_Clicks_Prediction/test_set.csv\")\n",
    "IDtest = data_test[\"hotel_id\"]\n",
    "data_test.head(5)"
   ]
  },
  {
   "cell_type": "code",
   "execution_count": 4,
   "metadata": {},
   "outputs": [
    {
     "data": {
      "text/plain": [
       "(hotel_id                  0\n",
       " city_id                 155\n",
       " content_score           155\n",
       " n_images                156\n",
       " distance_to_center      163\n",
       " avg_rating            36630\n",
       " stars                   175\n",
       " n_reviews               163\n",
       " avg_rank                  0\n",
       " avg_price                58\n",
       " avg_saving_percent       58\n",
       " dtype: int64, hotel_id                   0\n",
       " city_id                  508\n",
       " content_score            508\n",
       " n_images                 509\n",
       " distance_to_center       529\n",
       " avg_rating            110398\n",
       " stars                    562\n",
       " n_reviews                529\n",
       " avg_rank                   0\n",
       " avg_price                170\n",
       " avg_saving_percent       170\n",
       " n_clicks                   0\n",
       " dtype: int64)"
      ]
     },
     "execution_count": 4,
     "metadata": {},
     "output_type": "execute_result"
    }
   ],
   "source": [
    "# Check how clean our test and train data\n",
    "\n",
    "data_test.isnull().sum(),df.isnull().sum()"
   ]
  },
  {
   "cell_type": "code",
   "execution_count": 5,
   "metadata": {},
   "outputs": [
    {
     "data": {
      "text/plain": [
       "((396487, 12), (132162, 11))"
      ]
     },
     "execution_count": 5,
     "metadata": {},
     "output_type": "execute_result"
    }
   ],
   "source": [
    "# Test data has one column less\n",
    "\n",
    "df.shape, data_test.shape"
   ]
  },
  {
   "cell_type": "code",
   "execution_count": 6,
   "metadata": {},
   "outputs": [
    {
     "data": {
      "text/plain": [
       "(396487, 132162)"
      ]
     },
     "execution_count": 6,
     "metadata": {},
     "output_type": "execute_result"
    }
   ],
   "source": [
    "len(df.hotel_id.unique()),len(data_test.hotel_id.unique())"
   ]
  },
  {
   "cell_type": "markdown",
   "metadata": {},
   "source": [
    "The number of unique hotel_id is equal to the number of samples, which along with zero Nan values on the column indicates that dataset contains no hotel repetitions. As the result, I think that this feature can further be neglected for  analysis"
   ]
  },
  {
   "cell_type": "code",
   "execution_count": 7,
   "metadata": {},
   "outputs": [],
   "source": [
    "df = df.drop(['hotel_id'], axis=1)\n",
    "data_test = data_test.drop(['hotel_id'], axis=1)\n"
   ]
  },
  {
   "cell_type": "code",
   "execution_count": 8,
   "metadata": {},
   "outputs": [
    {
     "data": {
      "text/plain": [
       "33214"
      ]
     },
     "execution_count": 8,
     "metadata": {},
     "output_type": "execute_result"
    }
   ],
   "source": [
    "len(df.city_id.unique())"
   ]
  },
  {
   "cell_type": "markdown",
   "metadata": {},
   "source": [
    "Drop the rows where all of the elements are nan. As one can see there are no such rows."
   ]
  },
  {
   "cell_type": "code",
   "execution_count": 9,
   "metadata": {},
   "outputs": [
    {
     "data": {
      "text/plain": [
       "(396487, 11)"
      ]
     },
     "execution_count": 9,
     "metadata": {},
     "output_type": "execute_result"
    }
   ],
   "source": [
    "df = df.dropna(axis=0, how='all')\n",
    "df.shape"
   ]
  },
  {
   "cell_type": "markdown",
   "metadata": {},
   "source": [
    "### 1) Exploratory data analysis"
   ]
  },
  {
   "cell_type": "code",
   "execution_count": 10,
   "metadata": {},
   "outputs": [
    {
     "name": "stdout",
     "output_type": "stream",
     "text": [
      "<class 'pandas.core.frame.DataFrame'>\n",
      "Int64Index: 396487 entries, 0 to 396486\n",
      "Data columns (total 11 columns):\n",
      "city_id               395979 non-null float64\n",
      "content_score         395979 non-null float64\n",
      "n_images              395978 non-null float64\n",
      "distance_to_center    395958 non-null float64\n",
      "avg_rating            286089 non-null float64\n",
      "stars                 395925 non-null float64\n",
      "n_reviews             395958 non-null float64\n",
      "avg_rank              396487 non-null float64\n",
      "avg_price             396317 non-null float64\n",
      "avg_saving_percent    396317 non-null float64\n",
      "n_clicks              396487 non-null int64\n",
      "dtypes: float64(10), int64(1)\n",
      "memory usage: 36.3 MB\n"
     ]
    }
   ],
   "source": [
    "df.info()"
   ]
  },
  {
   "cell_type": "code",
   "execution_count": 11,
   "metadata": {},
   "outputs": [
    {
     "data": {
      "text/html": [
       "<div>\n",
       "<style scoped>\n",
       "    .dataframe tbody tr th:only-of-type {\n",
       "        vertical-align: middle;\n",
       "    }\n",
       "\n",
       "    .dataframe tbody tr th {\n",
       "        vertical-align: top;\n",
       "    }\n",
       "\n",
       "    .dataframe thead th {\n",
       "        text-align: right;\n",
       "    }\n",
       "</style>\n",
       "<table border=\"1\" class=\"dataframe\">\n",
       "  <thead>\n",
       "    <tr style=\"text-align: right;\">\n",
       "      <th></th>\n",
       "      <th>city_id</th>\n",
       "      <th>content_score</th>\n",
       "      <th>n_images</th>\n",
       "      <th>distance_to_center</th>\n",
       "      <th>avg_rating</th>\n",
       "      <th>stars</th>\n",
       "      <th>n_reviews</th>\n",
       "      <th>avg_rank</th>\n",
       "      <th>avg_price</th>\n",
       "      <th>avg_saving_percent</th>\n",
       "      <th>n_clicks</th>\n",
       "    </tr>\n",
       "  </thead>\n",
       "  <tbody>\n",
       "    <tr>\n",
       "      <th>count</th>\n",
       "      <td>395979.000000</td>\n",
       "      <td>395979.000000</td>\n",
       "      <td>3.959780e+05</td>\n",
       "      <td>3.959580e+05</td>\n",
       "      <td>286089.000000</td>\n",
       "      <td>395925.000000</td>\n",
       "      <td>395958.000000</td>\n",
       "      <td>396487.000000</td>\n",
       "      <td>396317.000000</td>\n",
       "      <td>396317.000000</td>\n",
       "      <td>396487.000000</td>\n",
       "    </tr>\n",
       "    <tr>\n",
       "      <th>mean</th>\n",
       "      <td>149193.465376</td>\n",
       "      <td>50.992795</td>\n",
       "      <td>2.593212e+02</td>\n",
       "      <td>1.634383e+04</td>\n",
       "      <td>81.616525</td>\n",
       "      <td>1.159659</td>\n",
       "      <td>913.667419</td>\n",
       "      <td>14.694502</td>\n",
       "      <td>109.332048</td>\n",
       "      <td>7.179601</td>\n",
       "      <td>13.781980</td>\n",
       "    </tr>\n",
       "    <tr>\n",
       "      <th>std</th>\n",
       "      <td>219189.285044</td>\n",
       "      <td>11.563444</td>\n",
       "      <td>1.731682e+04</td>\n",
       "      <td>2.752200e+05</td>\n",
       "      <td>6.025140</td>\n",
       "      <td>1.619713</td>\n",
       "      <td>2432.494160</td>\n",
       "      <td>5.604578</td>\n",
       "      <td>148.198851</td>\n",
       "      <td>13.081529</td>\n",
       "      <td>123.572896</td>\n",
       "    </tr>\n",
       "    <tr>\n",
       "      <th>min</th>\n",
       "      <td>2.000000</td>\n",
       "      <td>7.000000</td>\n",
       "      <td>-1.000000e+00</td>\n",
       "      <td>0.000000e+00</td>\n",
       "      <td>34.000000</td>\n",
       "      <td>0.000000</td>\n",
       "      <td>0.000000</td>\n",
       "      <td>1.000000</td>\n",
       "      <td>4.000000</td>\n",
       "      <td>0.000000</td>\n",
       "      <td>0.000000</td>\n",
       "    </tr>\n",
       "    <tr>\n",
       "      <th>25%</th>\n",
       "      <td>32014.000000</td>\n",
       "      <td>45.000000</td>\n",
       "      <td>0.000000e+00</td>\n",
       "      <td>5.440000e+02</td>\n",
       "      <td>79.000000</td>\n",
       "      <td>0.000000</td>\n",
       "      <td>0.000000</td>\n",
       "      <td>11.091000</td>\n",
       "      <td>51.050000</td>\n",
       "      <td>0.000000</td>\n",
       "      <td>0.000000</td>\n",
       "    </tr>\n",
       "    <tr>\n",
       "      <th>50%</th>\n",
       "      <td>55122.000000</td>\n",
       "      <td>53.000000</td>\n",
       "      <td>1.000000e+00</td>\n",
       "      <td>1.516000e+03</td>\n",
       "      <td>83.000000</td>\n",
       "      <td>0.000000</td>\n",
       "      <td>189.000000</td>\n",
       "      <td>15.000000</td>\n",
       "      <td>77.650000</td>\n",
       "      <td>0.000000</td>\n",
       "      <td>0.000000</td>\n",
       "    </tr>\n",
       "    <tr>\n",
       "      <th>75%</th>\n",
       "      <td>137464.000000</td>\n",
       "      <td>59.000000</td>\n",
       "      <td>2.000000e+00</td>\n",
       "      <td>4.163000e+03</td>\n",
       "      <td>86.000000</td>\n",
       "      <td>3.000000</td>\n",
       "      <td>777.000000</td>\n",
       "      <td>18.375000</td>\n",
       "      <td>120.930000</td>\n",
       "      <td>10.000000</td>\n",
       "      <td>2.000000</td>\n",
       "    </tr>\n",
       "    <tr>\n",
       "      <th>max</th>\n",
       "      <td>878736.000000</td>\n",
       "      <td>81.000000</td>\n",
       "      <td>2.393911e+06</td>\n",
       "      <td>1.834155e+07</td>\n",
       "      <td>97.000000</td>\n",
       "      <td>5.000000</td>\n",
       "      <td>283089.000000</td>\n",
       "      <td>100.000000</td>\n",
       "      <td>8000.000000</td>\n",
       "      <td>99.000000</td>\n",
       "      <td>13742.000000</td>\n",
       "    </tr>\n",
       "  </tbody>\n",
       "</table>\n",
       "</div>"
      ],
      "text/plain": [
       "             city_id  content_score      n_images  distance_to_center  \\\n",
       "count  395979.000000  395979.000000  3.959780e+05        3.959580e+05   \n",
       "mean   149193.465376      50.992795  2.593212e+02        1.634383e+04   \n",
       "std    219189.285044      11.563444  1.731682e+04        2.752200e+05   \n",
       "min         2.000000       7.000000 -1.000000e+00        0.000000e+00   \n",
       "25%     32014.000000      45.000000  0.000000e+00        5.440000e+02   \n",
       "50%     55122.000000      53.000000  1.000000e+00        1.516000e+03   \n",
       "75%    137464.000000      59.000000  2.000000e+00        4.163000e+03   \n",
       "max    878736.000000      81.000000  2.393911e+06        1.834155e+07   \n",
       "\n",
       "          avg_rating          stars      n_reviews       avg_rank  \\\n",
       "count  286089.000000  395925.000000  395958.000000  396487.000000   \n",
       "mean       81.616525       1.159659     913.667419      14.694502   \n",
       "std         6.025140       1.619713    2432.494160       5.604578   \n",
       "min        34.000000       0.000000       0.000000       1.000000   \n",
       "25%        79.000000       0.000000       0.000000      11.091000   \n",
       "50%        83.000000       0.000000     189.000000      15.000000   \n",
       "75%        86.000000       3.000000     777.000000      18.375000   \n",
       "max        97.000000       5.000000  283089.000000     100.000000   \n",
       "\n",
       "           avg_price  avg_saving_percent       n_clicks  \n",
       "count  396317.000000       396317.000000  396487.000000  \n",
       "mean      109.332048            7.179601      13.781980  \n",
       "std       148.198851           13.081529     123.572896  \n",
       "min         4.000000            0.000000       0.000000  \n",
       "25%        51.050000            0.000000       0.000000  \n",
       "50%        77.650000            0.000000       0.000000  \n",
       "75%       120.930000           10.000000       2.000000  \n",
       "max      8000.000000           99.000000   13742.000000  "
      ]
     },
     "execution_count": 11,
     "metadata": {},
     "output_type": "execute_result"
    }
   ],
   "source": [
    "# Lets have a look at statistics of train set, to look for outliers.\n",
    "\n",
    "df.describe()"
   ]
  },
  {
   "cell_type": "markdown",
   "metadata": {},
   "source": [
    "From the brief data description we could easily detect number of outliers, for instance in `n_images` and `n_reviews` columns. Therefore the reasonable step is to get rid of them. The max values for `n_clicks` and `avg_price` can also be tested"
   ]
  },
  {
   "cell_type": "code",
   "execution_count": 12,
   "metadata": {},
   "outputs": [
    {
     "data": {
      "text/plain": [
       "(0, 13742)"
      ]
     },
     "execution_count": 12,
     "metadata": {},
     "output_type": "execute_result"
    }
   ],
   "source": [
    "df[\"n_clicks\"].min(),df[\"n_clicks\"].max()"
   ]
  },
  {
   "cell_type": "code",
   "execution_count": 13,
   "metadata": {},
   "outputs": [
    {
     "data": {
      "text/html": [
       "<div>\n",
       "<style scoped>\n",
       "    .dataframe tbody tr th:only-of-type {\n",
       "        vertical-align: middle;\n",
       "    }\n",
       "\n",
       "    .dataframe tbody tr th {\n",
       "        vertical-align: top;\n",
       "    }\n",
       "\n",
       "    .dataframe thead th {\n",
       "        text-align: right;\n",
       "    }\n",
       "</style>\n",
       "<table border=\"1\" class=\"dataframe\">\n",
       "  <thead>\n",
       "    <tr style=\"text-align: right;\">\n",
       "      <th></th>\n",
       "      <th>city_id</th>\n",
       "      <th>content_score</th>\n",
       "      <th>n_images</th>\n",
       "      <th>distance_to_center</th>\n",
       "      <th>avg_rating</th>\n",
       "      <th>stars</th>\n",
       "      <th>n_reviews</th>\n",
       "      <th>avg_rank</th>\n",
       "      <th>avg_price</th>\n",
       "      <th>avg_saving_percent</th>\n",
       "      <th>n_clicks</th>\n",
       "    </tr>\n",
       "  </thead>\n",
       "  <tbody>\n",
       "    <tr>\n",
       "      <th>119549</th>\n",
       "      <td>13278.0</td>\n",
       "      <td>63.0</td>\n",
       "      <td>6.0</td>\n",
       "      <td>294.0</td>\n",
       "      <td>86.0</td>\n",
       "      <td>5.0</td>\n",
       "      <td>15828.0</td>\n",
       "      <td>5.297</td>\n",
       "      <td>137.70</td>\n",
       "      <td>30.0</td>\n",
       "      <td>11652</td>\n",
       "    </tr>\n",
       "    <tr>\n",
       "      <th>143912</th>\n",
       "      <td>30512.0</td>\n",
       "      <td>63.0</td>\n",
       "      <td>1.0</td>\n",
       "      <td>4857.0</td>\n",
       "      <td>86.0</td>\n",
       "      <td>5.0</td>\n",
       "      <td>909.0</td>\n",
       "      <td>8.946</td>\n",
       "      <td>346.96</td>\n",
       "      <td>54.0</td>\n",
       "      <td>12790</td>\n",
       "    </tr>\n",
       "    <tr>\n",
       "      <th>201233</th>\n",
       "      <td>8582.0</td>\n",
       "      <td>66.0</td>\n",
       "      <td>12.0</td>\n",
       "      <td>1715.0</td>\n",
       "      <td>80.0</td>\n",
       "      <td>4.0</td>\n",
       "      <td>18861.0</td>\n",
       "      <td>9.603</td>\n",
       "      <td>109.85</td>\n",
       "      <td>18.0</td>\n",
       "      <td>10108</td>\n",
       "    </tr>\n",
       "    <tr>\n",
       "      <th>211064</th>\n",
       "      <td>170898.0</td>\n",
       "      <td>50.0</td>\n",
       "      <td>1.0</td>\n",
       "      <td>1317.0</td>\n",
       "      <td>82.0</td>\n",
       "      <td>5.0</td>\n",
       "      <td>339.0</td>\n",
       "      <td>4.471</td>\n",
       "      <td>143.88</td>\n",
       "      <td>22.0</td>\n",
       "      <td>10592</td>\n",
       "    </tr>\n",
       "    <tr>\n",
       "      <th>211753</th>\n",
       "      <td>8582.0</td>\n",
       "      <td>69.0</td>\n",
       "      <td>11.0</td>\n",
       "      <td>2058.0</td>\n",
       "      <td>86.0</td>\n",
       "      <td>4.0</td>\n",
       "      <td>13404.0</td>\n",
       "      <td>7.381</td>\n",
       "      <td>137.61</td>\n",
       "      <td>21.0</td>\n",
       "      <td>13742</td>\n",
       "    </tr>\n",
       "    <tr>\n",
       "      <th>395410</th>\n",
       "      <td>27328.0</td>\n",
       "      <td>60.0</td>\n",
       "      <td>5.0</td>\n",
       "      <td>811.0</td>\n",
       "      <td>85.0</td>\n",
       "      <td>4.0</td>\n",
       "      <td>2556.0</td>\n",
       "      <td>8.731</td>\n",
       "      <td>170.42</td>\n",
       "      <td>36.0</td>\n",
       "      <td>10458</td>\n",
       "    </tr>\n",
       "  </tbody>\n",
       "</table>\n",
       "</div>"
      ],
      "text/plain": [
       "         city_id  content_score  n_images  distance_to_center  avg_rating  \\\n",
       "119549   13278.0           63.0       6.0               294.0        86.0   \n",
       "143912   30512.0           63.0       1.0              4857.0        86.0   \n",
       "201233    8582.0           66.0      12.0              1715.0        80.0   \n",
       "211064  170898.0           50.0       1.0              1317.0        82.0   \n",
       "211753    8582.0           69.0      11.0              2058.0        86.0   \n",
       "395410   27328.0           60.0       5.0               811.0        85.0   \n",
       "\n",
       "        stars  n_reviews  avg_rank  avg_price  avg_saving_percent  n_clicks  \n",
       "119549    5.0    15828.0     5.297     137.70                30.0     11652  \n",
       "143912    5.0      909.0     8.946     346.96                54.0     12790  \n",
       "201233    4.0    18861.0     9.603     109.85                18.0     10108  \n",
       "211064    5.0      339.0     4.471     143.88                22.0     10592  \n",
       "211753    4.0    13404.0     7.381     137.61                21.0     13742  \n",
       "395410    4.0     2556.0     8.731     170.42                36.0     10458  "
      ]
     },
     "execution_count": 13,
     "metadata": {},
     "output_type": "execute_result"
    }
   ],
   "source": [
    "df[df['n_clicks']>10000]"
   ]
  },
  {
   "cell_type": "code",
   "execution_count": 14,
   "metadata": {},
   "outputs": [
    {
     "data": {
      "text/plain": [
       "(4.0, 8000.0)"
      ]
     },
     "execution_count": 14,
     "metadata": {},
     "output_type": "execute_result"
    }
   ],
   "source": [
    "df[\"avg_price\"].min(),df[\"avg_price\"].max()"
   ]
  },
  {
   "cell_type": "code",
   "execution_count": 15,
   "metadata": {},
   "outputs": [
    {
     "data": {
      "text/html": [
       "<div>\n",
       "<style scoped>\n",
       "    .dataframe tbody tr th:only-of-type {\n",
       "        vertical-align: middle;\n",
       "    }\n",
       "\n",
       "    .dataframe tbody tr th {\n",
       "        vertical-align: top;\n",
       "    }\n",
       "\n",
       "    .dataframe thead th {\n",
       "        text-align: right;\n",
       "    }\n",
       "</style>\n",
       "<table border=\"1\" class=\"dataframe\">\n",
       "  <thead>\n",
       "    <tr style=\"text-align: right;\">\n",
       "      <th></th>\n",
       "      <th>city_id</th>\n",
       "      <th>content_score</th>\n",
       "      <th>n_images</th>\n",
       "      <th>distance_to_center</th>\n",
       "      <th>avg_rating</th>\n",
       "      <th>stars</th>\n",
       "      <th>n_reviews</th>\n",
       "      <th>avg_rank</th>\n",
       "      <th>avg_price</th>\n",
       "      <th>avg_saving_percent</th>\n",
       "      <th>n_clicks</th>\n",
       "    </tr>\n",
       "  </thead>\n",
       "  <tbody>\n",
       "    <tr>\n",
       "      <th>29242</th>\n",
       "      <td>54398.0</td>\n",
       "      <td>47.0</td>\n",
       "      <td>0.0</td>\n",
       "      <td>6451.0</td>\n",
       "      <td>84.0</td>\n",
       "      <td>0.0</td>\n",
       "      <td>216.0</td>\n",
       "      <td>15.00</td>\n",
       "      <td>8000.00</td>\n",
       "      <td>0.0</td>\n",
       "      <td>0</td>\n",
       "    </tr>\n",
       "    <tr>\n",
       "      <th>107649</th>\n",
       "      <td>146568.0</td>\n",
       "      <td>19.0</td>\n",
       "      <td>0.0</td>\n",
       "      <td>53508.0</td>\n",
       "      <td>NaN</td>\n",
       "      <td>0.0</td>\n",
       "      <td>0.0</td>\n",
       "      <td>14.75</td>\n",
       "      <td>7162.37</td>\n",
       "      <td>0.0</td>\n",
       "      <td>0</td>\n",
       "    </tr>\n",
       "    <tr>\n",
       "      <th>155038</th>\n",
       "      <td>174248.0</td>\n",
       "      <td>42.0</td>\n",
       "      <td>0.0</td>\n",
       "      <td>11541.0</td>\n",
       "      <td>NaN</td>\n",
       "      <td>0.0</td>\n",
       "      <td>0.0</td>\n",
       "      <td>11.00</td>\n",
       "      <td>7773.74</td>\n",
       "      <td>0.0</td>\n",
       "      <td>0</td>\n",
       "    </tr>\n",
       "    <tr>\n",
       "      <th>240112</th>\n",
       "      <td>52306.0</td>\n",
       "      <td>42.0</td>\n",
       "      <td>0.0</td>\n",
       "      <td>2607.0</td>\n",
       "      <td>NaN</td>\n",
       "      <td>0.0</td>\n",
       "      <td>0.0</td>\n",
       "      <td>14.50</td>\n",
       "      <td>7741.74</td>\n",
       "      <td>0.0</td>\n",
       "      <td>0</td>\n",
       "    </tr>\n",
       "    <tr>\n",
       "      <th>314247</th>\n",
       "      <td>44036.0</td>\n",
       "      <td>42.0</td>\n",
       "      <td>0.0</td>\n",
       "      <td>1156.0</td>\n",
       "      <td>NaN</td>\n",
       "      <td>0.0</td>\n",
       "      <td>0.0</td>\n",
       "      <td>3.00</td>\n",
       "      <td>7957.34</td>\n",
       "      <td>0.0</td>\n",
       "      <td>0</td>\n",
       "    </tr>\n",
       "  </tbody>\n",
       "</table>\n",
       "</div>"
      ],
      "text/plain": [
       "         city_id  content_score  n_images  distance_to_center  avg_rating  \\\n",
       "29242    54398.0           47.0       0.0              6451.0        84.0   \n",
       "107649  146568.0           19.0       0.0             53508.0         NaN   \n",
       "155038  174248.0           42.0       0.0             11541.0         NaN   \n",
       "240112   52306.0           42.0       0.0              2607.0         NaN   \n",
       "314247   44036.0           42.0       0.0              1156.0         NaN   \n",
       "\n",
       "        stars  n_reviews  avg_rank  avg_price  avg_saving_percent  n_clicks  \n",
       "29242     0.0      216.0     15.00    8000.00                 0.0         0  \n",
       "107649    0.0        0.0     14.75    7162.37                 0.0         0  \n",
       "155038    0.0        0.0     11.00    7773.74                 0.0         0  \n",
       "240112    0.0        0.0     14.50    7741.74                 0.0         0  \n",
       "314247    0.0        0.0      3.00    7957.34                 0.0         0  "
      ]
     },
     "execution_count": 15,
     "metadata": {},
     "output_type": "execute_result"
    }
   ],
   "source": [
    "df[df['avg_price']>7000]"
   ]
  },
  {
   "cell_type": "markdown",
   "metadata": {},
   "source": [
    "Nothing extraordinary with these columns"
   ]
  },
  {
   "cell_type": "markdown",
   "metadata": {},
   "source": [
    "Next step is analyze features a bit, to find which one correlates at most with `n_clicks`. Let say top-10 samples w.r.t `n_clicks`"
   ]
  },
  {
   "cell_type": "code",
   "execution_count": 16,
   "metadata": {},
   "outputs": [
    {
     "name": "stdout",
     "output_type": "stream",
     "text": [
      "city_id\n",
      "7696.0     205858\n",
      "8582.0     195422\n",
      "55122.0    105106\n",
      "13278.0     94864\n",
      "3606.0      90344\n",
      "27366.0     56060\n",
      "34798.0     54218\n",
      "44470.0     50838\n",
      "18760.0     49128\n",
      "27328.0     45106\n",
      "Name: n_clicks, dtype: int64\n"
     ]
    },
    {
     "data": {
      "image/png": "[encoded data removed]",
      "text/plain": [
       "<Figure size 432x288 with 1 Axes>"
      ]
     },
     "metadata": {
      "needs_background": "light"
     },
     "output_type": "display_data"
    }
   ],
   "source": [
    "# top-10 cities with most number of clicks\n",
    "\n",
    "df.groupby('city_id')['n_clicks'].sum().sort_values(ascending=False).iloc[:10].plot(kind='bar')\n",
    "print(df.groupby('city_id')['n_clicks'].sum().sort_values(ascending=False).iloc[:10])"
   ]
  },
  {
   "cell_type": "code",
   "execution_count": 17,
   "metadata": {},
   "outputs": [
    {
     "name": "stdout",
     "output_type": "stream",
     "text": [
      "city_id\n",
      "50168.0    192516.0\n",
      "44470.0    121841.0\n",
      "34798.0    110118.0\n",
      "30576.0    101001.0\n",
      "26874.0     83287.0\n",
      "46884.0     72344.0\n",
      "31786.0     72014.0\n",
      "53222.0     64111.0\n",
      "53604.0     60811.0\n",
      "63440.0     58504.0\n",
      "Name: avg_rating, dtype: float64\n"
     ]
    },
    {
     "data": {
      "image/png": "[encoded data removed]",
      "text/plain": [
       "<Figure size 432x288 with 1 Axes>"
      ]
     },
     "metadata": {
      "needs_background": "light"
     },
     "output_type": "display_data"
    }
   ],
   "source": [
    "df.groupby('city_id')['avg_rating'].sum().sort_values(ascending=False).iloc[:10].plot(kind='bar')\n",
    "print(df.groupby('city_id')['avg_rating'].sum().sort_values(ascending=False).iloc[:10])"
   ]
  },
  {
   "cell_type": "markdown",
   "metadata": {},
   "source": [
    "We could see that the cities with the hotels having most `n_clicks` are not the same as those whose hotels have a higher rating. Therefore I don't think that `avg_rating` is an important feature for our analysis. "
   ]
  },
  {
   "cell_type": "markdown",
   "metadata": {},
   "source": [
    "Let us have a look on top - 10 values of distances to the center feature.\n",
    "I would expect to have in top-10 very small values (short distance to the center is more\n",
    "attractive, hence more clickable)"
   ]
  },
  {
   "cell_type": "code",
   "execution_count": 18,
   "metadata": {},
   "outputs": [
    {
     "name": "stdout",
     "output_type": "stream",
     "text": [
      "distance_to_center\n",
      "0.0       20050\n",
      "294.0     14682\n",
      "2058.0    13958\n",
      "4857.0    13566\n",
      "811.0     12818\n",
      "1317.0    12806\n",
      "1017.0    11838\n",
      "741.0     11478\n",
      "936.0     11204\n",
      "1537.0    10750\n",
      "Name: n_clicks, dtype: int64\n"
     ]
    },
    {
     "data": {
      "image/png": "[encoded data removed]",
      "text/plain": [
       "<Figure size 432x288 with 1 Axes>"
      ]
     },
     "metadata": {
      "needs_background": "light"
     },
     "output_type": "display_data"
    }
   ],
   "source": [
    "df.groupby('distance_to_center')['n_clicks'].sum().sort_values(ascending=False).iloc[:10].plot(kind='bar')\n",
    "print(df.groupby('distance_to_center')['n_clicks'].sum().sort_values(ascending=False).iloc[:10])"
   ]
  },
  {
   "cell_type": "markdown",
   "metadata": {},
   "source": [
    "To spped up the features analysis we will check the correlation between numerical features in our data set between themselves and the number of clicks. This information is important to know as there are Machine Learning algorithms (for example, linear and logistic regression) that do not handle highly correlated input variables well."
   ]
  },
  {
   "cell_type": "code",
   "execution_count": 19,
   "metadata": {},
   "outputs": [
    {
     "data": {
      "image/png": "[encoded data removed]",
      "text/plain": [
       "<Figure size 648x504 with 2 Axes>"
      ]
     },
     "metadata": {
      "needs_background": "light"
     },
     "output_type": "display_data"
    }
   ],
   "source": [
    "plt.figure(figsize=(9, 7))\n",
    "g = sns.heatmap(df[[ u'city_id', u'content_score', u'n_images',\n",
    "       u'distance_to_center', u'avg_rating', u'stars', u'n_reviews',\n",
    "       u'avg_rank', u'avg_price', u'avg_saving_percent', u'n_clicks']].corr(), \n",
    "                annot=True,fmt = \".2f\", cmap = \"coolwarm\")"
   ]
  },
  {
   "cell_type": "markdown",
   "metadata": {},
   "source": [
    "A few features seems to correlate with `n_clicks`: `n_reviews`, `avg_saving_percent`,`content_score`,`stars`,`avg_rank`. Therefore we would expect it to have a big contribution to the classification.  "
   ]
  },
  {
   "cell_type": "code",
   "execution_count": 20,
   "metadata": {},
   "outputs": [
    {
     "data": {
      "text/plain": [
       "<matplotlib.axes._subplots.AxesSubplot at 0x7fdcff182a50>"
      ]
     },
     "execution_count": 20,
     "metadata": {},
     "output_type": "execute_result"
    },
    {
     "data": {
      "image/png": "[encoded data removed]",
      "text/plain": [
       "<Figure size 648x504 with 2 Axes>"
      ]
     },
     "metadata": {
      "needs_background": "light"
     },
     "output_type": "display_data"
    }
   ],
   "source": [
    "plt.figure(figsize=(9, 7))\n",
    "numerical = list(set(df.columns))\n",
    "corr_matrix = df[numerical].corr()\n",
    "sns.heatmap(corr_matrix)"
   ]
  },
  {
   "cell_type": "markdown",
   "metadata": {},
   "source": [
    "From these two correlation matrices, we could see that feature `stars` highly correlates with: `n_reviews`, `content score`,`saving percent` (multicollinearity hypothesis). At the same time, exactly these features correlate at most with `n_clicks`. So maybe it makes sense to experiment with deleting this column from a set.  Well, we do see a number of outliers from the box plots, however, would be correct to analyze is statistically through IQR."
   ]
  },
  {
   "cell_type": "code",
   "execution_count": 21,
   "metadata": {},
   "outputs": [],
   "source": [
    "# Coming back to outliers\n",
    "\n",
    "#sns.boxplot(x=df['n_images'])"
   ]
  },
  {
   "cell_type": "code",
   "execution_count": 22,
   "metadata": {},
   "outputs": [],
   "source": [
    "#sns.boxplot(x=df['n_reviews'])"
   ]
  },
  {
   "cell_type": "markdown",
   "metadata": {},
   "source": [
    "Well, we do see a number of outliers from the box plots, however, would be correct to analyze is statistically through IQR. Combine train and test in order delete outliers"
   ]
  },
  {
   "cell_type": "code",
   "execution_count": 23,
   "metadata": {},
   "outputs": [],
   "source": [
    "# Analyze outliers with H- spread\n",
    "\n",
    "def outliers(df):\n",
    "\n",
    "    Q1 = df.quantile(0.25)\n",
    "    Q3 = df.quantile(0.75)\n",
    "    IQR = Q3 - Q1\n",
    "    print(IQR)\n",
    "    \n",
    "    df_clear = df[~((df < (Q1 - 1.5 * IQR)) |(df > (Q3 + 1.5 * IQR))).any(axis=1)]\n",
    "    df_clear.reset_index(drop=True, inplace=True)\n",
    "    \n",
    "    return df_clear"
   ]
  },
  {
   "cell_type": "code",
   "execution_count": 24,
   "metadata": {},
   "outputs": [
    {
     "name": "stdout",
     "output_type": "stream",
     "text": [
      "city_id               105450.000\n",
      "content_score             14.000\n",
      "n_images                   2.000\n",
      "distance_to_center      3619.000\n",
      "avg_rating                 7.000\n",
      "stars                      3.000\n",
      "n_reviews                777.000\n",
      "avg_rank                   7.284\n",
      "avg_price                 69.880\n",
      "avg_saving_percent        10.000\n",
      "n_clicks                   2.000\n",
      "dtype: float64\n"
     ]
    },
    {
     "data": {
      "text/plain": [
       "(182689, 11)"
      ]
     },
     "execution_count": 24,
     "metadata": {},
     "output_type": "execute_result"
    }
   ],
   "source": [
    "data_train = outliers(df)\n",
    "data_train.shape"
   ]
  },
  {
   "cell_type": "code",
   "execution_count": 25,
   "metadata": {},
   "outputs": [
    {
     "data": {
      "text/plain": [
       "city_id                 348\n",
       "content_score           348\n",
       "n_images                349\n",
       "distance_to_center      355\n",
       "avg_rating            59162\n",
       "stars                   382\n",
       "n_reviews               355\n",
       "avg_rank                  0\n",
       "avg_price                92\n",
       "avg_saving_percent       92\n",
       "n_clicks                  0\n",
       "dtype: int64"
      ]
     },
     "execution_count": 25,
     "metadata": {},
     "output_type": "execute_result"
    }
   ],
   "source": [
    "data_train.isnull().sum()"
   ]
  },
  {
   "cell_type": "markdown",
   "metadata": {},
   "source": [
    "Train data is being dramatically reduced due to removing outlier. Later, a more subtle approach can be tested as a hypothesis. , for now, we proceed with reliable Tukey method. The column `avg_rank` has the most missing values, therefore we need to think about data imputation."
   ]
  },
  {
   "cell_type": "markdown",
   "metadata": {},
   "source": [
    "### 2) Filling missing values"
   ]
  },
  {
   "cell_type": "code",
   "execution_count": 26,
   "metadata": {},
   "outputs": [
    {
     "name": "stderr",
     "output_type": "stream",
     "text": [
      "/usr/local/lib/python2.7/dist-packages/ipykernel_launcher.py:2: FutureWarning: Sorting because non-concatenation axis is not aligned. A future version\n",
      "of pandas will change to not sort by default.\n",
      "\n",
      "To accept the future behavior, pass 'sort=False'.\n",
      "\n",
      "To retain the current behavior and silence the warning, pass 'sort=True'.\n",
      "\n",
      "  \n"
     ]
    },
    {
     "data": {
      "text/html": [
       "<div>\n",
       "<style scoped>\n",
       "    .dataframe tbody tr th:only-of-type {\n",
       "        vertical-align: middle;\n",
       "    }\n",
       "\n",
       "    .dataframe tbody tr th {\n",
       "        vertical-align: top;\n",
       "    }\n",
       "\n",
       "    .dataframe thead th {\n",
       "        text-align: right;\n",
       "    }\n",
       "</style>\n",
       "<table border=\"1\" class=\"dataframe\">\n",
       "  <thead>\n",
       "    <tr style=\"text-align: right;\">\n",
       "      <th></th>\n",
       "      <th>avg_price</th>\n",
       "      <th>avg_rank</th>\n",
       "      <th>avg_rating</th>\n",
       "      <th>avg_saving_percent</th>\n",
       "      <th>city_id</th>\n",
       "      <th>content_score</th>\n",
       "      <th>distance_to_center</th>\n",
       "      <th>n_clicks</th>\n",
       "      <th>n_images</th>\n",
       "      <th>n_reviews</th>\n",
       "      <th>stars</th>\n",
       "    </tr>\n",
       "  </thead>\n",
       "  <tbody>\n",
       "    <tr>\n",
       "      <th>0</th>\n",
       "      <td>81.64</td>\n",
       "      <td>17.550</td>\n",
       "      <td>77.0</td>\n",
       "      <td>18.0</td>\n",
       "      <td>134520.0</td>\n",
       "      <td>70.0</td>\n",
       "      <td>1199.0</td>\n",
       "      <td>0.0</td>\n",
       "      <td>2.0</td>\n",
       "      <td>861.0</td>\n",
       "      <td>4.0</td>\n",
       "    </tr>\n",
       "    <tr>\n",
       "      <th>1</th>\n",
       "      <td>96.70</td>\n",
       "      <td>18.391</td>\n",
       "      <td>87.0</td>\n",
       "      <td>0.0</td>\n",
       "      <td>52142.0</td>\n",
       "      <td>58.0</td>\n",
       "      <td>1249.0</td>\n",
       "      <td>0.0</td>\n",
       "      <td>2.0</td>\n",
       "      <td>1683.0</td>\n",
       "      <td>0.0</td>\n",
       "    </tr>\n",
       "    <tr>\n",
       "      <th>2</th>\n",
       "      <td>99.41</td>\n",
       "      <td>20.451</td>\n",
       "      <td>87.0</td>\n",
       "      <td>8.0</td>\n",
       "      <td>63296.0</td>\n",
       "      <td>56.0</td>\n",
       "      <td>391.0</td>\n",
       "      <td>2.0</td>\n",
       "      <td>2.0</td>\n",
       "      <td>198.0</td>\n",
       "      <td>0.0</td>\n",
       "    </tr>\n",
       "    <tr>\n",
       "      <th>3</th>\n",
       "      <td>49.12</td>\n",
       "      <td>18.640</td>\n",
       "      <td>88.0</td>\n",
       "      <td>0.0</td>\n",
       "      <td>138802.0</td>\n",
       "      <td>50.0</td>\n",
       "      <td>603.0</td>\n",
       "      <td>0.0</td>\n",
       "      <td>0.0</td>\n",
       "      <td>141.0</td>\n",
       "      <td>0.0</td>\n",
       "    </tr>\n",
       "    <tr>\n",
       "      <th>4</th>\n",
       "      <td>21.38</td>\n",
       "      <td>19.000</td>\n",
       "      <td>NaN</td>\n",
       "      <td>0.0</td>\n",
       "      <td>208612.0</td>\n",
       "      <td>48.0</td>\n",
       "      <td>1795.0</td>\n",
       "      <td>0.0</td>\n",
       "      <td>1.0</td>\n",
       "      <td>0.0</td>\n",
       "      <td>0.0</td>\n",
       "    </tr>\n",
       "  </tbody>\n",
       "</table>\n",
       "</div>"
      ],
      "text/plain": [
       "   avg_price  avg_rank  avg_rating  avg_saving_percent   city_id  \\\n",
       "0      81.64    17.550        77.0                18.0  134520.0   \n",
       "1      96.70    18.391        87.0                 0.0   52142.0   \n",
       "2      99.41    20.451        87.0                 8.0   63296.0   \n",
       "3      49.12    18.640        88.0                 0.0  138802.0   \n",
       "4      21.38    19.000         NaN                 0.0  208612.0   \n",
       "\n",
       "   content_score  distance_to_center  n_clicks  n_images  n_reviews  stars  \n",
       "0           70.0              1199.0       0.0       2.0      861.0    4.0  \n",
       "1           58.0              1249.0       0.0       2.0     1683.0    0.0  \n",
       "2           56.0               391.0       2.0       2.0      198.0    0.0  \n",
       "3           50.0               603.0       0.0       0.0      141.0    0.0  \n",
       "4           48.0              1795.0       0.0       1.0        0.0    0.0  "
      ]
     },
     "execution_count": 26,
     "metadata": {},
     "output_type": "execute_result"
    }
   ],
   "source": [
    "train_len = len(data_train)\n",
    "dataset =  pd.concat(objs=[data_train, data_test], axis=0).reset_index(drop=True)\n",
    "dataset.head(5)"
   ]
  },
  {
   "cell_type": "code",
   "execution_count": 27,
   "metadata": {},
   "outputs": [
    {
     "name": "stderr",
     "output_type": "stream",
     "text": [
      "/usr/local/lib/python2.7/dist-packages/ipykernel_launcher.py:5: FutureWarning: '.reindex_axis' is deprecated and will be removed in a future version. Use '.reindex' instead.\n",
      "  \"\"\"\n"
     ]
    },
    {
     "data": {
      "text/html": [
       "<div>\n",
       "<style scoped>\n",
       "    .dataframe tbody tr th:only-of-type {\n",
       "        vertical-align: middle;\n",
       "    }\n",
       "\n",
       "    .dataframe tbody tr th {\n",
       "        vertical-align: top;\n",
       "    }\n",
       "\n",
       "    .dataframe thead th {\n",
       "        text-align: right;\n",
       "    }\n",
       "</style>\n",
       "<table border=\"1\" class=\"dataframe\">\n",
       "  <thead>\n",
       "    <tr style=\"text-align: right;\">\n",
       "      <th></th>\n",
       "      <th>city_id</th>\n",
       "      <th>content_score</th>\n",
       "      <th>n_images</th>\n",
       "      <th>distance_to_center</th>\n",
       "      <th>avg_rating</th>\n",
       "      <th>stars</th>\n",
       "      <th>n_reviews</th>\n",
       "      <th>avg_rank</th>\n",
       "      <th>avg_price</th>\n",
       "      <th>avg_saving_percent</th>\n",
       "      <th>n_clicks</th>\n",
       "    </tr>\n",
       "  </thead>\n",
       "  <tbody>\n",
       "    <tr>\n",
       "      <th>0</th>\n",
       "      <td>134520.0</td>\n",
       "      <td>70.0</td>\n",
       "      <td>2.0</td>\n",
       "      <td>1199.0</td>\n",
       "      <td>77.0</td>\n",
       "      <td>4.0</td>\n",
       "      <td>861.0</td>\n",
       "      <td>17.550</td>\n",
       "      <td>81.64</td>\n",
       "      <td>18.0</td>\n",
       "      <td>0.0</td>\n",
       "    </tr>\n",
       "    <tr>\n",
       "      <th>1</th>\n",
       "      <td>52142.0</td>\n",
       "      <td>58.0</td>\n",
       "      <td>2.0</td>\n",
       "      <td>1249.0</td>\n",
       "      <td>87.0</td>\n",
       "      <td>0.0</td>\n",
       "      <td>1683.0</td>\n",
       "      <td>18.391</td>\n",
       "      <td>96.70</td>\n",
       "      <td>0.0</td>\n",
       "      <td>0.0</td>\n",
       "    </tr>\n",
       "    <tr>\n",
       "      <th>2</th>\n",
       "      <td>63296.0</td>\n",
       "      <td>56.0</td>\n",
       "      <td>2.0</td>\n",
       "      <td>391.0</td>\n",
       "      <td>87.0</td>\n",
       "      <td>0.0</td>\n",
       "      <td>198.0</td>\n",
       "      <td>20.451</td>\n",
       "      <td>99.41</td>\n",
       "      <td>8.0</td>\n",
       "      <td>2.0</td>\n",
       "    </tr>\n",
       "    <tr>\n",
       "      <th>3</th>\n",
       "      <td>138802.0</td>\n",
       "      <td>50.0</td>\n",
       "      <td>0.0</td>\n",
       "      <td>603.0</td>\n",
       "      <td>88.0</td>\n",
       "      <td>0.0</td>\n",
       "      <td>141.0</td>\n",
       "      <td>18.640</td>\n",
       "      <td>49.12</td>\n",
       "      <td>0.0</td>\n",
       "      <td>0.0</td>\n",
       "    </tr>\n",
       "    <tr>\n",
       "      <th>4</th>\n",
       "      <td>208612.0</td>\n",
       "      <td>48.0</td>\n",
       "      <td>1.0</td>\n",
       "      <td>1795.0</td>\n",
       "      <td>NaN</td>\n",
       "      <td>0.0</td>\n",
       "      <td>0.0</td>\n",
       "      <td>19.000</td>\n",
       "      <td>21.38</td>\n",
       "      <td>0.0</td>\n",
       "      <td>0.0</td>\n",
       "    </tr>\n",
       "  </tbody>\n",
       "</table>\n",
       "</div>"
      ],
      "text/plain": [
       "    city_id  content_score  n_images  distance_to_center  avg_rating  stars  \\\n",
       "0  134520.0           70.0       2.0              1199.0        77.0    4.0   \n",
       "1   52142.0           58.0       2.0              1249.0        87.0    0.0   \n",
       "2   63296.0           56.0       2.0               391.0        87.0    0.0   \n",
       "3  138802.0           50.0       0.0               603.0        88.0    0.0   \n",
       "4  208612.0           48.0       1.0              1795.0         NaN    0.0   \n",
       "\n",
       "   n_reviews  avg_rank  avg_price  avg_saving_percent  n_clicks  \n",
       "0      861.0    17.550      81.64                18.0       0.0  \n",
       "1     1683.0    18.391      96.70                 0.0       0.0  \n",
       "2      198.0    20.451      99.41                 8.0       2.0  \n",
       "3      141.0    18.640      49.12                 0.0       0.0  \n",
       "4        0.0    19.000      21.38                 0.0       0.0  "
      ]
     },
     "execution_count": 27,
     "metadata": {},
     "output_type": "execute_result"
    }
   ],
   "source": [
    "# Reindex colums since pd.concat reorder columns (the reason is that we creating \n",
    "# DataFrames out of dictionaries. Dictionaries are a unordered which means the keys do \n",
    "# not have a specific order.) \n",
    "\n",
    "dataset = dataset.reindex_axis(data_train.columns, axis = 1)\n",
    "dataset.head(5)"
   ]
  },
  {
   "cell_type": "code",
   "execution_count": 28,
   "metadata": {},
   "outputs": [
    {
     "data": {
      "text/plain": [
       "city_id                  503\n",
       "content_score            503\n",
       "n_images                 505\n",
       "distance_to_center       518\n",
       "avg_rating             95792\n",
       "stars                    557\n",
       "n_reviews                518\n",
       "avg_rank                   0\n",
       "avg_price                150\n",
       "avg_saving_percent       150\n",
       "n_clicks              132162\n",
       "dtype: int64"
      ]
     },
     "execution_count": 28,
     "metadata": {},
     "output_type": "execute_result"
    }
   ],
   "source": [
    "dataset.isnull().sum()"
   ]
  },
  {
   "cell_type": "markdown",
   "metadata": {},
   "source": [
    "We can see that the majority of columns have a relatively small amount of zero values. Therefore they can be replaced by mean value without loss of precision. However, in `avg_rating` column, almost 45% of values are missed. Simply replacing it with a mean of column maybe not the best strategy. What can be done is median `avg_rating` of similar rows according to `content_score`, `avg_price` and `avg_saving_percent` (most correlated with `avg_rating` features accorfin to correlation matrix)"
   ]
  },
  {
   "cell_type": "markdown",
   "metadata": {},
   "source": [
    "#### 2.1) First approach. \n",
    "\n",
    "We will get rid of all samples that contain any Nan values. That can only be conducted separately on the train set."
   ]
  },
  {
   "cell_type": "code",
   "execution_count": 29,
   "metadata": {},
   "outputs": [
    {
     "data": {
      "text/plain": [
       "(123489, 11)"
      ]
     },
     "execution_count": 29,
     "metadata": {},
     "output_type": "execute_result"
    }
   ],
   "source": [
    "data_train_cleared_nan = data_train.dropna().reset_index(drop=True)\n",
    "data_train_cleared_nan.shape"
   ]
  },
  {
   "cell_type": "code",
   "execution_count": 30,
   "metadata": {},
   "outputs": [
    {
     "data": {
      "text/plain": [
       "city_id               0\n",
       "content_score         0\n",
       "n_images              0\n",
       "distance_to_center    0\n",
       "avg_rating            0\n",
       "stars                 0\n",
       "n_reviews             0\n",
       "avg_rank              0\n",
       "avg_price             0\n",
       "avg_saving_percent    0\n",
       "n_clicks              0\n",
       "dtype: int64"
      ]
     },
     "execution_count": 30,
     "metadata": {},
     "output_type": "execute_result"
    }
   ],
   "source": [
    "data_train_cleared_nan.isnull().sum()"
   ]
  },
  {
   "cell_type": "markdown",
   "metadata": {},
   "source": [
    "After removing we have lost around 30% of the train data, let us see if we could conduct more subtle imputation."
   ]
  },
  {
   "cell_type": "markdown",
   "metadata": {},
   "source": [
    "#### 2.2) Second approach"
   ]
  },
  {
   "cell_type": "markdown",
   "metadata": {},
   "source": [
    "Lets start with subtle imputation of `avg_rating` column with median avg_rating of similar rows according to `avg_price`,`content_score`,`avg_saving_percent`. These columns were chosen according to the correlation matrix above, a feature which are most correlated with `avg_rating`."
   ]
  },
  {
   "cell_type": "code",
   "execution_count": 31,
   "metadata": {},
   "outputs": [
    {
     "data": {
      "text/plain": [
       "city_id                  503\n",
       "content_score            503\n",
       "n_images                 505\n",
       "distance_to_center       518\n",
       "avg_rating             95792\n",
       "stars                    557\n",
       "n_reviews                518\n",
       "avg_rank                   0\n",
       "avg_price                150\n",
       "avg_saving_percent       150\n",
       "n_clicks              132162\n",
       "dtype: int64"
      ]
     },
     "execution_count": 31,
     "metadata": {},
     "output_type": "execute_result"
    }
   ],
   "source": [
    "dataset.isnull().sum()"
   ]
  },
  {
   "cell_type": "code",
   "execution_count": 32,
   "metadata": {},
   "outputs": [
    {
     "name": "stdout",
     "output_type": "stream",
     "text": [
      "95792\n"
     ]
    }
   ],
   "source": [
    "index_Nan_Avg_rating = list(dataset['avg_rating'][dataset['avg_rating'].isnull()].index)\n",
    "print(len(index_Nan_Avg_rating))"
   ]
  },
  {
   "cell_type": "code",
   "execution_count": 33,
   "metadata": {},
   "outputs": [
    {
     "name": "stderr",
     "output_type": "stream",
     "text": [
      "/upb/users/s/ssmirnov/profiles/unix/imt/.local/lib/python2.7/site-packages/numpy/lib/nanfunctions.py:1019: RuntimeWarning: Mean of empty slice\n",
      "  return np.nanmean(a, axis, out=out, keepdims=keepdims)\n"
     ]
    },
    {
     "name": "stdout",
     "output_type": "stream",
     "text": [
      "0         77.0\n",
      "1         87.0\n",
      "2         87.0\n",
      "3         88.0\n",
      "4         83.0\n",
      "5         80.0\n",
      "6         79.0\n",
      "7         87.0\n",
      "8         83.0\n",
      "9         82.0\n",
      "10        83.0\n",
      "11        76.0\n",
      "12        81.0\n",
      "13        87.0\n",
      "14        84.0\n",
      "15        82.0\n",
      "16        86.0\n",
      "17        83.0\n",
      "18        79.0\n",
      "19        73.0\n",
      "20        91.0\n",
      "21        83.0\n",
      "22        87.0\n",
      "23        81.0\n",
      "24        85.0\n",
      "25        86.0\n",
      "26        82.0\n",
      "27        78.0\n",
      "28        76.0\n",
      "29        79.0\n",
      "          ... \n",
      "314821    78.0\n",
      "314822    88.0\n",
      "314823    81.0\n",
      "314824    85.0\n",
      "314825    83.0\n",
      "314826    76.0\n",
      "314827    83.0\n",
      "314828    85.0\n",
      "314829    84.0\n",
      "314830    82.0\n",
      "314831    86.0\n",
      "314832    82.0\n",
      "314833    83.0\n",
      "314834    87.0\n",
      "314835    83.0\n",
      "314836    82.0\n",
      "314837    83.0\n",
      "314838    86.0\n",
      "314839    83.0\n",
      "314840    81.0\n",
      "314841    86.0\n",
      "314842    84.0\n",
      "314843    76.0\n",
      "314844    88.0\n",
      "314845    86.0\n",
      "314846    84.0\n",
      "314847    86.0\n",
      "314848    79.0\n",
      "314849    85.0\n",
      "314850    85.0\n",
      "Name: avg_rating, Length: 314851, dtype: float64\n"
     ]
    }
   ],
   "source": [
    "for i in index_Nan_Avg_rating:\n",
    "    \n",
    "    rating_med = dataset['avg_rating'].median()\n",
    "    rating_pred = dataset['avg_rating'][((dataset['avg_price'] == dataset.iloc[i]['avg_price']) & \n",
    "                               (dataset['content_score'] == dataset.iloc[i]['content_score']) & \n",
    "                              (dataset['avg_saving_percent'] == dataset.iloc[i]['avg_saving_percent']))].median()\n",
    "   \n",
    "    if not np.isnan(rating_pred) :\n",
    "        dataset['avg_rating'].iloc[i] = rating_pred\n",
    "        \n",
    "    else :\n",
    "        dataset['avg_rating'].iloc[i] = rating_med\n",
    "        \n",
    "print(dataset['avg_rating'])"
   ]
  },
  {
   "cell_type": "code",
   "execution_count": 34,
   "metadata": {},
   "outputs": [
    {
     "data": {
      "text/plain": [
       "city_id                  503\n",
       "content_score            503\n",
       "n_images                 505\n",
       "distance_to_center       518\n",
       "avg_rating                 0\n",
       "stars                    557\n",
       "n_reviews                518\n",
       "avg_rank                   0\n",
       "avg_price                150\n",
       "avg_saving_percent       150\n",
       "n_clicks              132162\n",
       "dtype: int64"
      ]
     },
     "execution_count": 34,
     "metadata": {},
     "output_type": "execute_result"
    }
   ],
   "source": [
    "dataset.isnull().sum()"
   ]
  },
  {
   "cell_type": "markdown",
   "metadata": {},
   "source": [
    "Since the small proportion of the data is missing and we have already removed outliers, lets use 'mean' for imputation."
   ]
  },
  {
   "cell_type": "code",
   "execution_count": 35,
   "metadata": {},
   "outputs": [
    {
     "data": {
      "text/plain": [
       "city_id               0\n",
       "content_score         0\n",
       "n_images              0\n",
       "distance_to_center    0\n",
       "avg_rating            0\n",
       "stars                 0\n",
       "n_reviews             0\n",
       "avg_rank              0\n",
       "avg_price             0\n",
       "avg_saving_percent    0\n",
       "n_clicks              0\n",
       "dtype: int64"
      ]
     },
     "execution_count": 35,
     "metadata": {},
     "output_type": "execute_result"
    }
   ],
   "source": [
    "dataset_imputed_nan = dataset.fillna(dataset.mean())\n",
    "dataset_imputed_nan.isna().sum()"
   ]
  },
  {
   "cell_type": "code",
   "execution_count": 36,
   "metadata": {},
   "outputs": [],
   "source": [
    "# Save the obtained data\n",
    "\n",
    "dataset_imputed_nan.to_csv('dataset_imputed_nan.csv',sep=',')"
   ]
  },
  {
   "cell_type": "markdown",
   "metadata": {},
   "source": [
    "We cleared the data and now it makes sense to train some models to see which data imputation approach is giving a better result and to choose proper learning algorithm."
   ]
  },
  {
   "cell_type": "markdown",
   "metadata": {},
   "source": [
    "### 3) Baseline Training model"
   ]
  },
  {
   "cell_type": "code",
   "execution_count": 37,
   "metadata": {},
   "outputs": [],
   "source": [
    "# We need to split our 'dataset' back into train and test \n",
    "\n",
    "data_train_impured_nan = dataset_imputed_nan[:train_len]\n",
    "data_test = dataset_imputed_nan[train_len:].reset_index(drop=True)\n",
    "\n",
    "# delete simulated 'n_clicks' from test set\n",
    "\n",
    "data_test.drop(['n_clicks'], axis=1, inplace=True)"
   ]
  },
  {
   "cell_type": "code",
   "execution_count": 38,
   "metadata": {},
   "outputs": [
    {
     "data": {
      "text/html": [
       "<div>\n",
       "<style scoped>\n",
       "    .dataframe tbody tr th:only-of-type {\n",
       "        vertical-align: middle;\n",
       "    }\n",
       "\n",
       "    .dataframe tbody tr th {\n",
       "        vertical-align: top;\n",
       "    }\n",
       "\n",
       "    .dataframe thead th {\n",
       "        text-align: right;\n",
       "    }\n",
       "</style>\n",
       "<table border=\"1\" class=\"dataframe\">\n",
       "  <thead>\n",
       "    <tr style=\"text-align: right;\">\n",
       "      <th></th>\n",
       "      <th>city_id</th>\n",
       "      <th>content_score</th>\n",
       "      <th>n_images</th>\n",
       "      <th>distance_to_center</th>\n",
       "      <th>avg_rating</th>\n",
       "      <th>stars</th>\n",
       "      <th>n_reviews</th>\n",
       "      <th>avg_rank</th>\n",
       "      <th>avg_price</th>\n",
       "      <th>avg_saving_percent</th>\n",
       "      <th>n_clicks</th>\n",
       "    </tr>\n",
       "  </thead>\n",
       "  <tbody>\n",
       "    <tr>\n",
       "      <th>0</th>\n",
       "      <td>134520.0</td>\n",
       "      <td>70.0</td>\n",
       "      <td>2.0</td>\n",
       "      <td>1199.0</td>\n",
       "      <td>77.0</td>\n",
       "      <td>4.0</td>\n",
       "      <td>861.0</td>\n",
       "      <td>17.550</td>\n",
       "      <td>81.64</td>\n",
       "      <td>18.0</td>\n",
       "      <td>0</td>\n",
       "    </tr>\n",
       "    <tr>\n",
       "      <th>1</th>\n",
       "      <td>52142.0</td>\n",
       "      <td>58.0</td>\n",
       "      <td>2.0</td>\n",
       "      <td>1249.0</td>\n",
       "      <td>87.0</td>\n",
       "      <td>0.0</td>\n",
       "      <td>1683.0</td>\n",
       "      <td>18.391</td>\n",
       "      <td>96.70</td>\n",
       "      <td>0.0</td>\n",
       "      <td>0</td>\n",
       "    </tr>\n",
       "    <tr>\n",
       "      <th>2</th>\n",
       "      <td>63296.0</td>\n",
       "      <td>56.0</td>\n",
       "      <td>2.0</td>\n",
       "      <td>391.0</td>\n",
       "      <td>87.0</td>\n",
       "      <td>0.0</td>\n",
       "      <td>198.0</td>\n",
       "      <td>20.451</td>\n",
       "      <td>99.41</td>\n",
       "      <td>8.0</td>\n",
       "      <td>2</td>\n",
       "    </tr>\n",
       "    <tr>\n",
       "      <th>3</th>\n",
       "      <td>138802.0</td>\n",
       "      <td>50.0</td>\n",
       "      <td>0.0</td>\n",
       "      <td>603.0</td>\n",
       "      <td>88.0</td>\n",
       "      <td>0.0</td>\n",
       "      <td>141.0</td>\n",
       "      <td>18.640</td>\n",
       "      <td>49.12</td>\n",
       "      <td>0.0</td>\n",
       "      <td>0</td>\n",
       "    </tr>\n",
       "    <tr>\n",
       "      <th>4</th>\n",
       "      <td>208612.0</td>\n",
       "      <td>48.0</td>\n",
       "      <td>1.0</td>\n",
       "      <td>1795.0</td>\n",
       "      <td>83.0</td>\n",
       "      <td>0.0</td>\n",
       "      <td>0.0</td>\n",
       "      <td>19.000</td>\n",
       "      <td>21.38</td>\n",
       "      <td>0.0</td>\n",
       "      <td>0</td>\n",
       "    </tr>\n",
       "  </tbody>\n",
       "</table>\n",
       "</div>"
      ],
      "text/plain": [
       "    city_id  content_score  n_images  distance_to_center  avg_rating  stars  \\\n",
       "0  134520.0           70.0       2.0              1199.0        77.0    4.0   \n",
       "1   52142.0           58.0       2.0              1249.0        87.0    0.0   \n",
       "2   63296.0           56.0       2.0               391.0        87.0    0.0   \n",
       "3  138802.0           50.0       0.0               603.0        88.0    0.0   \n",
       "4  208612.0           48.0       1.0              1795.0        83.0    0.0   \n",
       "\n",
       "   n_reviews  avg_rank  avg_price  avg_saving_percent  n_clicks  \n",
       "0      861.0    17.550      81.64                18.0         0  \n",
       "1     1683.0    18.391      96.70                 0.0         0  \n",
       "2      198.0    20.451      99.41                 8.0         2  \n",
       "3      141.0    18.640      49.12                 0.0         0  \n",
       "4        0.0    19.000      21.38                 0.0         0  "
      ]
     },
     "execution_count": 38,
     "metadata": {},
     "output_type": "execute_result"
    }
   ],
   "source": [
    "dataset_imputed_nan['n_clicks'] = dataset_imputed_nan['n_clicks'].astype('int64') \n",
    "dataset_imputed_nan.head(5)"
   ]
  },
  {
   "cell_type": "code",
   "execution_count": 39,
   "metadata": {},
   "outputs": [
    {
     "data": {
      "text/html": [
       "<div>\n",
       "<style scoped>\n",
       "    .dataframe tbody tr th:only-of-type {\n",
       "        vertical-align: middle;\n",
       "    }\n",
       "\n",
       "    .dataframe tbody tr th {\n",
       "        vertical-align: top;\n",
       "    }\n",
       "\n",
       "    .dataframe thead th {\n",
       "        text-align: right;\n",
       "    }\n",
       "</style>\n",
       "<table border=\"1\" class=\"dataframe\">\n",
       "  <thead>\n",
       "    <tr style=\"text-align: right;\">\n",
       "      <th></th>\n",
       "      <th>city_id</th>\n",
       "      <th>content_score</th>\n",
       "      <th>n_images</th>\n",
       "      <th>distance_to_center</th>\n",
       "      <th>avg_rating</th>\n",
       "      <th>stars</th>\n",
       "      <th>n_reviews</th>\n",
       "      <th>avg_rank</th>\n",
       "      <th>avg_price</th>\n",
       "      <th>avg_saving_percent</th>\n",
       "      <th>n_clicks</th>\n",
       "    </tr>\n",
       "  </thead>\n",
       "  <tbody>\n",
       "    <tr>\n",
       "      <th>0</th>\n",
       "      <td>134520.0</td>\n",
       "      <td>70.0</td>\n",
       "      <td>2.0</td>\n",
       "      <td>1199.0</td>\n",
       "      <td>77.0</td>\n",
       "      <td>4.0</td>\n",
       "      <td>861.0</td>\n",
       "      <td>17.550</td>\n",
       "      <td>81.64</td>\n",
       "      <td>18.0</td>\n",
       "      <td>0</td>\n",
       "    </tr>\n",
       "    <tr>\n",
       "      <th>1</th>\n",
       "      <td>52142.0</td>\n",
       "      <td>58.0</td>\n",
       "      <td>2.0</td>\n",
       "      <td>1249.0</td>\n",
       "      <td>87.0</td>\n",
       "      <td>0.0</td>\n",
       "      <td>1683.0</td>\n",
       "      <td>18.391</td>\n",
       "      <td>96.70</td>\n",
       "      <td>0.0</td>\n",
       "      <td>0</td>\n",
       "    </tr>\n",
       "    <tr>\n",
       "      <th>2</th>\n",
       "      <td>63296.0</td>\n",
       "      <td>56.0</td>\n",
       "      <td>2.0</td>\n",
       "      <td>391.0</td>\n",
       "      <td>87.0</td>\n",
       "      <td>0.0</td>\n",
       "      <td>198.0</td>\n",
       "      <td>20.451</td>\n",
       "      <td>99.41</td>\n",
       "      <td>8.0</td>\n",
       "      <td>2</td>\n",
       "    </tr>\n",
       "    <tr>\n",
       "      <th>3</th>\n",
       "      <td>138802.0</td>\n",
       "      <td>50.0</td>\n",
       "      <td>0.0</td>\n",
       "      <td>603.0</td>\n",
       "      <td>88.0</td>\n",
       "      <td>0.0</td>\n",
       "      <td>141.0</td>\n",
       "      <td>18.640</td>\n",
       "      <td>49.12</td>\n",
       "      <td>0.0</td>\n",
       "      <td>0</td>\n",
       "    </tr>\n",
       "    <tr>\n",
       "      <th>4</th>\n",
       "      <td>54248.0</td>\n",
       "      <td>50.0</td>\n",
       "      <td>0.0</td>\n",
       "      <td>5954.0</td>\n",
       "      <td>80.0</td>\n",
       "      <td>0.0</td>\n",
       "      <td>102.0</td>\n",
       "      <td>15.686</td>\n",
       "      <td>51.19</td>\n",
       "      <td>0.0</td>\n",
       "      <td>2</td>\n",
       "    </tr>\n",
       "  </tbody>\n",
       "</table>\n",
       "</div>"
      ],
      "text/plain": [
       "    city_id  content_score  n_images  distance_to_center  avg_rating  stars  \\\n",
       "0  134520.0           70.0       2.0              1199.0        77.0    4.0   \n",
       "1   52142.0           58.0       2.0              1249.0        87.0    0.0   \n",
       "2   63296.0           56.0       2.0               391.0        87.0    0.0   \n",
       "3  138802.0           50.0       0.0               603.0        88.0    0.0   \n",
       "4   54248.0           50.0       0.0              5954.0        80.0    0.0   \n",
       "\n",
       "   n_reviews  avg_rank  avg_price  avg_saving_percent  n_clicks  \n",
       "0      861.0    17.550      81.64                18.0         0  \n",
       "1     1683.0    18.391      96.70                 0.0         0  \n",
       "2      198.0    20.451      99.41                 8.0         2  \n",
       "3      141.0    18.640      49.12                 0.0         0  \n",
       "4      102.0    15.686      51.19                 0.0         2  "
      ]
     },
     "execution_count": 39,
     "metadata": {},
     "output_type": "execute_result"
    }
   ],
   "source": [
    "data_train_cleared_nan.head(5)"
   ]
  },
  {
   "cell_type": "code",
   "execution_count": 40,
   "metadata": {},
   "outputs": [
    {
     "data": {
      "text/plain": [
       "((182689, 11), (132162, 10))"
      ]
     },
     "execution_count": 40,
     "metadata": {},
     "output_type": "execute_result"
    }
   ],
   "source": [
    "data_train_impured_nan.shape, data_test.shape"
   ]
  },
  {
   "cell_type": "code",
   "execution_count": 41,
   "metadata": {},
   "outputs": [],
   "source": [
    "# Make a distionary with features\n",
    "\n",
    "def features_importance(df):\n",
    "\n",
    "    Y = df.iloc[:,-1]\n",
    "    X = df.drop([df.columns[-1]], axis=1)\n",
    "    \n",
    "    X_train, X_holdout, y_train, y_holdout = train_test_split(X.values, Y, test_size=0.3,\n",
    "    random_state=17)\n",
    "    \n",
    "    features = {\n",
    "    \"f1\":u'city_id', \n",
    "    \"f2\":u'content_score', \n",
    "    \"f3\":u'n_images',\n",
    "    \"f4\":u'distance_to_center', \n",
    "    \"f5\":u'avg_rating', \n",
    "    \"f6\":u'stars', \n",
    "    \"f7\":u'n_reviews',\n",
    "    \"f8\":u'avg_rank', \n",
    "    \"f9\":u'avg_price', \n",
    "    \"f10\":u'avg_saving_percent'}\n",
    "    \n",
    "    forest = RandomForestRegressor(n_estimators=1000, max_features=10,\n",
    "                                    random_state=0,n_jobs=6)\n",
    "    \n",
    "    forest.fit(X_train,\n",
    "               y_train)\n",
    "    \n",
    "    importances = forest.feature_importances_\n",
    "    \n",
    "    indices = np.argsort(importances)[::-1]\n",
    "    \n",
    "    # Plot the feature importancies of the forest\n",
    "    num_to_plot = 10\n",
    "    feature_indices = [ind+1 for ind in indices[:num_to_plot]]\n",
    "    \n",
    "    # Print the feature ranking\n",
    "    print(\"Feature ranking:\")\n",
    "      \n",
    "    for f in range(num_to_plot):\n",
    "        print(\"%d. %s %f \" % (f + 1, \n",
    "                features[\"f\"+str(feature_indices[f])], \n",
    "                importances[indices[f]]))\n",
    "    plt.figure(figsize=(15,5))\n",
    "    plt.title(u\"Feature Importance\")\n",
    "    bars = plt.bar(range(num_to_plot), \n",
    "                   importances[indices[:num_to_plot]],\n",
    "           color=([str(i/float(num_to_plot+1)) \n",
    "                   for i in range(num_to_plot)]),\n",
    "                   align=\"center\")\n",
    "    ticks = plt.xticks(range(num_to_plot), \n",
    "                       feature_indices)\n",
    "    plt.xlim([-1, num_to_plot])\n",
    "    plt.legend(bars, [u''.join(features[\"f\"+str(i)]) \n",
    "                      for i in feature_indices]);"
   ]
  },
  {
   "cell_type": "code",
   "execution_count": 42,
   "metadata": {},
   "outputs": [
    {
     "name": "stdout",
     "output_type": "stream",
     "text": [
      "Feature ranking:\n",
      "1. avg_rank 0.185970 \n",
      "2. city_id 0.159259 \n",
      "3. avg_price 0.138318 \n",
      "4. distance_to_center 0.135464 \n",
      "5. n_reviews 0.122970 \n",
      "6. content_score 0.080839 \n",
      "7. avg_rating 0.078568 \n",
      "8. avg_saving_percent 0.040924 \n",
      "9. n_images 0.033636 \n",
      "10. stars 0.024051 \n"
     ]
    },
    {
     "data": {
      "image/png": "[encoded data removed]",
      "text/plain": [
       "<Figure size 1080x360 with 1 Axes>"
      ]
     },
     "metadata": {
      "needs_background": "light"
     },
     "output_type": "display_data"
    }
   ],
   "source": [
    "# Let us compare the feature importance for both data cleaning approaches\n",
    "\n",
    "features_importance(data_train_cleared_nan)"
   ]
  },
  {
   "cell_type": "code",
   "execution_count": 43,
   "metadata": {},
   "outputs": [
    {
     "name": "stdout",
     "output_type": "stream",
     "text": [
      "Feature ranking:\n",
      "1. avg_rank 0.197800 \n",
      "2. city_id 0.164698 \n",
      "3. avg_price 0.145732 \n",
      "4. distance_to_center 0.142285 \n",
      "5. n_reviews 0.109720 \n",
      "6. content_score 0.080049 \n",
      "7. avg_rating 0.071136 \n",
      "8. avg_saving_percent 0.036633 \n",
      "9. n_images 0.030203 \n",
      "10. stars 0.021743 \n"
     ]
    },
    {
     "data": {
      "image/png": "[encoded data removed]",
      "text/plain": [
       "<Figure size 1080x360 with 1 Axes>"
      ]
     },
     "metadata": {
      "needs_background": "light"
     },
     "output_type": "display_data"
    }
   ],
   "source": [
    "features_importance(data_train_impured_nan)"
   ]
  },
  {
   "cell_type": "markdown",
   "metadata": {},
   "source": [
    "By performing sklearn in-built feature performance analysis on our both training sets we see that according to the basic Random Forest model the most important features w.r.t `n_clicks` are: `avg_rank`,`city_id`,`avg_price`,`distance to the center`,`n_reviews`. Let us recall our correlation matrix and features which we thought would be helpful for classification: `n_reviews`, `avg_saving_percent`,`content_score`,`stars`,`avg_rank`. The once can see along with the feature we would expect to have `avg_rank` and `n_reviews` RF defined other two features to be relevant: `city_id`,`avg_price to the center`,`distance to the center`.\n",
    "I believe that one of the reasons why the results are differ is because of the parameters of the classifier. The model we took are very simple and supposed to be tuned."
   ]
  },
  {
   "cell_type": "markdown",
   "metadata": {},
   "source": [
    "### 4) Modeling"
   ]
  },
  {
   "cell_type": "markdown",
   "metadata": {},
   "source": [
    "In this section, we will build some models and test them. We start with very two simple algorithms DT and KNN in order to establish some baseline and to test whether imputation of 'Nan' is better than just simply deleting 'Nan's' rows."
   ]
  },
  {
   "cell_type": "code",
   "execution_count": 44,
   "metadata": {},
   "outputs": [],
   "source": [
    "# Firstly, we need to normalize our data since some of the classification algorithms\n",
    "# are quite sensitive\n",
    "\n",
    "\n",
    "columns_to_norm = ['city_id', u'content_score', u'n_images', u'distance_to_center',\n",
    "       u'avg_rating', u'stars', u'n_reviews', u'avg_rank', u'avg_price',\n",
    "       u'avg_saving_percent']\n",
    "\n",
    "data_train_cleared_nan_norm = data_train_cleared_nan[columns_to_norm].apply(lambda x: (x - x.min()) / (x.max() - x.min()))\n",
    "data_train_cleared_nan_norm = pd.concat([data_train_cleared_nan_norm, data_train_cleared_nan['n_clicks']],axis=1);\n",
    "\n",
    "data_train_impured_nan_norm = data_train_impured_nan[columns_to_norm].apply(lambda x: (x - x.min()) / (x.max() - x.min()))\n",
    "data_train_impured_nan_norm = pd.concat([data_train_impured_nan_norm, data_train_impured_nan['n_clicks']],axis=1);"
   ]
  },
  {
   "cell_type": "code",
   "execution_count": 45,
   "metadata": {},
   "outputs": [
    {
     "data": {
      "text/html": [
       "<div>\n",
       "<style scoped>\n",
       "    .dataframe tbody tr th:only-of-type {\n",
       "        vertical-align: middle;\n",
       "    }\n",
       "\n",
       "    .dataframe tbody tr th {\n",
       "        vertical-align: top;\n",
       "    }\n",
       "\n",
       "    .dataframe thead th {\n",
       "        text-align: right;\n",
       "    }\n",
       "</style>\n",
       "<table border=\"1\" class=\"dataframe\">\n",
       "  <thead>\n",
       "    <tr style=\"text-align: right;\">\n",
       "      <th></th>\n",
       "      <th>city_id</th>\n",
       "      <th>content_score</th>\n",
       "      <th>n_images</th>\n",
       "      <th>distance_to_center</th>\n",
       "      <th>avg_rating</th>\n",
       "      <th>stars</th>\n",
       "      <th>n_reviews</th>\n",
       "      <th>avg_rank</th>\n",
       "      <th>avg_price</th>\n",
       "      <th>avg_saving_percent</th>\n",
       "      <th>n_clicks</th>\n",
       "    </tr>\n",
       "  </thead>\n",
       "  <tbody>\n",
       "    <tr>\n",
       "      <th>0</th>\n",
       "      <td>0.452564</td>\n",
       "      <td>0.836364</td>\n",
       "      <td>0.500000</td>\n",
       "      <td>0.125013</td>\n",
       "      <td>0.296296</td>\n",
       "      <td>0.8</td>\n",
       "      <td>0.425837</td>\n",
       "      <td>0.585841</td>\n",
       "      <td>0.350171</td>\n",
       "      <td>0.72</td>\n",
       "      <td>0</td>\n",
       "    </tr>\n",
       "    <tr>\n",
       "      <th>1</th>\n",
       "      <td>0.172603</td>\n",
       "      <td>0.618182</td>\n",
       "      <td>0.500000</td>\n",
       "      <td>0.130226</td>\n",
       "      <td>0.666667</td>\n",
       "      <td>0.0</td>\n",
       "      <td>0.862839</td>\n",
       "      <td>0.615611</td>\n",
       "      <td>0.418095</td>\n",
       "      <td>0.00</td>\n",
       "      <td>0</td>\n",
       "    </tr>\n",
       "    <tr>\n",
       "      <th>2</th>\n",
       "      <td>0.210510</td>\n",
       "      <td>0.581818</td>\n",
       "      <td>0.500000</td>\n",
       "      <td>0.040767</td>\n",
       "      <td>0.666667</td>\n",
       "      <td>0.0</td>\n",
       "      <td>0.073365</td>\n",
       "      <td>0.688531</td>\n",
       "      <td>0.430318</td>\n",
       "      <td>0.32</td>\n",
       "      <td>2</td>\n",
       "    </tr>\n",
       "    <tr>\n",
       "      <th>3</th>\n",
       "      <td>0.467116</td>\n",
       "      <td>0.472727</td>\n",
       "      <td>0.166667</td>\n",
       "      <td>0.062871</td>\n",
       "      <td>0.703704</td>\n",
       "      <td>0.0</td>\n",
       "      <td>0.043062</td>\n",
       "      <td>0.624425</td>\n",
       "      <td>0.203500</td>\n",
       "      <td>0.00</td>\n",
       "      <td>0</td>\n",
       "    </tr>\n",
       "    <tr>\n",
       "      <th>4</th>\n",
       "      <td>0.179760</td>\n",
       "      <td>0.472727</td>\n",
       "      <td>0.166667</td>\n",
       "      <td>0.620790</td>\n",
       "      <td>0.407407</td>\n",
       "      <td>0.0</td>\n",
       "      <td>0.022329</td>\n",
       "      <td>0.519858</td>\n",
       "      <td>0.212836</td>\n",
       "      <td>0.00</td>\n",
       "      <td>2</td>\n",
       "    </tr>\n",
       "  </tbody>\n",
       "</table>\n",
       "</div>"
      ],
      "text/plain": [
       "    city_id  content_score  n_images  distance_to_center  avg_rating  stars  \\\n",
       "0  0.452564       0.836364  0.500000            0.125013    0.296296    0.8   \n",
       "1  0.172603       0.618182  0.500000            0.130226    0.666667    0.0   \n",
       "2  0.210510       0.581818  0.500000            0.040767    0.666667    0.0   \n",
       "3  0.467116       0.472727  0.166667            0.062871    0.703704    0.0   \n",
       "4  0.179760       0.472727  0.166667            0.620790    0.407407    0.0   \n",
       "\n",
       "   n_reviews  avg_rank  avg_price  avg_saving_percent  n_clicks  \n",
       "0   0.425837  0.585841   0.350171                0.72         0  \n",
       "1   0.862839  0.615611   0.418095                0.00         0  \n",
       "2   0.073365  0.688531   0.430318                0.32         2  \n",
       "3   0.043062  0.624425   0.203500                0.00         0  \n",
       "4   0.022329  0.519858   0.212836                0.00         2  "
      ]
     },
     "execution_count": 45,
     "metadata": {},
     "output_type": "execute_result"
    }
   ],
   "source": [
    "data_train_cleared_nan_norm.head(5)"
   ]
  },
  {
   "cell_type": "code",
   "execution_count": 46,
   "metadata": {},
   "outputs": [],
   "source": [
    "def simple_classific_models(df):\n",
    "    \n",
    "    \n",
    "    Y = df.iloc[:,-1]\n",
    "    X = df.drop([df.columns[-1]], axis=1)\n",
    "\n",
    "    X_train, X_holdout, y_train, y_holdout = train_test_split(X.values, Y, test_size=0.3,\n",
    "    random_state=17)    \n",
    "    \n",
    "    # Cross validate model with Kfold stratified cross val\n",
    "\n",
    "    random_state = 17\n",
    "    \n",
    "    \n",
    "    tree = DecisionTreeClassifier(random_state=random_state)\n",
    "    knn = KNeighborsClassifier()\n",
    "    forest = RandomForestClassifier(random_state=random_state)\n",
    "    \n",
    "    tree.fit(X_train, y_train)\n",
    "    knn.fit(X_train, y_train)\n",
    "    forest.fit(X_train, y_train)\n",
    "    \n",
    "    tree_pred = tree.predict(X_holdout)\n",
    "    knn_pred = knn.predict(X_holdout)\n",
    "    forest_pred = forest.predict(X_holdout)\n",
    "    \n",
    "    print(accuracy_score(y_holdout, tree_pred), accuracy_score(y_holdout, knn_pred),accuracy_score(y_holdout, forest_pred))"
   ]
  },
  {
   "cell_type": "markdown",
   "metadata": {},
   "source": [
    "Firstly, we tested which train dataset (cleared or imputed) gives a better result and we could see that with the big margin imputed dataset is better, hence we continue with it. Secondly, we see that KNN and RF outperform simple DT, but since the parameters are taken **by default** we treat the obtain data carefully. It will benefit a lot to conduct hyperparameter tuning. "
   ]
  },
  {
   "cell_type": "code",
   "execution_count": 47,
   "metadata": {},
   "outputs": [
    {
     "name": "stderr",
     "output_type": "stream",
     "text": [
      "/upb/users/s/ssmirnov/profiles/unix/imt/.local/lib/python2.7/site-packages/sklearn/ensemble/forest.py:248: FutureWarning: The default value of n_estimators will change from 10 in version 0.20 to 100 in 0.22.\n",
      "  \"10 in version 0.20 to 100 in 0.22.\", FutureWarning)\n"
     ]
    },
    {
     "name": "stdout",
     "output_type": "stream",
     "text": [
      "(0.6290387885658758, 0.7302615596404567, 0.7420034010851081)\n",
      "(0.6744211505829547, 0.7685332165599285, 0.779553706643312)\n"
     ]
    },
    {
     "data": {
      "text/plain": [
       "(None, None)"
      ]
     },
     "execution_count": 47,
     "metadata": {},
     "output_type": "execute_result"
    }
   ],
   "source": [
    "simple_classific_models(data_train_cleared_nan_norm),simple_classific_models(data_train_impured_nan_norm)"
   ]
  },
  {
   "cell_type": "markdown",
   "metadata": {},
   "source": [
    "**Since our target variable is sort of continuous, therefore it would make sense to tackle the problem as Regression one**"
   ]
  },
  {
   "cell_type": "code",
   "execution_count": 48,
   "metadata": {},
   "outputs": [],
   "source": [
    "def simple_regression_models(df):\n",
    "    \n",
    "    \n",
    "    Y = df.iloc[:,-1]\n",
    "    X = df.drop([df.columns[-1]], axis=1)\n",
    "\n",
    "    X_train, X_holdout, y_train, y_holdout = train_test_split(X.values, Y, test_size=0.3,\n",
    "    random_state=17)    \n",
    "    \n",
    "    # Cross validate model with Kfold stratified cross val\n",
    "\n",
    "    random_state = 17\n",
    "    \n",
    "    \n",
    "    tree = DecisionTreeRegressor(random_state=random_state)\n",
    "    knn = KNeighborsRegressor(n_neighbors=10)\n",
    "    forest = RandomForestRegressor(random_state=random_state)\n",
    "    \n",
    "    tree.fit(X_train, y_train)\n",
    "    knn.fit(X_train, y_train)\n",
    "    forest.fit(X_train, y_train)\n",
    "\n",
    "    tree_pred = tree.predict(X_holdout)\n",
    "    knn_pred = knn.predict(X_holdout)\n",
    "    forest_pred = forest.predict(X_holdout)\n",
    "    \n",
    "    # R2 score\n",
    "    \n",
    "    print(r2_score(y_holdout, tree_pred), r2_score(y_holdout, knn_pred), r2_score(y_holdout, forest_pred))"
   ]
  },
  {
   "cell_type": "code",
   "execution_count": 49,
   "metadata": {},
   "outputs": [
    {
     "name": "stdout",
     "output_type": "stream",
     "text": [
      "(-0.8755485298521575, -0.01974966188256655, -0.0009429827676121771)\n",
      "(-0.8222956033147077, -0.005433031633151009, 0.003887794184842641)\n"
     ]
    },
    {
     "data": {
      "text/plain": [
       "(None, None)"
      ]
     },
     "execution_count": 49,
     "metadata": {},
     "output_type": "execute_result"
    }
   ],
   "source": [
    "simple_regression_models(data_train_cleared_nan_norm),simple_regression_models(data_train_impured_nan_norm)"
   ]
  },
  {
   "cell_type": "markdown",
   "metadata": {},
   "source": [
    "Regression analysis proved again the aforementioned conclusions. So now lets just take RF and obtain our first baseline prediction."
   ]
  },
  {
   "cell_type": "code",
   "execution_count": 50,
   "metadata": {},
   "outputs": [
    {
     "data": {
      "text/html": [
       "<div>\n",
       "<style scoped>\n",
       "    .dataframe tbody tr th:only-of-type {\n",
       "        vertical-align: middle;\n",
       "    }\n",
       "\n",
       "    .dataframe tbody tr th {\n",
       "        vertical-align: top;\n",
       "    }\n",
       "\n",
       "    .dataframe thead th {\n",
       "        text-align: right;\n",
       "    }\n",
       "</style>\n",
       "<table border=\"1\" class=\"dataframe\">\n",
       "  <thead>\n",
       "    <tr style=\"text-align: right;\">\n",
       "      <th></th>\n",
       "      <th>city_id</th>\n",
       "      <th>content_score</th>\n",
       "      <th>n_images</th>\n",
       "      <th>distance_to_center</th>\n",
       "      <th>avg_rating</th>\n",
       "      <th>stars</th>\n",
       "      <th>n_reviews</th>\n",
       "      <th>avg_rank</th>\n",
       "      <th>avg_price</th>\n",
       "      <th>avg_saving_percent</th>\n",
       "    </tr>\n",
       "  </thead>\n",
       "  <tbody>\n",
       "    <tr>\n",
       "      <th>0</th>\n",
       "      <td>122750.0</td>\n",
       "      <td>58.0</td>\n",
       "      <td>2.0</td>\n",
       "      <td>11503.0</td>\n",
       "      <td>89.0</td>\n",
       "      <td>0.0</td>\n",
       "      <td>168.0</td>\n",
       "      <td>13.500</td>\n",
       "      <td>90.19</td>\n",
       "      <td>32.0</td>\n",
       "    </tr>\n",
       "    <tr>\n",
       "      <th>1</th>\n",
       "      <td>28134.0</td>\n",
       "      <td>68.0</td>\n",
       "      <td>4.0</td>\n",
       "      <td>938.0</td>\n",
       "      <td>81.0</td>\n",
       "      <td>5.0</td>\n",
       "      <td>735.0</td>\n",
       "      <td>13.667</td>\n",
       "      <td>98.27</td>\n",
       "      <td>19.0</td>\n",
       "    </tr>\n",
       "    <tr>\n",
       "      <th>2</th>\n",
       "      <td>30578.0</td>\n",
       "      <td>19.0</td>\n",
       "      <td>0.0</td>\n",
       "      <td>38982.0</td>\n",
       "      <td>83.0</td>\n",
       "      <td>0.0</td>\n",
       "      <td>0.0</td>\n",
       "      <td>20.462</td>\n",
       "      <td>48.77</td>\n",
       "      <td>0.0</td>\n",
       "    </tr>\n",
       "    <tr>\n",
       "      <th>3</th>\n",
       "      <td>54398.0</td>\n",
       "      <td>47.0</td>\n",
       "      <td>0.0</td>\n",
       "      <td>1683.0</td>\n",
       "      <td>80.0</td>\n",
       "      <td>0.0</td>\n",
       "      <td>69.0</td>\n",
       "      <td>15.000</td>\n",
       "      <td>72.32</td>\n",
       "      <td>0.0</td>\n",
       "    </tr>\n",
       "    <tr>\n",
       "      <th>4</th>\n",
       "      <td>63890.0</td>\n",
       "      <td>59.0</td>\n",
       "      <td>3.0</td>\n",
       "      <td>1299.0</td>\n",
       "      <td>80.0</td>\n",
       "      <td>3.0</td>\n",
       "      <td>1470.0</td>\n",
       "      <td>10.000</td>\n",
       "      <td>24.54</td>\n",
       "      <td>19.0</td>\n",
       "    </tr>\n",
       "  </tbody>\n",
       "</table>\n",
       "</div>"
      ],
      "text/plain": [
       "    city_id  content_score  n_images  distance_to_center  avg_rating  stars  \\\n",
       "0  122750.0           58.0       2.0             11503.0        89.0    0.0   \n",
       "1   28134.0           68.0       4.0               938.0        81.0    5.0   \n",
       "2   30578.0           19.0       0.0             38982.0        83.0    0.0   \n",
       "3   54398.0           47.0       0.0              1683.0        80.0    0.0   \n",
       "4   63890.0           59.0       3.0              1299.0        80.0    3.0   \n",
       "\n",
       "   n_reviews  avg_rank  avg_price  avg_saving_percent  \n",
       "0      168.0    13.500      90.19                32.0  \n",
       "1      735.0    13.667      98.27                19.0  \n",
       "2        0.0    20.462      48.77                 0.0  \n",
       "3       69.0    15.000      72.32                 0.0  \n",
       "4     1470.0    10.000      24.54                19.0  "
      ]
     },
     "execution_count": 50,
     "metadata": {},
     "output_type": "execute_result"
    }
   ],
   "source": [
    "data_test.head(5)"
   ]
  },
  {
   "cell_type": "code",
   "execution_count": 51,
   "metadata": {},
   "outputs": [],
   "source": [
    "# Lets obtain first (baseline) prediction for the test set\n",
    "\n",
    "data_train = data_train_impured_nan_norm\n",
    "\n",
    "Y = data_train.iloc[:,-1]\n",
    "X = data_train.drop([data_train.columns[-1]], axis=1)\n",
    "random_state = 17\n",
    "forest = RandomForestRegressor(random_state=random_state)\n",
    "forest.fit(X, Y)\n",
    "forest_pred = forest.predict(data_test)\n"
   ]
  },
  {
   "cell_type": "code",
   "execution_count": 52,
   "metadata": {},
   "outputs": [
    {
     "data": {
      "text/plain": [
       "132162"
      ]
     },
     "execution_count": 52,
     "metadata": {},
     "output_type": "execute_result"
    }
   ],
   "source": [
    "len(forest_pred)"
   ]
  },
  {
   "cell_type": "code",
   "execution_count": 53,
   "metadata": {},
   "outputs": [],
   "source": [
    "test_clicks = pd.Series(np.rint(forest.predict(data_test)), name=\"n_clicks\")\n",
    "\n",
    "results = pd.concat([IDtest,test_clicks],axis=1)\n",
    "\n",
    "results.to_csv('baseline_pred.csv', index=False)"
   ]
  },
  {
   "cell_type": "markdown",
   "metadata": {},
   "source": [
    "Lets compare 11 popular regressors and evaluate the R Squared metric of each of them by a stratified kfold cross validation procedure.\n",
    "\n",
    "- Decision Tree\n",
    "\n",
    "- AdaBoost\n",
    "\n",
    "- Random Forest\n",
    "\n",
    "- Extra Trees\n",
    "\n",
    "- Gradient Boosting\n",
    "\n",
    "- Bagging\n",
    "\n",
    "- KNN\n",
    "\n",
    "- SVR\n",
    "\n",
    "- Logistic regression\n",
    "\n",
    "- Lasso Regression\n",
    "\n",
    "- Ridge Regression"
   ]
  },
  {
   "cell_type": "code",
   "execution_count": 54,
   "metadata": {},
   "outputs": [],
   "source": [
    "# Modeling step Test different algorithms \n",
    "\n",
    "kfold = StratifiedKFold(n_splits=10)\n",
    "\n",
    "# Cross validate model with Kfold stratified cross val\n",
    "\n",
    "regressors = []\n",
    "\n",
    "regressors.append(DecisionTreeRegressor(random_state=random_state))\n",
    "regressors.append(AdaBoostRegressor(DecisionTreeRegressor(random_state=random_state)))\n",
    "regressors.append(RandomForestRegressor(random_state=random_state))\n",
    "regressors.append(ExtraTreesRegressor(random_state=random_state))\n",
    "regressors.append(GradientBoostingRegressor(random_state=random_state))\n",
    "regressors.append(BaggingRegressor(random_state=random_state))\n",
    "regressors.append(KNeighborsRegressor())\n",
    "regressors.append(LinearSVR(random_state=random_state))\n",
    "regressors.append(LogisticRegression(random_state = random_state))\n",
    "regressors.append(linear_model.Lasso(random_state = random_state))\n",
    "regressors.append(linear_model.Ridge(random_state = random_state))"
   ]
  },
  {
   "cell_type": "code",
   "execution_count": 55,
   "metadata": {},
   "outputs": [
    {
     "name": "stdout",
     "output_type": "stream",
     "text": [
      "DecisionTreeRegressor(criterion='mse', max_depth=None, max_features=None,\n",
      "           max_leaf_nodes=None, min_impurity_decrease=0.0,\n",
      "           min_impurity_split=None, min_samples_leaf=1,\n",
      "           min_samples_split=2, min_weight_fraction_leaf=0.0,\n",
      "           presort=False, random_state=17, splitter='best')\n",
      "AdaBoostRegressor(base_estimator=DecisionTreeRegressor(criterion='mse', max_depth=None, max_features=None,\n",
      "           max_leaf_nodes=None, min_impurity_decrease=0.0,\n",
      "           min_impurity_split=None, min_samples_leaf=1,\n",
      "           min_samples_split=2, min_weight_fraction_leaf=0.0,\n",
      "           presort=False, random_state=17, splitter='best'),\n",
      "         learning_rate=1.0, loss='linear', n_estimators=50,\n",
      "         random_state=None)\n",
      "RandomForestRegressor(bootstrap=True, criterion='mse', max_depth=None,\n",
      "           max_features='auto', max_leaf_nodes=None,\n",
      "           min_impurity_decrease=0.0, min_impurity_split=None,\n",
      "           min_samples_leaf=1, min_samples_split=2,\n",
      "           min_weight_fraction_leaf=0.0, n_estimators='warn', n_jobs=None,\n",
      "           oob_score=False, random_state=17, verbose=0, warm_start=False)\n",
      "ExtraTreesRegressor(bootstrap=False, criterion='mse', max_depth=None,\n",
      "          max_features='auto', max_leaf_nodes=None,\n",
      "          min_impurity_decrease=0.0, min_impurity_split=None,\n",
      "          min_samples_leaf=1, min_samples_split=2,\n",
      "          min_weight_fraction_leaf=0.0, n_estimators='warn', n_jobs=None,\n",
      "          oob_score=False, random_state=17, verbose=0, warm_start=False)\n",
      "GradientBoostingRegressor(alpha=0.9, criterion='friedman_mse', init=None,\n",
      "             learning_rate=0.1, loss='ls', max_depth=3, max_features=None,\n",
      "             max_leaf_nodes=None, min_impurity_decrease=0.0,\n",
      "             min_impurity_split=None, min_samples_leaf=1,\n",
      "             min_samples_split=2, min_weight_fraction_leaf=0.0,\n",
      "             n_estimators=100, n_iter_no_change=None, presort='auto',\n",
      "             random_state=17, subsample=1.0, tol=0.0001,\n",
      "             validation_fraction=0.1, verbose=0, warm_start=False)\n"
     ]
    },
    {
     "name": "stderr",
     "output_type": "stream",
     "text": [
      "/upb/users/s/ssmirnov/profiles/unix/imt/.local/lib/python2.7/site-packages/sklearn/externals/joblib/externals/loky/process_executor.py:700: UserWarning: A worker stopped while some jobs were given to the executor. This can be caused by a too short worker timeout or by a memory leak.\n",
      "  \"timeout or by a memory leak.\", UserWarning\n"
     ]
    },
    {
     "name": "stdout",
     "output_type": "stream",
     "text": [
      "BaggingRegressor(base_estimator=None, bootstrap=True,\n",
      "         bootstrap_features=False, max_features=1.0, max_samples=1.0,\n",
      "         n_estimators=10, n_jobs=None, oob_score=False, random_state=17,\n",
      "         verbose=0, warm_start=False)\n",
      "KNeighborsRegressor(algorithm='auto', leaf_size=30, metric='minkowski',\n",
      "          metric_params=None, n_jobs=None, n_neighbors=5, p=2,\n",
      "          weights='uniform')\n",
      "LinearSVR(C=1.0, dual=True, epsilon=0.0, fit_intercept=True,\n",
      "     intercept_scaling=1.0, loss='epsilon_insensitive', max_iter=1000,\n",
      "     random_state=17, tol=0.0001, verbose=0)\n",
      "LogisticRegression(C=1.0, class_weight=None, dual=False, fit_intercept=True,\n",
      "          intercept_scaling=1, max_iter=100, multi_class='warn',\n",
      "          n_jobs=None, penalty='l2', random_state=17, solver='warn',\n",
      "          tol=0.0001, verbose=0, warm_start=False)\n",
      "Lasso(alpha=1.0, copy_X=True, fit_intercept=True, max_iter=1000,\n",
      "   normalize=False, positive=False, precompute=False, random_state=17,\n",
      "   selection='cyclic', tol=0.0001, warm_start=False)\n",
      "Ridge(alpha=1.0, copy_X=True, fit_intercept=True, max_iter=None,\n",
      "   normalize=False, random_state=17, solver='auto', tol=0.001)\n",
      "CPU times: user 31.1 s, sys: 688 ms, total: 31.8 s\n",
      "Wall time: 4min 16s\n"
     ]
    }
   ],
   "source": [
    "%%time\n",
    "\n",
    "Y = data_train.iloc[:,-1]\n",
    "X = data_train.drop([data_train.columns[-1]], axis=1)\n",
    "\n",
    "\n",
    "X_train, X_holdout, y_train, y_holdout = train_test_split(X.values, Y, test_size=0.3,\n",
    "    random_state=17) \n",
    "\n",
    "\n",
    "cv_results = []\n",
    "for regressor in regressors :\n",
    "    print(regressor)\n",
    "    cv_results.append(cross_val_score(regressor, X_train, y = y_train, scoring = \"r2\", cv = kfold, n_jobs=-1))\n",
    "\n",
    "cv_means = []\n",
    "cv_std = []\n",
    "for cv_result in cv_results:\n",
    "    cv_means.append(cv_result.mean())\n",
    "    cv_std.append(cv_result.std())"
   ]
  },
  {
   "cell_type": "code",
   "execution_count": 56,
   "metadata": {},
   "outputs": [
    {
     "data": {
      "image/png": "[encoded data removed]",
      "text/plain": [
       "<Figure size 432x288 with 1 Axes>"
      ]
     },
     "metadata": {
      "needs_background": "light"
     },
     "output_type": "display_data"
    }
   ],
   "source": [
    "import seaborn as sns\n",
    "\n",
    "cv_res = pd.DataFrame({\"CrossValMeans\":cv_means,\"CrossValerrors\": cv_std,\"Algorithm\":[\"DecisionTree\",\"AdaBoost\",\n",
    "\"RandomForest\",\"ExtraTreesRegressor\",\"GradientBoostingRegressor\",\"BaggingRegressor\",\"KNeighborsRegressor\",\"LinearSVR\",\"LogisticRegression\",\"Lasso\",\"Ridge\"]})\n",
    "\n",
    "g = sns.barplot(\"CrossValMeans\",\"Algorithm\",data = cv_res, palette=\"Set3\",orient = \"h\",**{'xerr':cv_std})\n",
    "g.set_xlabel(\"R Squared metric\")\n",
    "g = g.set_title(\"Cross validation scores\")"
   ]
  },
  {
   "cell_type": "markdown",
   "metadata": {},
   "source": [
    "GradientBoostingRegressor outperformed all other classifiers, therefore it would make sense to tune hyperparameters of it and obtain the highest \"r2\" score. **Unfortunately due to the lack of computational resources I couldn't perform such a heavy computation, however I provide the script that I would have used for this task**."
   ]
  },
  {
   "cell_type": "markdown",
   "metadata": {},
   "source": [
    "### Hyperparameter tuning for best models"
   ]
  },
  {
   "cell_type": "code",
   "execution_count": null,
   "metadata": {},
   "outputs": [],
   "source": [
    "# Gradient boosting tunning\n",
    "\n",
    "GBR = GradientBoostingRegressor()\n",
    "gb_param_grid = {'loss' : [\"ls\",\"lad\",\"huber\"],\n",
    "              'n_estimators' : [100,200,300,500],\n",
    "              'learning_rate': [0.1, 0.01,0.001,0.0001],\n",
    "              'max_depth': [8,16,32],\n",
    "              'min_samples_leaf': [100,150],\n",
    "              'max_features': [0.3, 0.1] \n",
    "              }\n",
    "\n",
    "gsGBR = GridSearchCV(GBR,param_grid = gb_param_grid, cv=kfold, scoring=\"r2\", n_jobs= -1, verbose = 1)\n",
    "\n",
    "gsGBR.fit(X,Y)\n",
    "\n",
    "GBR_best = gsGBR.best_estimator_\n",
    "\n",
    "# Best score\n",
    "\n",
    "print(gsGBR.best_score_)\n",
    "print(gsGBR.best_params_)"
   ]
  },
  {
   "cell_type": "code",
   "execution_count": null,
   "metadata": {},
   "outputs": [],
   "source": [
    "def plot_learning_curve(estimator, title, X, y, ylim=None, cv=None,\n",
    "                        n_jobs=-1, train_sizes=np.linspace(.1, 1.0, 5)):\n",
    "    \"\"\"Generate a simple plot of the test and training learning curve\"\"\"\n",
    "    plt.figure()\n",
    "    plt.title(title)\n",
    "    if ylim is not None:\n",
    "        plt.ylim(*ylim)\n",
    "    plt.xlabel(\"Training examples\")\n",
    "    plt.ylabel(\"Score\")\n",
    "    train_sizes, train_scores, test_scores = learning_curve(\n",
    "        estimator, X, y, cv=cv, n_jobs=n_jobs, train_sizes=train_sizes)\n",
    "    train_scores_mean = np.mean(train_scores, axis=1)\n",
    "    train_scores_std = np.std(train_scores, axis=1)\n",
    "    test_scores_mean = np.mean(test_scores, axis=1)\n",
    "    test_scores_std = np.std(test_scores, axis=1)\n",
    "    plt.grid()\n",
    "\n",
    "    plt.fill_between(train_sizes, train_scores_mean - train_scores_std,\n",
    "                     train_scores_mean + train_scores_std, alpha=0.1,\n",
    "                     color=\"r\")\n",
    "    plt.fill_between(train_sizes, test_scores_mean - test_scores_std,\n",
    "                     test_scores_mean + test_scores_std, alpha=0.1, color=\"g\")\n",
    "    plt.plot(train_sizes, train_scores_mean, 'o-', color=\"r\",\n",
    "             label=\"Training score\")\n",
    "    plt.plot(train_sizes, test_scores_mean, 'o-', color=\"g\",\n",
    "             label=\"Cross-validation score\")\n",
    "\n",
    "    plt.legend(loc=\"best\")\n",
    "    return plt\n"
   ]
  },
  {
   "cell_type": "code",
   "execution_count": null,
   "metadata": {},
   "outputs": [],
   "source": [
    "test_clicks_GBR = pd.Series(GBR_best.predict(data_test), name=\"n_clicks\")\n",
    "results_ = pd.concat([IDtest,test_clicks_GBR],axis=1)\n",
    "\n",
    "results.to_csv('GBR_pred.csv', index=False)"
   ]
  },
  {
   "cell_type": "code",
   "execution_count": null,
   "metadata": {},
   "outputs": [],
   "source": []
  }
 ],
 "metadata": {
  "kernelspec": {
   "display_name": "Python 2",
   "language": "python",
   "name": "python2"
  },
  "language_info": {
   "codemirror_mode": {
    "name": "ipython",
    "version": 2
   },
   "file_extension": ".py",
   "mimetype": "text/x-python",
   "name": "python",
   "nbconvert_exporter": "python",
   "pygments_lexer": "ipython2",
   "version": "2.7.13"
  }
 },
 "nbformat": 4,
 "nbformat_minor": 2
}
