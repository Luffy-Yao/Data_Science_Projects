{
 "cells": [
  {
   "cell_type": "markdown",
   "metadata": {},
   "source": [
    "#### Datasets\n",
    "\n",
    "**train_set.csv**: in the training dataset you will find a list of hotels and hotel characteristics. Every row has a unique identifier for the hotel - the hotel_id. The column n_clicks specifies the number of clicks the hotel has received in a specified time frame. This is the target variable you have to predict.\n",
    "Number of rows: 396487.\n",
    "\n",
    "**test_set.csv**: in the test set you will find a list of new hotels with the same characteristics as in the training set and derived in the same time frame. In this dataset the target variable that you have to predict is missing.\n",
    "Number of rows: 132162.\n",
    "\n",
    "**sample_submission.csv**: an example submission file. It should contain only the unique hotel_ids from the test set and the number of predicted clicks.\n",
    "\n",
    "\n",
    "The training dataset provided is not clean and may be missing data or contain nonsensical values. Also, the datasets below contain potentially hashed and/or modified values. \n",
    "\n",
    "\n",
    "\n",
    "#### Evaluation\n",
    "\n",
    "The predictions will be evaluated by a normalized weighted mean square error. Find more details in the resource section.\n",
    "\n",
    "#### Column description\n",
    "\n",
    "**hotel_id**: a number uniquely identifying each hotel\n",
    "\n",
    "**city_id**: describes the city the hotel is located in\n",
    "\n",
    "**content_score**: describes the quality of the content that is provided \n",
    "for the hotel on a scale from 0 (worst) to 100 (best)\n",
    "\n",
    "**n_images**: number of images that are available for the given hotel\n",
    "\n",
    "**distance_to_center**: distance (in meters) of the hotel to the nearest city center\n",
    "\n",
    "**avg_rating**: average rating of the hotel on a scale from 0 (worst) to 100 (best)\n",
    "\n",
    "**n_reviews**: number of reviews that are available for that hotel\n",
    "\n",
    "**avg_rank**: average position the hotel had in the list\n",
    "\n",
    "**avg_price**: average price in Euro of the hotel\n",
    "\n",
    "**avg_saving_percent**: average saving users achieve on this hotel by using aggregator, i.e. the relative difference between the cheapest and most expensive deal for the hotel\n",
    "\n",
    "**n_clicks**: the number of clicks the hotel has received in a specific time frame (target variable, unique to the training set)"
   ]
  },
  {
   "cell_type": "code",
   "execution_count": 1,
   "metadata": {},
   "outputs": [],
   "source": [
    "import numpy as np\n",
    "import pandas as pd\n",
    "import itertools\n",
    "from matplotlib import pyplot as plt\n",
    "from collections import Counter\n",
    "import seaborn as sns\n",
    "sns.set()\n",
    "\n",
    "from sklearn.model_selection import cross_val_score, StratifiedKFold, KFold,train_test_split\n",
    "from sklearn.metrics import r2_score, median_absolute_error, mean_absolute_error,mean_squared_error\n",
    "\n",
    "from sklearn.preprocessing import RobustScaler\n",
    "from sklearn.pipeline import make_pipeline\n",
    "from sklearn.ensemble import GradientBoostingRegressor, RandomForestRegressor\n",
    "from sklearn.linear_model import ElasticNet, Lasso, Ridge\n",
    "import xgboost as xgb\n",
    "import lightgbm as lgb\n",
    "\n",
    "import warnings\n",
    "def ignore_warn(*args, **kwargs):\n",
    "    pass\n",
    "warnings.warn = ignore_warn #ignore annoying warning (from sklearn and seaborn)"
   ]
  },
  {
   "cell_type": "code",
   "execution_count": 2,
   "metadata": {},
   "outputs": [
    {
     "data": {
      "text/html": [
       "<div>\n",
       "<style scoped>\n",
       "    .dataframe tbody tr th:only-of-type {\n",
       "        vertical-align: middle;\n",
       "    }\n",
       "\n",
       "    .dataframe tbody tr th {\n",
       "        vertical-align: top;\n",
       "    }\n",
       "\n",
       "    .dataframe thead th {\n",
       "        text-align: right;\n",
       "    }\n",
       "</style>\n",
       "<table border=\"1\" class=\"dataframe\">\n",
       "  <thead>\n",
       "    <tr style=\"text-align: right;\">\n",
       "      <th></th>\n",
       "      <th>hotel_id</th>\n",
       "      <th>city_id</th>\n",
       "      <th>content_score</th>\n",
       "      <th>n_images</th>\n",
       "      <th>distance_to_center</th>\n",
       "      <th>avg_rating</th>\n",
       "      <th>stars</th>\n",
       "      <th>n_reviews</th>\n",
       "      <th>avg_rank</th>\n",
       "      <th>avg_price</th>\n",
       "      <th>avg_saving_percent</th>\n",
       "      <th>n_clicks</th>\n",
       "    </tr>\n",
       "  </thead>\n",
       "  <tbody>\n",
       "    <tr>\n",
       "      <th>0</th>\n",
       "      <td>9.767406e+10</td>\n",
       "      <td>134520.0</td>\n",
       "      <td>70.0</td>\n",
       "      <td>2.0</td>\n",
       "      <td>1199.0</td>\n",
       "      <td>77.0</td>\n",
       "      <td>4.0</td>\n",
       "      <td>861.0</td>\n",
       "      <td>17.550</td>\n",
       "      <td>81.64</td>\n",
       "      <td>18.0</td>\n",
       "      <td>0</td>\n",
       "    </tr>\n",
       "    <tr>\n",
       "      <th>1</th>\n",
       "      <td>9.768889e+10</td>\n",
       "      <td>133876.0</td>\n",
       "      <td>67.0</td>\n",
       "      <td>3.0</td>\n",
       "      <td>12585.0</td>\n",
       "      <td>90.0</td>\n",
       "      <td>4.0</td>\n",
       "      <td>4371.0</td>\n",
       "      <td>17.383</td>\n",
       "      <td>189.38</td>\n",
       "      <td>28.0</td>\n",
       "      <td>4</td>\n",
       "    </tr>\n",
       "    <tr>\n",
       "      <th>2</th>\n",
       "      <td>9.811544e+10</td>\n",
       "      <td>133732.0</td>\n",
       "      <td>39.0</td>\n",
       "      <td>3.0</td>\n",
       "      <td>23491.0</td>\n",
       "      <td>83.0</td>\n",
       "      <td>3.0</td>\n",
       "      <td>1005.0</td>\n",
       "      <td>16.438</td>\n",
       "      <td>57.63</td>\n",
       "      <td>27.0</td>\n",
       "      <td>44</td>\n",
       "    </tr>\n",
       "    <tr>\n",
       "      <th>3</th>\n",
       "      <td>9.824279e+10</td>\n",
       "      <td>43772.0</td>\n",
       "      <td>59.0</td>\n",
       "      <td>8.0</td>\n",
       "      <td>3291.0</td>\n",
       "      <td>73.0</td>\n",
       "      <td>2.0</td>\n",
       "      <td>3084.0</td>\n",
       "      <td>7.000</td>\n",
       "      <td>72.16</td>\n",
       "      <td>2.0</td>\n",
       "      <td>4</td>\n",
       "    </tr>\n",
       "    <tr>\n",
       "      <th>4</th>\n",
       "      <td>9.833438e+10</td>\n",
       "      <td>50532.0</td>\n",
       "      <td>66.0</td>\n",
       "      <td>1.0</td>\n",
       "      <td>288.0</td>\n",
       "      <td>80.0</td>\n",
       "      <td>0.0</td>\n",
       "      <td>603.0</td>\n",
       "      <td>12.564</td>\n",
       "      <td>173.25</td>\n",
       "      <td>0.0</td>\n",
       "      <td>10</td>\n",
       "    </tr>\n",
       "  </tbody>\n",
       "</table>\n",
       "</div>"
      ],
      "text/plain": [
       "       hotel_id   city_id  content_score  n_images  distance_to_center  \\\n",
       "0  9.767406e+10  134520.0           70.0       2.0              1199.0   \n",
       "1  9.768889e+10  133876.0           67.0       3.0             12585.0   \n",
       "2  9.811544e+10  133732.0           39.0       3.0             23491.0   \n",
       "3  9.824279e+10   43772.0           59.0       8.0              3291.0   \n",
       "4  9.833438e+10   50532.0           66.0       1.0               288.0   \n",
       "\n",
       "   avg_rating  stars  n_reviews  avg_rank  avg_price  avg_saving_percent  \\\n",
       "0        77.0    4.0      861.0    17.550      81.64                18.0   \n",
       "1        90.0    4.0     4371.0    17.383     189.38                28.0   \n",
       "2        83.0    3.0     1005.0    16.438      57.63                27.0   \n",
       "3        73.0    2.0     3084.0     7.000      72.16                 2.0   \n",
       "4        80.0    0.0      603.0    12.564     173.25                 0.0   \n",
       "\n",
       "   n_clicks  \n",
       "0         0  \n",
       "1         4  \n",
       "2        44  \n",
       "3         4  \n",
       "4        10  "
      ]
     },
     "execution_count": 2,
     "metadata": {},
     "output_type": "execute_result"
    }
   ],
   "source": [
    "# Train data\n",
    "\n",
    "df = pd.read_csv(\"../Hotel_Clicks_Prediction/train_set.csv\")\n",
    "df.head(5)"
   ]
  },
  {
   "cell_type": "code",
   "execution_count": 3,
   "metadata": {},
   "outputs": [
    {
     "data": {
      "text/html": [
       "<div>\n",
       "<style scoped>\n",
       "    .dataframe tbody tr th:only-of-type {\n",
       "        vertical-align: middle;\n",
       "    }\n",
       "\n",
       "    .dataframe tbody tr th {\n",
       "        vertical-align: top;\n",
       "    }\n",
       "\n",
       "    .dataframe thead th {\n",
       "        text-align: right;\n",
       "    }\n",
       "</style>\n",
       "<table border=\"1\" class=\"dataframe\">\n",
       "  <thead>\n",
       "    <tr style=\"text-align: right;\">\n",
       "      <th></th>\n",
       "      <th>hotel_id</th>\n",
       "      <th>city_id</th>\n",
       "      <th>content_score</th>\n",
       "      <th>n_images</th>\n",
       "      <th>distance_to_center</th>\n",
       "      <th>avg_rating</th>\n",
       "      <th>stars</th>\n",
       "      <th>n_reviews</th>\n",
       "      <th>avg_rank</th>\n",
       "      <th>avg_price</th>\n",
       "      <th>avg_saving_percent</th>\n",
       "    </tr>\n",
       "  </thead>\n",
       "  <tbody>\n",
       "    <tr>\n",
       "      <th>0</th>\n",
       "      <td>14942256073</td>\n",
       "      <td>122750.0</td>\n",
       "      <td>58.0</td>\n",
       "      <td>2.0</td>\n",
       "      <td>11503.0</td>\n",
       "      <td>89.0</td>\n",
       "      <td>0.0</td>\n",
       "      <td>168.0</td>\n",
       "      <td>13.500</td>\n",
       "      <td>90.19</td>\n",
       "      <td>32.0</td>\n",
       "    </tr>\n",
       "    <tr>\n",
       "      <th>1</th>\n",
       "      <td>16036037903</td>\n",
       "      <td>28134.0</td>\n",
       "      <td>68.0</td>\n",
       "      <td>4.0</td>\n",
       "      <td>938.0</td>\n",
       "      <td>81.0</td>\n",
       "      <td>5.0</td>\n",
       "      <td>735.0</td>\n",
       "      <td>13.667</td>\n",
       "      <td>98.27</td>\n",
       "      <td>19.0</td>\n",
       "    </tr>\n",
       "    <tr>\n",
       "      <th>2</th>\n",
       "      <td>288585940112</td>\n",
       "      <td>30578.0</td>\n",
       "      <td>19.0</td>\n",
       "      <td>0.0</td>\n",
       "      <td>38982.0</td>\n",
       "      <td>NaN</td>\n",
       "      <td>0.0</td>\n",
       "      <td>0.0</td>\n",
       "      <td>20.462</td>\n",
       "      <td>48.77</td>\n",
       "      <td>0.0</td>\n",
       "    </tr>\n",
       "    <tr>\n",
       "      <th>3</th>\n",
       "      <td>129041645070</td>\n",
       "      <td>54398.0</td>\n",
       "      <td>47.0</td>\n",
       "      <td>0.0</td>\n",
       "      <td>1683.0</td>\n",
       "      <td>80.0</td>\n",
       "      <td>0.0</td>\n",
       "      <td>69.0</td>\n",
       "      <td>15.000</td>\n",
       "      <td>72.32</td>\n",
       "      <td>0.0</td>\n",
       "    </tr>\n",
       "    <tr>\n",
       "      <th>4</th>\n",
       "      <td>12460296563</td>\n",
       "      <td>63890.0</td>\n",
       "      <td>59.0</td>\n",
       "      <td>3.0</td>\n",
       "      <td>1299.0</td>\n",
       "      <td>80.0</td>\n",
       "      <td>3.0</td>\n",
       "      <td>1470.0</td>\n",
       "      <td>10.000</td>\n",
       "      <td>24.54</td>\n",
       "      <td>19.0</td>\n",
       "    </tr>\n",
       "  </tbody>\n",
       "</table>\n",
       "</div>"
      ],
      "text/plain": [
       "       hotel_id   city_id  content_score  n_images  distance_to_center  \\\n",
       "0   14942256073  122750.0           58.0       2.0             11503.0   \n",
       "1   16036037903   28134.0           68.0       4.0               938.0   \n",
       "2  288585940112   30578.0           19.0       0.0             38982.0   \n",
       "3  129041645070   54398.0           47.0       0.0              1683.0   \n",
       "4   12460296563   63890.0           59.0       3.0              1299.0   \n",
       "\n",
       "   avg_rating  stars  n_reviews  avg_rank  avg_price  avg_saving_percent  \n",
       "0        89.0    0.0      168.0    13.500      90.19                32.0  \n",
       "1        81.0    5.0      735.0    13.667      98.27                19.0  \n",
       "2         NaN    0.0        0.0    20.462      48.77                 0.0  \n",
       "3        80.0    0.0       69.0    15.000      72.32                 0.0  \n",
       "4        80.0    3.0     1470.0    10.000      24.54                19.0  "
      ]
     },
     "execution_count": 3,
     "metadata": {},
     "output_type": "execute_result"
    }
   ],
   "source": [
    "# Test data\n",
    "\n",
    "df_test = pd.read_csv(\"../Hotel_Clicks_Prediction/test_set.csv\")\n",
    "IDtest = df_test[\"hotel_id\"]\n",
    "df_test.head(5)"
   ]
  },
  {
   "cell_type": "code",
   "execution_count": 4,
   "metadata": {},
   "outputs": [
    {
     "data": {
      "text/plain": [
       "hotel_id                  0\n",
       "city_id                 155\n",
       "content_score           155\n",
       "n_images                156\n",
       "distance_to_center      163\n",
       "avg_rating            36630\n",
       "stars                   175\n",
       "n_reviews               163\n",
       "avg_rank                  0\n",
       "avg_price                58\n",
       "avg_saving_percent       58\n",
       "dtype: int64"
      ]
     },
     "execution_count": 4,
     "metadata": {},
     "output_type": "execute_result"
    }
   ],
   "source": [
    "# Check how clean our test and train data\n",
    "\n",
    "df_test.isnull().sum()"
   ]
  },
  {
   "cell_type": "code",
   "execution_count": 5,
   "metadata": {},
   "outputs": [
    {
     "data": {
      "text/plain": [
       "hotel_id                   0\n",
       "city_id                  508\n",
       "content_score            508\n",
       "n_images                 509\n",
       "distance_to_center       529\n",
       "avg_rating            110398\n",
       "stars                    562\n",
       "n_reviews                529\n",
       "avg_rank                   0\n",
       "avg_price                170\n",
       "avg_saving_percent       170\n",
       "n_clicks                   0\n",
       "dtype: int64"
      ]
     },
     "execution_count": 5,
     "metadata": {},
     "output_type": "execute_result"
    }
   ],
   "source": [
    "df.isnull().sum()"
   ]
  },
  {
   "cell_type": "code",
   "execution_count": 6,
   "metadata": {},
   "outputs": [
    {
     "data": {
      "text/plain": [
       "((396487, 12), (132162, 11))"
      ]
     },
     "execution_count": 6,
     "metadata": {},
     "output_type": "execute_result"
    }
   ],
   "source": [
    "# Test data has one column less\n",
    "\n",
    "df.shape, df_test.shape"
   ]
  },
  {
   "cell_type": "code",
   "execution_count": 7,
   "metadata": {},
   "outputs": [
    {
     "data": {
      "text/plain": [
       "(396487, 132162)"
      ]
     },
     "execution_count": 7,
     "metadata": {},
     "output_type": "execute_result"
    }
   ],
   "source": [
    "len(df.hotel_id.unique()),len(df_test.hotel_id.unique())"
   ]
  },
  {
   "cell_type": "markdown",
   "metadata": {},
   "source": [
    "The number of unique hotel_id is equal to the number of samples, which along with zero Nan values on the column indicates that dataset contains no hotel repetitions. As the result, I think that this feature can further be neglected for  analysis"
   ]
  },
  {
   "cell_type": "code",
   "execution_count": 8,
   "metadata": {},
   "outputs": [],
   "source": [
    "df = df.drop(['hotel_id'], axis=1)\n",
    "df_test = df_test.drop(['hotel_id'], axis=1)"
   ]
  },
  {
   "cell_type": "code",
   "execution_count": 9,
   "metadata": {},
   "outputs": [
    {
     "data": {
      "text/plain": [
       "33214"
      ]
     },
     "execution_count": 9,
     "metadata": {},
     "output_type": "execute_result"
    }
   ],
   "source": [
    "len(df.city_id.unique())"
   ]
  },
  {
   "cell_type": "markdown",
   "metadata": {},
   "source": [
    "### 1) Exploratory data analysis"
   ]
  },
  {
   "cell_type": "code",
   "execution_count": 10,
   "metadata": {},
   "outputs": [
    {
     "name": "stdout",
     "output_type": "stream",
     "text": [
      "<class 'pandas.core.frame.DataFrame'>\n",
      "RangeIndex: 396487 entries, 0 to 396486\n",
      "Data columns (total 11 columns):\n",
      "city_id               395979 non-null float64\n",
      "content_score         395979 non-null float64\n",
      "n_images              395978 non-null float64\n",
      "distance_to_center    395958 non-null float64\n",
      "avg_rating            286089 non-null float64\n",
      "stars                 395925 non-null float64\n",
      "n_reviews             395958 non-null float64\n",
      "avg_rank              396487 non-null float64\n",
      "avg_price             396317 non-null float64\n",
      "avg_saving_percent    396317 non-null float64\n",
      "n_clicks              396487 non-null int64\n",
      "dtypes: float64(10), int64(1)\n",
      "memory usage: 33.3 MB\n"
     ]
    }
   ],
   "source": [
    "df.info()"
   ]
  },
  {
   "cell_type": "code",
   "execution_count": 11,
   "metadata": {},
   "outputs": [
    {
     "data": {
      "text/html": [
       "<div>\n",
       "<style scoped>\n",
       "    .dataframe tbody tr th:only-of-type {\n",
       "        vertical-align: middle;\n",
       "    }\n",
       "\n",
       "    .dataframe tbody tr th {\n",
       "        vertical-align: top;\n",
       "    }\n",
       "\n",
       "    .dataframe thead th {\n",
       "        text-align: right;\n",
       "    }\n",
       "</style>\n",
       "<table border=\"1\" class=\"dataframe\">\n",
       "  <thead>\n",
       "    <tr style=\"text-align: right;\">\n",
       "      <th></th>\n",
       "      <th>city_id</th>\n",
       "      <th>content_score</th>\n",
       "      <th>n_images</th>\n",
       "      <th>distance_to_center</th>\n",
       "      <th>avg_rating</th>\n",
       "      <th>stars</th>\n",
       "      <th>n_reviews</th>\n",
       "      <th>avg_rank</th>\n",
       "      <th>avg_price</th>\n",
       "      <th>avg_saving_percent</th>\n",
       "      <th>n_clicks</th>\n",
       "    </tr>\n",
       "  </thead>\n",
       "  <tbody>\n",
       "    <tr>\n",
       "      <th>count</th>\n",
       "      <td>395979.000000</td>\n",
       "      <td>395979.000000</td>\n",
       "      <td>3.959780e+05</td>\n",
       "      <td>3.959580e+05</td>\n",
       "      <td>286089.000000</td>\n",
       "      <td>395925.000000</td>\n",
       "      <td>395958.000000</td>\n",
       "      <td>396487.000000</td>\n",
       "      <td>396317.000000</td>\n",
       "      <td>396317.000000</td>\n",
       "      <td>396487.000000</td>\n",
       "    </tr>\n",
       "    <tr>\n",
       "      <th>mean</th>\n",
       "      <td>149193.465376</td>\n",
       "      <td>50.992795</td>\n",
       "      <td>2.593212e+02</td>\n",
       "      <td>1.634383e+04</td>\n",
       "      <td>81.616525</td>\n",
       "      <td>1.159659</td>\n",
       "      <td>913.667419</td>\n",
       "      <td>14.694502</td>\n",
       "      <td>109.332048</td>\n",
       "      <td>7.179601</td>\n",
       "      <td>13.781980</td>\n",
       "    </tr>\n",
       "    <tr>\n",
       "      <th>std</th>\n",
       "      <td>219189.285044</td>\n",
       "      <td>11.563444</td>\n",
       "      <td>1.731682e+04</td>\n",
       "      <td>2.752200e+05</td>\n",
       "      <td>6.025140</td>\n",
       "      <td>1.619713</td>\n",
       "      <td>2432.494160</td>\n",
       "      <td>5.604578</td>\n",
       "      <td>148.198851</td>\n",
       "      <td>13.081529</td>\n",
       "      <td>123.572896</td>\n",
       "    </tr>\n",
       "    <tr>\n",
       "      <th>min</th>\n",
       "      <td>2.000000</td>\n",
       "      <td>7.000000</td>\n",
       "      <td>-1.000000e+00</td>\n",
       "      <td>0.000000e+00</td>\n",
       "      <td>34.000000</td>\n",
       "      <td>0.000000</td>\n",
       "      <td>0.000000</td>\n",
       "      <td>1.000000</td>\n",
       "      <td>4.000000</td>\n",
       "      <td>0.000000</td>\n",
       "      <td>0.000000</td>\n",
       "    </tr>\n",
       "    <tr>\n",
       "      <th>25%</th>\n",
       "      <td>32014.000000</td>\n",
       "      <td>45.000000</td>\n",
       "      <td>0.000000e+00</td>\n",
       "      <td>5.440000e+02</td>\n",
       "      <td>79.000000</td>\n",
       "      <td>0.000000</td>\n",
       "      <td>0.000000</td>\n",
       "      <td>11.091000</td>\n",
       "      <td>51.050000</td>\n",
       "      <td>0.000000</td>\n",
       "      <td>0.000000</td>\n",
       "    </tr>\n",
       "    <tr>\n",
       "      <th>50%</th>\n",
       "      <td>55122.000000</td>\n",
       "      <td>53.000000</td>\n",
       "      <td>1.000000e+00</td>\n",
       "      <td>1.516000e+03</td>\n",
       "      <td>83.000000</td>\n",
       "      <td>0.000000</td>\n",
       "      <td>189.000000</td>\n",
       "      <td>15.000000</td>\n",
       "      <td>77.650000</td>\n",
       "      <td>0.000000</td>\n",
       "      <td>0.000000</td>\n",
       "    </tr>\n",
       "    <tr>\n",
       "      <th>75%</th>\n",
       "      <td>137464.000000</td>\n",
       "      <td>59.000000</td>\n",
       "      <td>2.000000e+00</td>\n",
       "      <td>4.163000e+03</td>\n",
       "      <td>86.000000</td>\n",
       "      <td>3.000000</td>\n",
       "      <td>777.000000</td>\n",
       "      <td>18.375000</td>\n",
       "      <td>120.930000</td>\n",
       "      <td>10.000000</td>\n",
       "      <td>2.000000</td>\n",
       "    </tr>\n",
       "    <tr>\n",
       "      <th>max</th>\n",
       "      <td>878736.000000</td>\n",
       "      <td>81.000000</td>\n",
       "      <td>2.393911e+06</td>\n",
       "      <td>1.834155e+07</td>\n",
       "      <td>97.000000</td>\n",
       "      <td>5.000000</td>\n",
       "      <td>283089.000000</td>\n",
       "      <td>100.000000</td>\n",
       "      <td>8000.000000</td>\n",
       "      <td>99.000000</td>\n",
       "      <td>13742.000000</td>\n",
       "    </tr>\n",
       "  </tbody>\n",
       "</table>\n",
       "</div>"
      ],
      "text/plain": [
       "             city_id  content_score      n_images  distance_to_center  \\\n",
       "count  395979.000000  395979.000000  3.959780e+05        3.959580e+05   \n",
       "mean   149193.465376      50.992795  2.593212e+02        1.634383e+04   \n",
       "std    219189.285044      11.563444  1.731682e+04        2.752200e+05   \n",
       "min         2.000000       7.000000 -1.000000e+00        0.000000e+00   \n",
       "25%     32014.000000      45.000000  0.000000e+00        5.440000e+02   \n",
       "50%     55122.000000      53.000000  1.000000e+00        1.516000e+03   \n",
       "75%    137464.000000      59.000000  2.000000e+00        4.163000e+03   \n",
       "max    878736.000000      81.000000  2.393911e+06        1.834155e+07   \n",
       "\n",
       "          avg_rating          stars      n_reviews       avg_rank  \\\n",
       "count  286089.000000  395925.000000  395958.000000  396487.000000   \n",
       "mean       81.616525       1.159659     913.667419      14.694502   \n",
       "std         6.025140       1.619713    2432.494160       5.604578   \n",
       "min        34.000000       0.000000       0.000000       1.000000   \n",
       "25%        79.000000       0.000000       0.000000      11.091000   \n",
       "50%        83.000000       0.000000     189.000000      15.000000   \n",
       "75%        86.000000       3.000000     777.000000      18.375000   \n",
       "max        97.000000       5.000000  283089.000000     100.000000   \n",
       "\n",
       "           avg_price  avg_saving_percent       n_clicks  \n",
       "count  396317.000000       396317.000000  396487.000000  \n",
       "mean      109.332048            7.179601      13.781980  \n",
       "std       148.198851           13.081529     123.572896  \n",
       "min         4.000000            0.000000       0.000000  \n",
       "25%        51.050000            0.000000       0.000000  \n",
       "50%        77.650000            0.000000       0.000000  \n",
       "75%       120.930000           10.000000       2.000000  \n",
       "max      8000.000000           99.000000   13742.000000  "
      ]
     },
     "execution_count": 11,
     "metadata": {},
     "output_type": "execute_result"
    }
   ],
   "source": [
    "# Lets have a look at statistics of train set, to look for outliers.\n",
    "\n",
    "df.describe()"
   ]
  },
  {
   "cell_type": "markdown",
   "metadata": {},
   "source": [
    "From the brief data description we could easily detect number of outliers, for instance in `n_images` and `n_reviews` columns. Therefore the reasonable step is to get rid of them. The max values for `n_clicks` and `avg_price` can also be tested"
   ]
  },
  {
   "cell_type": "code",
   "execution_count": 12,
   "metadata": {},
   "outputs": [
    {
     "data": {
      "text/plain": [
       "(0, 13742)"
      ]
     },
     "execution_count": 12,
     "metadata": {},
     "output_type": "execute_result"
    }
   ],
   "source": [
    "df[\"n_clicks\"].min(),df[\"n_clicks\"].max()"
   ]
  },
  {
   "cell_type": "code",
   "execution_count": 13,
   "metadata": {},
   "outputs": [
    {
     "data": {
      "text/plain": [
       "<matplotlib.axes._subplots.AxesSubplot at 0x7f3e0f586650>"
      ]
     },
     "execution_count": 13,
     "metadata": {},
     "output_type": "execute_result"
    },
    {
     "data": {
      "image/png": "[encoded data removed]",
      "text/plain": [
       "<Figure size 432x288 with 1 Axes>"
      ]
     },
     "metadata": {
      "needs_background": "light"
     },
     "output_type": "display_data"
    }
   ],
   "source": [
    "# Boxplot\n",
    "\n",
    "sns.boxplot(df['n_clicks'])"
   ]
  },
  {
   "cell_type": "code",
   "execution_count": 14,
   "metadata": {},
   "outputs": [
    {
     "data": {
      "text/html": [
       "<div>\n",
       "<style scoped>\n",
       "    .dataframe tbody tr th:only-of-type {\n",
       "        vertical-align: middle;\n",
       "    }\n",
       "\n",
       "    .dataframe tbody tr th {\n",
       "        vertical-align: top;\n",
       "    }\n",
       "\n",
       "    .dataframe thead th {\n",
       "        text-align: right;\n",
       "    }\n",
       "</style>\n",
       "<table border=\"1\" class=\"dataframe\">\n",
       "  <thead>\n",
       "    <tr style=\"text-align: right;\">\n",
       "      <th></th>\n",
       "      <th>city_id</th>\n",
       "      <th>content_score</th>\n",
       "      <th>n_images</th>\n",
       "      <th>distance_to_center</th>\n",
       "      <th>avg_rating</th>\n",
       "      <th>stars</th>\n",
       "      <th>n_reviews</th>\n",
       "      <th>avg_rank</th>\n",
       "      <th>avg_price</th>\n",
       "      <th>avg_saving_percent</th>\n",
       "      <th>n_clicks</th>\n",
       "    </tr>\n",
       "  </thead>\n",
       "  <tbody>\n",
       "    <tr>\n",
       "      <th>119549</th>\n",
       "      <td>13278.0</td>\n",
       "      <td>63.0</td>\n",
       "      <td>6.0</td>\n",
       "      <td>294.0</td>\n",
       "      <td>86.0</td>\n",
       "      <td>5.0</td>\n",
       "      <td>15828.0</td>\n",
       "      <td>5.297</td>\n",
       "      <td>137.70</td>\n",
       "      <td>30.0</td>\n",
       "      <td>11652</td>\n",
       "    </tr>\n",
       "    <tr>\n",
       "      <th>143912</th>\n",
       "      <td>30512.0</td>\n",
       "      <td>63.0</td>\n",
       "      <td>1.0</td>\n",
       "      <td>4857.0</td>\n",
       "      <td>86.0</td>\n",
       "      <td>5.0</td>\n",
       "      <td>909.0</td>\n",
       "      <td>8.946</td>\n",
       "      <td>346.96</td>\n",
       "      <td>54.0</td>\n",
       "      <td>12790</td>\n",
       "    </tr>\n",
       "    <tr>\n",
       "      <th>201233</th>\n",
       "      <td>8582.0</td>\n",
       "      <td>66.0</td>\n",
       "      <td>12.0</td>\n",
       "      <td>1715.0</td>\n",
       "      <td>80.0</td>\n",
       "      <td>4.0</td>\n",
       "      <td>18861.0</td>\n",
       "      <td>9.603</td>\n",
       "      <td>109.85</td>\n",
       "      <td>18.0</td>\n",
       "      <td>10108</td>\n",
       "    </tr>\n",
       "    <tr>\n",
       "      <th>211064</th>\n",
       "      <td>170898.0</td>\n",
       "      <td>50.0</td>\n",
       "      <td>1.0</td>\n",
       "      <td>1317.0</td>\n",
       "      <td>82.0</td>\n",
       "      <td>5.0</td>\n",
       "      <td>339.0</td>\n",
       "      <td>4.471</td>\n",
       "      <td>143.88</td>\n",
       "      <td>22.0</td>\n",
       "      <td>10592</td>\n",
       "    </tr>\n",
       "    <tr>\n",
       "      <th>211753</th>\n",
       "      <td>8582.0</td>\n",
       "      <td>69.0</td>\n",
       "      <td>11.0</td>\n",
       "      <td>2058.0</td>\n",
       "      <td>86.0</td>\n",
       "      <td>4.0</td>\n",
       "      <td>13404.0</td>\n",
       "      <td>7.381</td>\n",
       "      <td>137.61</td>\n",
       "      <td>21.0</td>\n",
       "      <td>13742</td>\n",
       "    </tr>\n",
       "    <tr>\n",
       "      <th>395410</th>\n",
       "      <td>27328.0</td>\n",
       "      <td>60.0</td>\n",
       "      <td>5.0</td>\n",
       "      <td>811.0</td>\n",
       "      <td>85.0</td>\n",
       "      <td>4.0</td>\n",
       "      <td>2556.0</td>\n",
       "      <td>8.731</td>\n",
       "      <td>170.42</td>\n",
       "      <td>36.0</td>\n",
       "      <td>10458</td>\n",
       "    </tr>\n",
       "  </tbody>\n",
       "</table>\n",
       "</div>"
      ],
      "text/plain": [
       "         city_id  content_score  n_images  distance_to_center  avg_rating  \\\n",
       "119549   13278.0           63.0       6.0               294.0        86.0   \n",
       "143912   30512.0           63.0       1.0              4857.0        86.0   \n",
       "201233    8582.0           66.0      12.0              1715.0        80.0   \n",
       "211064  170898.0           50.0       1.0              1317.0        82.0   \n",
       "211753    8582.0           69.0      11.0              2058.0        86.0   \n",
       "395410   27328.0           60.0       5.0               811.0        85.0   \n",
       "\n",
       "        stars  n_reviews  avg_rank  avg_price  avg_saving_percent  n_clicks  \n",
       "119549    5.0    15828.0     5.297     137.70                30.0     11652  \n",
       "143912    5.0      909.0     8.946     346.96                54.0     12790  \n",
       "201233    4.0    18861.0     9.603     109.85                18.0     10108  \n",
       "211064    5.0      339.0     4.471     143.88                22.0     10592  \n",
       "211753    4.0    13404.0     7.381     137.61                21.0     13742  \n",
       "395410    4.0     2556.0     8.731     170.42                36.0     10458  "
      ]
     },
     "execution_count": 14,
     "metadata": {},
     "output_type": "execute_result"
    }
   ],
   "source": [
    "df[df['n_clicks']>10000]"
   ]
  },
  {
   "cell_type": "code",
   "execution_count": 15,
   "metadata": {},
   "outputs": [
    {
     "data": {
      "text/plain": [
       "(4.0, 8000.0)"
      ]
     },
     "execution_count": 15,
     "metadata": {},
     "output_type": "execute_result"
    }
   ],
   "source": [
    "df[\"avg_price\"].min(),df[\"avg_price\"].max()"
   ]
  },
  {
   "cell_type": "code",
   "execution_count": 16,
   "metadata": {},
   "outputs": [
    {
     "data": {
      "text/plain": [
       "<matplotlib.axes._subplots.AxesSubplot at 0x7f3e0f4c0550>"
      ]
     },
     "execution_count": 16,
     "metadata": {},
     "output_type": "execute_result"
    },
    {
     "data": {
      "image/png": "[encoded data removed]",
      "text/plain": [
       "<Figure size 432x288 with 1 Axes>"
      ]
     },
     "metadata": {
      "needs_background": "light"
     },
     "output_type": "display_data"
    }
   ],
   "source": [
    "sns.boxplot(x = df['avg_price'])"
   ]
  },
  {
   "cell_type": "code",
   "execution_count": 17,
   "metadata": {},
   "outputs": [
    {
     "data": {
      "text/html": [
       "<div>\n",
       "<style scoped>\n",
       "    .dataframe tbody tr th:only-of-type {\n",
       "        vertical-align: middle;\n",
       "    }\n",
       "\n",
       "    .dataframe tbody tr th {\n",
       "        vertical-align: top;\n",
       "    }\n",
       "\n",
       "    .dataframe thead th {\n",
       "        text-align: right;\n",
       "    }\n",
       "</style>\n",
       "<table border=\"1\" class=\"dataframe\">\n",
       "  <thead>\n",
       "    <tr style=\"text-align: right;\">\n",
       "      <th></th>\n",
       "      <th>city_id</th>\n",
       "      <th>content_score</th>\n",
       "      <th>n_images</th>\n",
       "      <th>distance_to_center</th>\n",
       "      <th>avg_rating</th>\n",
       "      <th>stars</th>\n",
       "      <th>n_reviews</th>\n",
       "      <th>avg_rank</th>\n",
       "      <th>avg_price</th>\n",
       "      <th>avg_saving_percent</th>\n",
       "      <th>n_clicks</th>\n",
       "    </tr>\n",
       "  </thead>\n",
       "  <tbody>\n",
       "    <tr>\n",
       "      <th>29242</th>\n",
       "      <td>54398.0</td>\n",
       "      <td>47.0</td>\n",
       "      <td>0.0</td>\n",
       "      <td>6451.0</td>\n",
       "      <td>84.0</td>\n",
       "      <td>0.0</td>\n",
       "      <td>216.0</td>\n",
       "      <td>15.00</td>\n",
       "      <td>8000.00</td>\n",
       "      <td>0.0</td>\n",
       "      <td>0</td>\n",
       "    </tr>\n",
       "    <tr>\n",
       "      <th>107649</th>\n",
       "      <td>146568.0</td>\n",
       "      <td>19.0</td>\n",
       "      <td>0.0</td>\n",
       "      <td>53508.0</td>\n",
       "      <td>NaN</td>\n",
       "      <td>0.0</td>\n",
       "      <td>0.0</td>\n",
       "      <td>14.75</td>\n",
       "      <td>7162.37</td>\n",
       "      <td>0.0</td>\n",
       "      <td>0</td>\n",
       "    </tr>\n",
       "    <tr>\n",
       "      <th>155038</th>\n",
       "      <td>174248.0</td>\n",
       "      <td>42.0</td>\n",
       "      <td>0.0</td>\n",
       "      <td>11541.0</td>\n",
       "      <td>NaN</td>\n",
       "      <td>0.0</td>\n",
       "      <td>0.0</td>\n",
       "      <td>11.00</td>\n",
       "      <td>7773.74</td>\n",
       "      <td>0.0</td>\n",
       "      <td>0</td>\n",
       "    </tr>\n",
       "    <tr>\n",
       "      <th>240112</th>\n",
       "      <td>52306.0</td>\n",
       "      <td>42.0</td>\n",
       "      <td>0.0</td>\n",
       "      <td>2607.0</td>\n",
       "      <td>NaN</td>\n",
       "      <td>0.0</td>\n",
       "      <td>0.0</td>\n",
       "      <td>14.50</td>\n",
       "      <td>7741.74</td>\n",
       "      <td>0.0</td>\n",
       "      <td>0</td>\n",
       "    </tr>\n",
       "    <tr>\n",
       "      <th>314247</th>\n",
       "      <td>44036.0</td>\n",
       "      <td>42.0</td>\n",
       "      <td>0.0</td>\n",
       "      <td>1156.0</td>\n",
       "      <td>NaN</td>\n",
       "      <td>0.0</td>\n",
       "      <td>0.0</td>\n",
       "      <td>3.00</td>\n",
       "      <td>7957.34</td>\n",
       "      <td>0.0</td>\n",
       "      <td>0</td>\n",
       "    </tr>\n",
       "  </tbody>\n",
       "</table>\n",
       "</div>"
      ],
      "text/plain": [
       "         city_id  content_score  n_images  distance_to_center  avg_rating  \\\n",
       "29242    54398.0           47.0       0.0              6451.0        84.0   \n",
       "107649  146568.0           19.0       0.0             53508.0         NaN   \n",
       "155038  174248.0           42.0       0.0             11541.0         NaN   \n",
       "240112   52306.0           42.0       0.0              2607.0         NaN   \n",
       "314247   44036.0           42.0       0.0              1156.0         NaN   \n",
       "\n",
       "        stars  n_reviews  avg_rank  avg_price  avg_saving_percent  n_clicks  \n",
       "29242     0.0      216.0     15.00    8000.00                 0.0         0  \n",
       "107649    0.0        0.0     14.75    7162.37                 0.0         0  \n",
       "155038    0.0        0.0     11.00    7773.74                 0.0         0  \n",
       "240112    0.0        0.0     14.50    7741.74                 0.0         0  \n",
       "314247    0.0        0.0      3.00    7957.34                 0.0         0  "
      ]
     },
     "execution_count": 17,
     "metadata": {},
     "output_type": "execute_result"
    }
   ],
   "source": [
    "df[df['avg_price']>7000]"
   ]
  },
  {
   "cell_type": "markdown",
   "metadata": {},
   "source": [
    "Seems like a few hotels with average price above 7000 might be outlier or some data mining mistake. Because the price is very high, no info about `stars`, `n_images` very low `avg_rank` etc..I think these hotels might be deleted from the training set."
   ]
  },
  {
   "cell_type": "markdown",
   "metadata": {},
   "source": [
    "Next step is analyze features a bit, to find which one correlates at most with `n_clicks`. Let say top-10 samples w.r.t `n_clicks`"
   ]
  },
  {
   "cell_type": "code",
   "execution_count": 18,
   "metadata": {},
   "outputs": [
    {
     "name": "stdout",
     "output_type": "stream",
     "text": [
      "city_id\n",
      "7696.0     205858\n",
      "8582.0     195422\n",
      "55122.0    105106\n",
      "13278.0     94864\n",
      "3606.0      90344\n",
      "27366.0     56060\n",
      "34798.0     54218\n",
      "44470.0     50838\n",
      "18760.0     49128\n",
      "27328.0     45106\n",
      "Name: n_clicks, dtype: int64\n"
     ]
    },
    {
     "data": {
      "image/png": "[encoded data removed]",
      "text/plain": [
       "<Figure size 432x288 with 1 Axes>"
      ]
     },
     "metadata": {
      "needs_background": "light"
     },
     "output_type": "display_data"
    }
   ],
   "source": [
    "# top-10 cities with most number of clicks\n",
    "\n",
    "df.groupby('city_id')['n_clicks'].sum().sort_values(ascending=False).iloc[:10].plot(kind='bar')\n",
    "print(df.groupby('city_id')['n_clicks'].sum().sort_values(ascending=False).iloc[:10])"
   ]
  },
  {
   "cell_type": "code",
   "execution_count": 19,
   "metadata": {},
   "outputs": [
    {
     "name": "stdout",
     "output_type": "stream",
     "text": [
      "city_id\n",
      "50168.0    192516.0\n",
      "44470.0    121841.0\n",
      "34798.0    110118.0\n",
      "30576.0    101001.0\n",
      "26874.0     83287.0\n",
      "46884.0     72344.0\n",
      "31786.0     72014.0\n",
      "53222.0     64111.0\n",
      "53604.0     60811.0\n",
      "63440.0     58504.0\n",
      "Name: avg_rating, dtype: float64\n"
     ]
    },
    {
     "data": {
      "image/png": "[encoded data removed]",
      "text/plain": [
       "<Figure size 432x288 with 1 Axes>"
      ]
     },
     "metadata": {
      "needs_background": "light"
     },
     "output_type": "display_data"
    }
   ],
   "source": [
    "df.groupby('city_id')['avg_rating'].sum().sort_values(ascending=False).iloc[:10].plot(kind='bar')\n",
    "print(df.groupby('city_id')['avg_rating'].sum().sort_values(ascending=False).iloc[:10])"
   ]
  },
  {
   "cell_type": "markdown",
   "metadata": {},
   "source": [
    "We could see that the cities with the hotels having most `n_clicks` in the majority if the cases are not the same as those whose hotels have a higher rating. Basically, it implies that people and clicking more on the hotels in the cities with lower `avg_rating`, which is sort of counter-intuitive."
   ]
  },
  {
   "cell_type": "markdown",
   "metadata": {},
   "source": [
    "Let us have a look on top - 10 values of distances to the center feature.\n",
    "I would expect to have in top-10 very small values (short distance to the center is more\n",
    "attractive, hence more clickable)"
   ]
  },
  {
   "cell_type": "code",
   "execution_count": 20,
   "metadata": {},
   "outputs": [
    {
     "name": "stdout",
     "output_type": "stream",
     "text": [
      "distance_to_center\n",
      "0.0       20050\n",
      "294.0     14682\n",
      "2058.0    13958\n",
      "4857.0    13566\n",
      "811.0     12818\n",
      "1317.0    12806\n",
      "1017.0    11838\n",
      "741.0     11478\n",
      "936.0     11204\n",
      "1537.0    10750\n",
      "Name: n_clicks, dtype: int64\n"
     ]
    },
    {
     "data": {
      "image/png": "[encoded data removed]",
      "text/plain": [
       "<Figure size 432x288 with 1 Axes>"
      ]
     },
     "metadata": {
      "needs_background": "light"
     },
     "output_type": "display_data"
    }
   ],
   "source": [
    "df.groupby('distance_to_center')['n_clicks'].sum().sort_values(ascending=False).iloc[:10].plot(kind='bar')\n",
    "print(df.groupby('distance_to_center')['n_clicks'].sum().sort_values(ascending=False).iloc[:10])"
   ]
  },
  {
   "cell_type": "markdown",
   "metadata": {},
   "source": [
    "#### 1.4) Correlation matrix"
   ]
  },
  {
   "cell_type": "markdown",
   "metadata": {},
   "source": [
    "To spped up the features analysis we will check the correlation between numerical features in our data set between themselves and the number of clicks. This information is important to know as there are Machine Learning algorithms (for example, linear and logistic regression) that do not handle highly correlated input variables well."
   ]
  },
  {
   "cell_type": "code",
   "execution_count": 21,
   "metadata": {},
   "outputs": [
    {
     "data": {
      "image/png": "[encoded data removed]",
      "text/plain": [
       "<Figure size 648x504 with 2 Axes>"
      ]
     },
     "metadata": {
      "needs_background": "light"
     },
     "output_type": "display_data"
    }
   ],
   "source": [
    "plt.figure(figsize=(9, 7))\n",
    "g = sns.heatmap(df[[ u'city_id', u'content_score', u'n_images',\n",
    "       u'distance_to_center', u'avg_rating', u'stars', u'n_reviews',\n",
    "       u'avg_rank', u'avg_price', u'avg_saving_percent', u'n_clicks']].corr(), \n",
    "                annot=True,fmt = \".2f\", cmap = \"coolwarm\")"
   ]
  },
  {
   "cell_type": "markdown",
   "metadata": {},
   "source": [
    "A few features seems to correlate with `n_clicks`: `n_reviews`, `avg_saving_percent`,`content_score`,`stars`,`avg_rank`. But we do not really have linearly correlated features, which prevents us from multicollinearity scenario."
   ]
  },
  {
   "cell_type": "markdown",
   "metadata": {},
   "source": [
    "From the correlation matrix, we could see that feature `stars` highly correlates with: `n_reviews`, `content score`,`saving percent`. At the same time, exactly these features correlate at most with `n_clicks`. Therefore we do expect them to have a high contribution to the regression model. "
   ]
  },
  {
   "cell_type": "markdown",
   "metadata": {},
   "source": [
    "### 1. 4) Outliers"
   ]
  },
  {
   "cell_type": "markdown",
   "metadata": {},
   "source": [
    "Additionally, we do see a number of outliers from the box plots, however, would be correct to analyze is statistically through IQR."
   ]
  },
  {
   "cell_type": "code",
   "execution_count": 22,
   "metadata": {},
   "outputs": [],
   "source": [
    "# Analyze outliers with H- spread\n",
    "\n",
    "def outliers(df):\n",
    "\n",
    "    Q1 = df.quantile(0.25)\n",
    "    Q3 = df.quantile(0.75)\n",
    "    IQR = Q3 - Q1\n",
    "    print(IQR)\n",
    "    \n",
    "    df_clear = df[~((df < (Q1 - 1.5 * IQR)) |(df > (Q3 + 1.5 * IQR))).any(axis=1)]\n",
    "    df_clear.reset_index(drop=True, inplace=True)\n",
    "    \n",
    "    return df_clear"
   ]
  },
  {
   "cell_type": "code",
   "execution_count": 23,
   "metadata": {},
   "outputs": [
    {
     "name": "stdout",
     "output_type": "stream",
     "text": [
      "city_id               105450.000\n",
      "content_score             14.000\n",
      "n_images                   2.000\n",
      "distance_to_center      3619.000\n",
      "avg_rating                 7.000\n",
      "stars                      3.000\n",
      "n_reviews                777.000\n",
      "avg_rank                   7.284\n",
      "avg_price                 69.880\n",
      "avg_saving_percent        10.000\n",
      "n_clicks                   2.000\n",
      "dtype: float64\n"
     ]
    },
    {
     "data": {
      "text/plain": [
       "(182689, 11)"
      ]
     },
     "execution_count": 23,
     "metadata": {},
     "output_type": "execute_result"
    }
   ],
   "source": [
    "data_tukey = outliers(df)\n",
    "data_tukey.shape"
   ]
  },
  {
   "cell_type": "markdown",
   "metadata": {},
   "source": [
    "Train data is being dramatically reduced by applying the Tukey method. I would consider losing almost $50\\%$ of the data as a huge loss, therefore we will proceed with more specific outliers removal. "
   ]
  },
  {
   "cell_type": "code",
   "execution_count": 24,
   "metadata": {},
   "outputs": [
    {
     "data": {
      "text/html": [
       "<div>\n",
       "<style scoped>\n",
       "    .dataframe tbody tr th:only-of-type {\n",
       "        vertical-align: middle;\n",
       "    }\n",
       "\n",
       "    .dataframe tbody tr th {\n",
       "        vertical-align: top;\n",
       "    }\n",
       "\n",
       "    .dataframe thead th {\n",
       "        text-align: right;\n",
       "    }\n",
       "</style>\n",
       "<table border=\"1\" class=\"dataframe\">\n",
       "  <thead>\n",
       "    <tr style=\"text-align: right;\">\n",
       "      <th></th>\n",
       "      <th>city_id</th>\n",
       "      <th>content_score</th>\n",
       "      <th>n_images</th>\n",
       "      <th>distance_to_center</th>\n",
       "      <th>avg_rating</th>\n",
       "      <th>stars</th>\n",
       "      <th>n_reviews</th>\n",
       "      <th>avg_rank</th>\n",
       "      <th>avg_price</th>\n",
       "      <th>avg_saving_percent</th>\n",
       "      <th>n_clicks</th>\n",
       "    </tr>\n",
       "  </thead>\n",
       "  <tbody>\n",
       "    <tr>\n",
       "      <th>count</th>\n",
       "      <td>395979.000000</td>\n",
       "      <td>395979.000000</td>\n",
       "      <td>3.959780e+05</td>\n",
       "      <td>3.959580e+05</td>\n",
       "      <td>286089.000000</td>\n",
       "      <td>395925.000000</td>\n",
       "      <td>395958.000000</td>\n",
       "      <td>396487.000000</td>\n",
       "      <td>396317.000000</td>\n",
       "      <td>396317.000000</td>\n",
       "      <td>396487.000000</td>\n",
       "    </tr>\n",
       "    <tr>\n",
       "      <th>mean</th>\n",
       "      <td>149193.465376</td>\n",
       "      <td>50.992795</td>\n",
       "      <td>2.593212e+02</td>\n",
       "      <td>1.634383e+04</td>\n",
       "      <td>81.616525</td>\n",
       "      <td>1.159659</td>\n",
       "      <td>913.667419</td>\n",
       "      <td>14.694502</td>\n",
       "      <td>109.332048</td>\n",
       "      <td>7.179601</td>\n",
       "      <td>13.781980</td>\n",
       "    </tr>\n",
       "    <tr>\n",
       "      <th>std</th>\n",
       "      <td>219189.285044</td>\n",
       "      <td>11.563444</td>\n",
       "      <td>1.731682e+04</td>\n",
       "      <td>2.752200e+05</td>\n",
       "      <td>6.025140</td>\n",
       "      <td>1.619713</td>\n",
       "      <td>2432.494160</td>\n",
       "      <td>5.604578</td>\n",
       "      <td>148.198851</td>\n",
       "      <td>13.081529</td>\n",
       "      <td>123.572896</td>\n",
       "    </tr>\n",
       "    <tr>\n",
       "      <th>min</th>\n",
       "      <td>2.000000</td>\n",
       "      <td>7.000000</td>\n",
       "      <td>-1.000000e+00</td>\n",
       "      <td>0.000000e+00</td>\n",
       "      <td>34.000000</td>\n",
       "      <td>0.000000</td>\n",
       "      <td>0.000000</td>\n",
       "      <td>1.000000</td>\n",
       "      <td>4.000000</td>\n",
       "      <td>0.000000</td>\n",
       "      <td>0.000000</td>\n",
       "    </tr>\n",
       "    <tr>\n",
       "      <th>25%</th>\n",
       "      <td>32014.000000</td>\n",
       "      <td>45.000000</td>\n",
       "      <td>0.000000e+00</td>\n",
       "      <td>5.440000e+02</td>\n",
       "      <td>79.000000</td>\n",
       "      <td>0.000000</td>\n",
       "      <td>0.000000</td>\n",
       "      <td>11.091000</td>\n",
       "      <td>51.050000</td>\n",
       "      <td>0.000000</td>\n",
       "      <td>0.000000</td>\n",
       "    </tr>\n",
       "    <tr>\n",
       "      <th>50%</th>\n",
       "      <td>55122.000000</td>\n",
       "      <td>53.000000</td>\n",
       "      <td>1.000000e+00</td>\n",
       "      <td>1.516000e+03</td>\n",
       "      <td>83.000000</td>\n",
       "      <td>0.000000</td>\n",
       "      <td>189.000000</td>\n",
       "      <td>15.000000</td>\n",
       "      <td>77.650000</td>\n",
       "      <td>0.000000</td>\n",
       "      <td>0.000000</td>\n",
       "    </tr>\n",
       "    <tr>\n",
       "      <th>75%</th>\n",
       "      <td>137464.000000</td>\n",
       "      <td>59.000000</td>\n",
       "      <td>2.000000e+00</td>\n",
       "      <td>4.163000e+03</td>\n",
       "      <td>86.000000</td>\n",
       "      <td>3.000000</td>\n",
       "      <td>777.000000</td>\n",
       "      <td>18.375000</td>\n",
       "      <td>120.930000</td>\n",
       "      <td>10.000000</td>\n",
       "      <td>2.000000</td>\n",
       "    </tr>\n",
       "    <tr>\n",
       "      <th>max</th>\n",
       "      <td>878736.000000</td>\n",
       "      <td>81.000000</td>\n",
       "      <td>2.393911e+06</td>\n",
       "      <td>1.834155e+07</td>\n",
       "      <td>97.000000</td>\n",
       "      <td>5.000000</td>\n",
       "      <td>283089.000000</td>\n",
       "      <td>100.000000</td>\n",
       "      <td>8000.000000</td>\n",
       "      <td>99.000000</td>\n",
       "      <td>13742.000000</td>\n",
       "    </tr>\n",
       "  </tbody>\n",
       "</table>\n",
       "</div>"
      ],
      "text/plain": [
       "             city_id  content_score      n_images  distance_to_center  \\\n",
       "count  395979.000000  395979.000000  3.959780e+05        3.959580e+05   \n",
       "mean   149193.465376      50.992795  2.593212e+02        1.634383e+04   \n",
       "std    219189.285044      11.563444  1.731682e+04        2.752200e+05   \n",
       "min         2.000000       7.000000 -1.000000e+00        0.000000e+00   \n",
       "25%     32014.000000      45.000000  0.000000e+00        5.440000e+02   \n",
       "50%     55122.000000      53.000000  1.000000e+00        1.516000e+03   \n",
       "75%    137464.000000      59.000000  2.000000e+00        4.163000e+03   \n",
       "max    878736.000000      81.000000  2.393911e+06        1.834155e+07   \n",
       "\n",
       "          avg_rating          stars      n_reviews       avg_rank  \\\n",
       "count  286089.000000  395925.000000  395958.000000  396487.000000   \n",
       "mean       81.616525       1.159659     913.667419      14.694502   \n",
       "std         6.025140       1.619713    2432.494160       5.604578   \n",
       "min        34.000000       0.000000       0.000000       1.000000   \n",
       "25%        79.000000       0.000000       0.000000      11.091000   \n",
       "50%        83.000000       0.000000     189.000000      15.000000   \n",
       "75%        86.000000       3.000000     777.000000      18.375000   \n",
       "max        97.000000       5.000000  283089.000000     100.000000   \n",
       "\n",
       "           avg_price  avg_saving_percent       n_clicks  \n",
       "count  396317.000000       396317.000000  396487.000000  \n",
       "mean      109.332048            7.179601      13.781980  \n",
       "std       148.198851           13.081529     123.572896  \n",
       "min         4.000000            0.000000       0.000000  \n",
       "25%        51.050000            0.000000       0.000000  \n",
       "50%        77.650000            0.000000       0.000000  \n",
       "75%       120.930000           10.000000       2.000000  \n",
       "max      8000.000000           99.000000   13742.000000  "
      ]
     },
     "execution_count": 24,
     "metadata": {},
     "output_type": "execute_result"
    }
   ],
   "source": [
    "df.describe()"
   ]
  },
  {
   "cell_type": "markdown",
   "metadata": {},
   "source": [
    "#### Average Price"
   ]
  },
  {
   "cell_type": "markdown",
   "metadata": {},
   "source": [
    "Above we have already discussed the samples with `avg_price` bigger than 7000, let's remove them."
   ]
  },
  {
   "cell_type": "code",
   "execution_count": 25,
   "metadata": {},
   "outputs": [
    {
     "data": {
      "text/html": [
       "<div>\n",
       "<style scoped>\n",
       "    .dataframe tbody tr th:only-of-type {\n",
       "        vertical-align: middle;\n",
       "    }\n",
       "\n",
       "    .dataframe tbody tr th {\n",
       "        vertical-align: top;\n",
       "    }\n",
       "\n",
       "    .dataframe thead th {\n",
       "        text-align: right;\n",
       "    }\n",
       "</style>\n",
       "<table border=\"1\" class=\"dataframe\">\n",
       "  <thead>\n",
       "    <tr style=\"text-align: right;\">\n",
       "      <th></th>\n",
       "      <th>city_id</th>\n",
       "      <th>content_score</th>\n",
       "      <th>n_images</th>\n",
       "      <th>distance_to_center</th>\n",
       "      <th>avg_rating</th>\n",
       "      <th>stars</th>\n",
       "      <th>n_reviews</th>\n",
       "      <th>avg_rank</th>\n",
       "      <th>avg_price</th>\n",
       "      <th>avg_saving_percent</th>\n",
       "      <th>n_clicks</th>\n",
       "    </tr>\n",
       "  </thead>\n",
       "  <tbody>\n",
       "    <tr>\n",
       "      <th>29242</th>\n",
       "      <td>54398.0</td>\n",
       "      <td>47.0</td>\n",
       "      <td>0.0</td>\n",
       "      <td>6451.0</td>\n",
       "      <td>84.0</td>\n",
       "      <td>0.0</td>\n",
       "      <td>216.0</td>\n",
       "      <td>15.00</td>\n",
       "      <td>8000.00</td>\n",
       "      <td>0.0</td>\n",
       "      <td>0</td>\n",
       "    </tr>\n",
       "    <tr>\n",
       "      <th>107649</th>\n",
       "      <td>146568.0</td>\n",
       "      <td>19.0</td>\n",
       "      <td>0.0</td>\n",
       "      <td>53508.0</td>\n",
       "      <td>NaN</td>\n",
       "      <td>0.0</td>\n",
       "      <td>0.0</td>\n",
       "      <td>14.75</td>\n",
       "      <td>7162.37</td>\n",
       "      <td>0.0</td>\n",
       "      <td>0</td>\n",
       "    </tr>\n",
       "    <tr>\n",
       "      <th>155038</th>\n",
       "      <td>174248.0</td>\n",
       "      <td>42.0</td>\n",
       "      <td>0.0</td>\n",
       "      <td>11541.0</td>\n",
       "      <td>NaN</td>\n",
       "      <td>0.0</td>\n",
       "      <td>0.0</td>\n",
       "      <td>11.00</td>\n",
       "      <td>7773.74</td>\n",
       "      <td>0.0</td>\n",
       "      <td>0</td>\n",
       "    </tr>\n",
       "    <tr>\n",
       "      <th>240112</th>\n",
       "      <td>52306.0</td>\n",
       "      <td>42.0</td>\n",
       "      <td>0.0</td>\n",
       "      <td>2607.0</td>\n",
       "      <td>NaN</td>\n",
       "      <td>0.0</td>\n",
       "      <td>0.0</td>\n",
       "      <td>14.50</td>\n",
       "      <td>7741.74</td>\n",
       "      <td>0.0</td>\n",
       "      <td>0</td>\n",
       "    </tr>\n",
       "    <tr>\n",
       "      <th>314247</th>\n",
       "      <td>44036.0</td>\n",
       "      <td>42.0</td>\n",
       "      <td>0.0</td>\n",
       "      <td>1156.0</td>\n",
       "      <td>NaN</td>\n",
       "      <td>0.0</td>\n",
       "      <td>0.0</td>\n",
       "      <td>3.00</td>\n",
       "      <td>7957.34</td>\n",
       "      <td>0.0</td>\n",
       "      <td>0</td>\n",
       "    </tr>\n",
       "  </tbody>\n",
       "</table>\n",
       "</div>"
      ],
      "text/plain": [
       "         city_id  content_score  n_images  distance_to_center  avg_rating  \\\n",
       "29242    54398.0           47.0       0.0              6451.0        84.0   \n",
       "107649  146568.0           19.0       0.0             53508.0         NaN   \n",
       "155038  174248.0           42.0       0.0             11541.0         NaN   \n",
       "240112   52306.0           42.0       0.0              2607.0         NaN   \n",
       "314247   44036.0           42.0       0.0              1156.0         NaN   \n",
       "\n",
       "        stars  n_reviews  avg_rank  avg_price  avg_saving_percent  n_clicks  \n",
       "29242     0.0      216.0     15.00    8000.00                 0.0         0  \n",
       "107649    0.0        0.0     14.75    7162.37                 0.0         0  \n",
       "155038    0.0        0.0     11.00    7773.74                 0.0         0  \n",
       "240112    0.0        0.0     14.50    7741.74                 0.0         0  \n",
       "314247    0.0        0.0      3.00    7957.34                 0.0         0  "
      ]
     },
     "execution_count": 25,
     "metadata": {},
     "output_type": "execute_result"
    }
   ],
   "source": [
    "df[df['avg_price']>7000]"
   ]
  },
  {
   "cell_type": "code",
   "execution_count": 26,
   "metadata": {},
   "outputs": [],
   "source": [
    "df = df.drop(df[df['avg_price']>7000].index)"
   ]
  },
  {
   "cell_type": "markdown",
   "metadata": {},
   "source": [
    "#### Number of Images"
   ]
  },
  {
   "cell_type": "code",
   "execution_count": 27,
   "metadata": {},
   "outputs": [
    {
     "data": {
      "text/plain": [
       "<matplotlib.axes._subplots.AxesSubplot at 0x7f3e0cc95550>"
      ]
     },
     "execution_count": 27,
     "metadata": {},
     "output_type": "execute_result"
    },
    {
     "data": {
      "image/png": "[encoded data removed]",
      "text/plain": [
       "<Figure size 432x288 with 1 Axes>"
      ]
     },
     "metadata": {
      "needs_background": "light"
     },
     "output_type": "display_data"
    }
   ],
   "source": [
    "sns.boxplot(x=df['n_images'])"
   ]
  },
  {
   "cell_type": "code",
   "execution_count": 28,
   "metadata": {},
   "outputs": [
    {
     "data": {
      "text/html": [
       "<div>\n",
       "<style scoped>\n",
       "    .dataframe tbody tr th:only-of-type {\n",
       "        vertical-align: middle;\n",
       "    }\n",
       "\n",
       "    .dataframe tbody tr th {\n",
       "        vertical-align: top;\n",
       "    }\n",
       "\n",
       "    .dataframe thead th {\n",
       "        text-align: right;\n",
       "    }\n",
       "</style>\n",
       "<table border=\"1\" class=\"dataframe\">\n",
       "  <thead>\n",
       "    <tr style=\"text-align: right;\">\n",
       "      <th></th>\n",
       "      <th>city_id</th>\n",
       "      <th>content_score</th>\n",
       "      <th>n_images</th>\n",
       "      <th>distance_to_center</th>\n",
       "      <th>avg_rating</th>\n",
       "      <th>stars</th>\n",
       "      <th>n_reviews</th>\n",
       "      <th>avg_rank</th>\n",
       "      <th>avg_price</th>\n",
       "      <th>avg_saving_percent</th>\n",
       "      <th>n_clicks</th>\n",
       "    </tr>\n",
       "  </thead>\n",
       "  <tbody>\n",
       "    <tr>\n",
       "      <th>26198</th>\n",
       "      <td>84192.0</td>\n",
       "      <td>58.0</td>\n",
       "      <td>2270985.0</td>\n",
       "      <td>1549.0</td>\n",
       "      <td>87.0</td>\n",
       "      <td>2.0</td>\n",
       "      <td>1356.0</td>\n",
       "      <td>9.0</td>\n",
       "      <td>71.50</td>\n",
       "      <td>7.0</td>\n",
       "      <td>0</td>\n",
       "    </tr>\n",
       "    <tr>\n",
       "      <th>318392</th>\n",
       "      <td>29682.0</td>\n",
       "      <td>61.0</td>\n",
       "      <td>2269427.0</td>\n",
       "      <td>17271.0</td>\n",
       "      <td>82.0</td>\n",
       "      <td>2.0</td>\n",
       "      <td>7878.0</td>\n",
       "      <td>16.5</td>\n",
       "      <td>95.01</td>\n",
       "      <td>10.0</td>\n",
       "      <td>0</td>\n",
       "    </tr>\n",
       "    <tr>\n",
       "      <th>321831</th>\n",
       "      <td>29848.0</td>\n",
       "      <td>62.0</td>\n",
       "      <td>2007288.0</td>\n",
       "      <td>8922.0</td>\n",
       "      <td>87.0</td>\n",
       "      <td>3.0</td>\n",
       "      <td>6921.0</td>\n",
       "      <td>17.0</td>\n",
       "      <td>84.98</td>\n",
       "      <td>9.0</td>\n",
       "      <td>0</td>\n",
       "    </tr>\n",
       "    <tr>\n",
       "      <th>364534</th>\n",
       "      <td>104086.0</td>\n",
       "      <td>59.0</td>\n",
       "      <td>2393911.0</td>\n",
       "      <td>574.0</td>\n",
       "      <td>85.0</td>\n",
       "      <td>2.0</td>\n",
       "      <td>3090.0</td>\n",
       "      <td>20.0</td>\n",
       "      <td>143.31</td>\n",
       "      <td>10.0</td>\n",
       "      <td>0</td>\n",
       "    </tr>\n",
       "  </tbody>\n",
       "</table>\n",
       "</div>"
      ],
      "text/plain": [
       "         city_id  content_score   n_images  distance_to_center  avg_rating  \\\n",
       "26198    84192.0           58.0  2270985.0              1549.0        87.0   \n",
       "318392   29682.0           61.0  2269427.0             17271.0        82.0   \n",
       "321831   29848.0           62.0  2007288.0              8922.0        87.0   \n",
       "364534  104086.0           59.0  2393911.0               574.0        85.0   \n",
       "\n",
       "        stars  n_reviews  avg_rank  avg_price  avg_saving_percent  n_clicks  \n",
       "26198     2.0     1356.0       9.0      71.50                 7.0         0  \n",
       "318392    2.0     7878.0      16.5      95.01                10.0         0  \n",
       "321831    3.0     6921.0      17.0      84.98                 9.0         0  \n",
       "364534    2.0     3090.0      20.0     143.31                10.0         0  "
      ]
     },
     "execution_count": 28,
     "metadata": {},
     "output_type": "execute_result"
    }
   ],
   "source": [
    "df[df['n_images']>2000000]"
   ]
  },
  {
   "cell_type": "markdown",
   "metadata": {},
   "source": [
    "Even though the number of images above 2 mln for the hotel seems to be ridiculously big, there are no reasons to remove these rows from the data set."
   ]
  },
  {
   "cell_type": "markdown",
   "metadata": {},
   "source": [
    "#### Number of reviews\n",
    "Also, the maximum value of `n_reviews` looks suspicious. "
   ]
  },
  {
   "cell_type": "code",
   "execution_count": 29,
   "metadata": {},
   "outputs": [
    {
     "data": {
      "text/plain": [
       "<matplotlib.axes._subplots.AxesSubplot at 0x7f3e0cc95890>"
      ]
     },
     "execution_count": 29,
     "metadata": {},
     "output_type": "execute_result"
    },
    {
     "data": {
      "image/png": "[encoded data removed]",
      "text/plain": [
       "<Figure size 432x288 with 1 Axes>"
      ]
     },
     "metadata": {
      "needs_background": "light"
     },
     "output_type": "display_data"
    }
   ],
   "source": [
    "sns.boxplot(x=df['n_reviews'])"
   ]
  },
  {
   "cell_type": "code",
   "execution_count": 30,
   "metadata": {},
   "outputs": [
    {
     "data": {
      "text/html": [
       "<div>\n",
       "<style scoped>\n",
       "    .dataframe tbody tr th:only-of-type {\n",
       "        vertical-align: middle;\n",
       "    }\n",
       "\n",
       "    .dataframe tbody tr th {\n",
       "        vertical-align: top;\n",
       "    }\n",
       "\n",
       "    .dataframe thead th {\n",
       "        text-align: right;\n",
       "    }\n",
       "</style>\n",
       "<table border=\"1\" class=\"dataframe\">\n",
       "  <thead>\n",
       "    <tr style=\"text-align: right;\">\n",
       "      <th></th>\n",
       "      <th>city_id</th>\n",
       "      <th>content_score</th>\n",
       "      <th>n_images</th>\n",
       "      <th>distance_to_center</th>\n",
       "      <th>avg_rating</th>\n",
       "      <th>stars</th>\n",
       "      <th>n_reviews</th>\n",
       "      <th>avg_rank</th>\n",
       "      <th>avg_price</th>\n",
       "      <th>avg_saving_percent</th>\n",
       "      <th>n_clicks</th>\n",
       "    </tr>\n",
       "  </thead>\n",
       "  <tbody>\n",
       "    <tr>\n",
       "      <th>49900</th>\n",
       "      <td>29468.0</td>\n",
       "      <td>66.0</td>\n",
       "      <td>8.0</td>\n",
       "      <td>1114.0</td>\n",
       "      <td>55.0</td>\n",
       "      <td>2.0</td>\n",
       "      <td>153039.0</td>\n",
       "      <td>7.228</td>\n",
       "      <td>178.98</td>\n",
       "      <td>43.0</td>\n",
       "      <td>910</td>\n",
       "    </tr>\n",
       "    <tr>\n",
       "      <th>82569</th>\n",
       "      <td>29334.0</td>\n",
       "      <td>64.0</td>\n",
       "      <td>11.0</td>\n",
       "      <td>391.0</td>\n",
       "      <td>69.0</td>\n",
       "      <td>3.0</td>\n",
       "      <td>161541.0</td>\n",
       "      <td>8.961</td>\n",
       "      <td>108.23</td>\n",
       "      <td>37.0</td>\n",
       "      <td>386</td>\n",
       "    </tr>\n",
       "    <tr>\n",
       "      <th>142141</th>\n",
       "      <td>29334.0</td>\n",
       "      <td>62.0</td>\n",
       "      <td>11.0</td>\n",
       "      <td>1560.0</td>\n",
       "      <td>73.0</td>\n",
       "      <td>3.0</td>\n",
       "      <td>261816.0</td>\n",
       "      <td>10.071</td>\n",
       "      <td>81.34</td>\n",
       "      <td>27.0</td>\n",
       "      <td>886</td>\n",
       "    </tr>\n",
       "    <tr>\n",
       "      <th>202741</th>\n",
       "      <td>29334.0</td>\n",
       "      <td>69.0</td>\n",
       "      <td>10.0</td>\n",
       "      <td>1336.0</td>\n",
       "      <td>81.0</td>\n",
       "      <td>4.0</td>\n",
       "      <td>207075.0</td>\n",
       "      <td>5.842</td>\n",
       "      <td>106.93</td>\n",
       "      <td>35.0</td>\n",
       "      <td>954</td>\n",
       "    </tr>\n",
       "    <tr>\n",
       "      <th>322638</th>\n",
       "      <td>29334.0</td>\n",
       "      <td>62.0</td>\n",
       "      <td>13.0</td>\n",
       "      <td>1940.0</td>\n",
       "      <td>75.0</td>\n",
       "      <td>4.0</td>\n",
       "      <td>283089.0</td>\n",
       "      <td>8.147</td>\n",
       "      <td>93.16</td>\n",
       "      <td>31.0</td>\n",
       "      <td>1534</td>\n",
       "    </tr>\n",
       "  </tbody>\n",
       "</table>\n",
       "</div>"
      ],
      "text/plain": [
       "        city_id  content_score  n_images  distance_to_center  avg_rating  \\\n",
       "49900   29468.0           66.0       8.0              1114.0        55.0   \n",
       "82569   29334.0           64.0      11.0               391.0        69.0   \n",
       "142141  29334.0           62.0      11.0              1560.0        73.0   \n",
       "202741  29334.0           69.0      10.0              1336.0        81.0   \n",
       "322638  29334.0           62.0      13.0              1940.0        75.0   \n",
       "\n",
       "        stars  n_reviews  avg_rank  avg_price  avg_saving_percent  n_clicks  \n",
       "49900     2.0   153039.0     7.228     178.98                43.0       910  \n",
       "82569     3.0   161541.0     8.961     108.23                37.0       386  \n",
       "142141    3.0   261816.0    10.071      81.34                27.0       886  \n",
       "202741    4.0   207075.0     5.842     106.93                35.0       954  \n",
       "322638    4.0   283089.0     8.147      93.16                31.0      1534  "
      ]
     },
     "execution_count": 30,
     "metadata": {},
     "output_type": "execute_result"
    }
   ],
   "source": [
    "df[df['n_reviews']>150000]"
   ]
  },
  {
   "cell_type": "markdown",
   "metadata": {},
   "source": [
    "Four out of five cities with highest amount of clicks have `city_id` equal to 29334. Let us have a closer look at this city id."
   ]
  },
  {
   "cell_type": "code",
   "execution_count": 31,
   "metadata": {},
   "outputs": [
    {
     "data": {
      "text/html": [
       "<div>\n",
       "<style scoped>\n",
       "    .dataframe tbody tr th:only-of-type {\n",
       "        vertical-align: middle;\n",
       "    }\n",
       "\n",
       "    .dataframe tbody tr th {\n",
       "        vertical-align: top;\n",
       "    }\n",
       "\n",
       "    .dataframe thead th {\n",
       "        text-align: right;\n",
       "    }\n",
       "</style>\n",
       "<table border=\"1\" class=\"dataframe\">\n",
       "  <thead>\n",
       "    <tr style=\"text-align: right;\">\n",
       "      <th></th>\n",
       "      <th>city_id</th>\n",
       "      <th>content_score</th>\n",
       "      <th>n_images</th>\n",
       "      <th>distance_to_center</th>\n",
       "      <th>avg_rating</th>\n",
       "      <th>stars</th>\n",
       "      <th>n_reviews</th>\n",
       "      <th>avg_rank</th>\n",
       "      <th>avg_price</th>\n",
       "      <th>avg_saving_percent</th>\n",
       "      <th>n_clicks</th>\n",
       "    </tr>\n",
       "  </thead>\n",
       "  <tbody>\n",
       "    <tr>\n",
       "      <th>349724</th>\n",
       "      <td>29334.0</td>\n",
       "      <td>50.0</td>\n",
       "      <td>2.0</td>\n",
       "      <td>819.0</td>\n",
       "      <td>NaN</td>\n",
       "      <td>0.0</td>\n",
       "      <td>0.0</td>\n",
       "      <td>12.00</td>\n",
       "      <td>484.19</td>\n",
       "      <td>10.0</td>\n",
       "      <td>0</td>\n",
       "    </tr>\n",
       "    <tr>\n",
       "      <th>71436</th>\n",
       "      <td>29334.0</td>\n",
       "      <td>49.0</td>\n",
       "      <td>0.0</td>\n",
       "      <td>11528.0</td>\n",
       "      <td>NaN</td>\n",
       "      <td>0.0</td>\n",
       "      <td>0.0</td>\n",
       "      <td>9.25</td>\n",
       "      <td>59.56</td>\n",
       "      <td>0.0</td>\n",
       "      <td>0</td>\n",
       "    </tr>\n",
       "    <tr>\n",
       "      <th>260734</th>\n",
       "      <td>29334.0</td>\n",
       "      <td>45.0</td>\n",
       "      <td>0.0</td>\n",
       "      <td>8469.0</td>\n",
       "      <td>NaN</td>\n",
       "      <td>0.0</td>\n",
       "      <td>0.0</td>\n",
       "      <td>13.00</td>\n",
       "      <td>478.56</td>\n",
       "      <td>0.0</td>\n",
       "      <td>0</td>\n",
       "    </tr>\n",
       "    <tr>\n",
       "      <th>368451</th>\n",
       "      <td>29334.0</td>\n",
       "      <td>43.0</td>\n",
       "      <td>0.0</td>\n",
       "      <td>667.0</td>\n",
       "      <td>NaN</td>\n",
       "      <td>0.0</td>\n",
       "      <td>0.0</td>\n",
       "      <td>1.50</td>\n",
       "      <td>135.10</td>\n",
       "      <td>0.0</td>\n",
       "      <td>2</td>\n",
       "    </tr>\n",
       "    <tr>\n",
       "      <th>264052</th>\n",
       "      <td>29334.0</td>\n",
       "      <td>23.0</td>\n",
       "      <td>0.0</td>\n",
       "      <td>0.0</td>\n",
       "      <td>NaN</td>\n",
       "      <td>0.0</td>\n",
       "      <td>0.0</td>\n",
       "      <td>22.00</td>\n",
       "      <td>196.18</td>\n",
       "      <td>0.0</td>\n",
       "      <td>0</td>\n",
       "    </tr>\n",
       "  </tbody>\n",
       "</table>\n",
       "</div>"
      ],
      "text/plain": [
       "        city_id  content_score  n_images  distance_to_center  avg_rating  \\\n",
       "349724  29334.0           50.0       2.0               819.0         NaN   \n",
       "71436   29334.0           49.0       0.0             11528.0         NaN   \n",
       "260734  29334.0           45.0       0.0              8469.0         NaN   \n",
       "368451  29334.0           43.0       0.0               667.0         NaN   \n",
       "264052  29334.0           23.0       0.0                 0.0         NaN   \n",
       "\n",
       "        stars  n_reviews  avg_rank  avg_price  avg_saving_percent  n_clicks  \n",
       "349724    0.0        0.0     12.00     484.19                10.0         0  \n",
       "71436     0.0        0.0      9.25      59.56                 0.0         0  \n",
       "260734    0.0        0.0     13.00     478.56                 0.0         0  \n",
       "368451    0.0        0.0      1.50     135.10                 0.0         2  \n",
       "264052    0.0        0.0     22.00     196.18                 0.0         0  "
      ]
     },
     "execution_count": 31,
     "metadata": {},
     "output_type": "execute_result"
    }
   ],
   "source": [
    "df[df['city_id'] == 29334].sort_values(by = 'n_reviews').head()"
   ]
  },
  {
   "cell_type": "markdown",
   "metadata": {},
   "source": [
    "So we can observe that samples with a big amount of reviews seemed to be ok, and we will keep them in order to preserve the abilities of the model to generalize well on the test set. However the one can see that a lot of samples has almost no data and we will get rid of these samples."
   ]
  },
  {
   "cell_type": "code",
   "execution_count": 32,
   "metadata": {},
   "outputs": [
    {
     "name": "stdout",
     "output_type": "stream",
     "text": [
      "<class 'pandas.core.frame.DataFrame'>\n",
      "Int64Index: 396482 entries, 0 to 396486\n",
      "Data columns (total 11 columns):\n",
      "city_id               395974 non-null float64\n",
      "content_score         395974 non-null float64\n",
      "n_images              395973 non-null float64\n",
      "distance_to_center    395953 non-null float64\n",
      "avg_rating            286088 non-null float64\n",
      "stars                 395920 non-null float64\n",
      "n_reviews             395953 non-null float64\n",
      "avg_rank              396482 non-null float64\n",
      "avg_price             396312 non-null float64\n",
      "avg_saving_percent    396312 non-null float64\n",
      "n_clicks              396482 non-null int64\n",
      "dtypes: float64(10), int64(1)\n",
      "memory usage: 36.3 MB\n"
     ]
    }
   ],
   "source": [
    "df.info()"
   ]
  },
  {
   "cell_type": "code",
   "execution_count": 33,
   "metadata": {},
   "outputs": [
    {
     "data": {
      "text/html": [
       "<div>\n",
       "<style scoped>\n",
       "    .dataframe tbody tr th:only-of-type {\n",
       "        vertical-align: middle;\n",
       "    }\n",
       "\n",
       "    .dataframe tbody tr th {\n",
       "        vertical-align: top;\n",
       "    }\n",
       "\n",
       "    .dataframe thead th {\n",
       "        text-align: right;\n",
       "    }\n",
       "</style>\n",
       "<table border=\"1\" class=\"dataframe\">\n",
       "  <thead>\n",
       "    <tr style=\"text-align: right;\">\n",
       "      <th></th>\n",
       "      <th>city_id</th>\n",
       "      <th>content_score</th>\n",
       "      <th>n_images</th>\n",
       "      <th>distance_to_center</th>\n",
       "      <th>avg_rating</th>\n",
       "      <th>stars</th>\n",
       "      <th>n_reviews</th>\n",
       "      <th>avg_rank</th>\n",
       "      <th>avg_price</th>\n",
       "      <th>avg_saving_percent</th>\n",
       "      <th>n_clicks</th>\n",
       "    </tr>\n",
       "  </thead>\n",
       "  <tbody>\n",
       "    <tr>\n",
       "      <th>913</th>\n",
       "      <td>341292.0</td>\n",
       "      <td>19.0</td>\n",
       "      <td>0.0</td>\n",
       "      <td>0.0</td>\n",
       "      <td>NaN</td>\n",
       "      <td>0.0</td>\n",
       "      <td>0.0</td>\n",
       "      <td>15.0</td>\n",
       "      <td>63.20</td>\n",
       "      <td>0.0</td>\n",
       "      <td>0</td>\n",
       "    </tr>\n",
       "    <tr>\n",
       "      <th>916</th>\n",
       "      <td>54246.0</td>\n",
       "      <td>20.0</td>\n",
       "      <td>0.0</td>\n",
       "      <td>0.0</td>\n",
       "      <td>NaN</td>\n",
       "      <td>0.0</td>\n",
       "      <td>0.0</td>\n",
       "      <td>19.0</td>\n",
       "      <td>93.60</td>\n",
       "      <td>0.0</td>\n",
       "      <td>0</td>\n",
       "    </tr>\n",
       "    <tr>\n",
       "      <th>2051</th>\n",
       "      <td>27172.0</td>\n",
       "      <td>23.0</td>\n",
       "      <td>0.0</td>\n",
       "      <td>0.0</td>\n",
       "      <td>NaN</td>\n",
       "      <td>0.0</td>\n",
       "      <td>0.0</td>\n",
       "      <td>7.0</td>\n",
       "      <td>82.46</td>\n",
       "      <td>0.0</td>\n",
       "      <td>0</td>\n",
       "    </tr>\n",
       "    <tr>\n",
       "      <th>2477</th>\n",
       "      <td>53180.0</td>\n",
       "      <td>19.0</td>\n",
       "      <td>0.0</td>\n",
       "      <td>0.0</td>\n",
       "      <td>NaN</td>\n",
       "      <td>0.0</td>\n",
       "      <td>0.0</td>\n",
       "      <td>23.0</td>\n",
       "      <td>49.71</td>\n",
       "      <td>0.0</td>\n",
       "      <td>0</td>\n",
       "    </tr>\n",
       "    <tr>\n",
       "      <th>2479</th>\n",
       "      <td>309452.0</td>\n",
       "      <td>17.0</td>\n",
       "      <td>0.0</td>\n",
       "      <td>0.0</td>\n",
       "      <td>NaN</td>\n",
       "      <td>0.0</td>\n",
       "      <td>0.0</td>\n",
       "      <td>20.0</td>\n",
       "      <td>85.60</td>\n",
       "      <td>0.0</td>\n",
       "      <td>0</td>\n",
       "    </tr>\n",
       "  </tbody>\n",
       "</table>\n",
       "</div>"
      ],
      "text/plain": [
       "       city_id  content_score  n_images  distance_to_center  avg_rating  \\\n",
       "913   341292.0           19.0       0.0                 0.0         NaN   \n",
       "916    54246.0           20.0       0.0                 0.0         NaN   \n",
       "2051   27172.0           23.0       0.0                 0.0         NaN   \n",
       "2477   53180.0           19.0       0.0                 0.0         NaN   \n",
       "2479  309452.0           17.0       0.0                 0.0         NaN   \n",
       "\n",
       "      stars  n_reviews  avg_rank  avg_price  avg_saving_percent  n_clicks  \n",
       "913     0.0        0.0      15.0      63.20                 0.0         0  \n",
       "916     0.0        0.0      19.0      93.60                 0.0         0  \n",
       "2051    0.0        0.0       7.0      82.46                 0.0         0  \n",
       "2477    0.0        0.0      23.0      49.71                 0.0         0  \n",
       "2479    0.0        0.0      20.0      85.60                 0.0         0  "
      ]
     },
     "execution_count": 33,
     "metadata": {},
     "output_type": "execute_result"
    }
   ],
   "source": [
    "# Almost 10,000 of this kind of samples\n",
    "\n",
    "df[(df['n_images'] == 0) & (df['distance_to_center'] == 0)  & (df['avg_rating'].isnull()) & (df['stars'] == 0)\n",
    "  & (df['n_reviews'] == 0) & (df['avg_saving_percent'] == 0) & (df['n_clicks'] == 0)].head()"
   ]
  },
  {
   "cell_type": "code",
   "execution_count": 34,
   "metadata": {},
   "outputs": [
    {
     "data": {
      "text/plain": [
       "(396482, 11)"
      ]
     },
     "execution_count": 34,
     "metadata": {},
     "output_type": "execute_result"
    }
   ],
   "source": [
    "df.shape"
   ]
  },
  {
   "cell_type": "code",
   "execution_count": 35,
   "metadata": {},
   "outputs": [
    {
     "name": "stdout",
     "output_type": "stream",
     "text": [
      "(386628, 11)\n"
     ]
    }
   ],
   "source": [
    "df = df.drop(df[(df['n_images'] == 0) & (df['distance_to_center'] == 0)  & (df['avg_rating'].isnull()) & (df['stars'] == 0)\n",
    "  & (df['n_reviews'] == 0) & (df['avg_saving_percent'] == 0) & (df['n_clicks'] == 0)].index)\n",
    "\n",
    "print(df.shape)"
   ]
  },
  {
   "cell_type": "code",
   "execution_count": 36,
   "metadata": {},
   "outputs": [
    {
     "data": {
      "text/plain": [
       "<matplotlib.axes._subplots.AxesSubplot at 0x7f3e0ca1b910>"
      ]
     },
     "execution_count": 36,
     "metadata": {},
     "output_type": "execute_result"
    },
    {
     "data": {
      "image/png": "[encoded data removed]",
      "text/plain": [
       "<Figure size 432x288 with 1 Axes>"
      ]
     },
     "metadata": {
      "needs_background": "light"
     },
     "output_type": "display_data"
    }
   ],
   "source": [
    "sns.boxplot(x=df['distance_to_center'])"
   ]
  },
  {
   "cell_type": "markdown",
   "metadata": {},
   "source": [
    "So, other columns are pretty much ok, therefore we go to the next step, that is **data imputation**."
   ]
  },
  {
   "cell_type": "markdown",
   "metadata": {},
   "source": [
    "### 2) Filling missing values"
   ]
  },
  {
   "cell_type": "code",
   "execution_count": 37,
   "metadata": {},
   "outputs": [
    {
     "data": {
      "text/plain": [
       "city_id                  508\n",
       "content_score            508\n",
       "n_images                 509\n",
       "distance_to_center       529\n",
       "avg_rating            100540\n",
       "stars                    562\n",
       "n_reviews                529\n",
       "avg_rank                   0\n",
       "avg_price                170\n",
       "avg_saving_percent       170\n",
       "n_clicks                   0\n",
       "dtype: int64"
      ]
     },
     "execution_count": 37,
     "metadata": {},
     "output_type": "execute_result"
    }
   ],
   "source": [
    "df.isnull().sum()"
   ]
  },
  {
   "cell_type": "code",
   "execution_count": 38,
   "metadata": {},
   "outputs": [
    {
     "data": {
      "text/plain": [
       "city_id                 155\n",
       "content_score           155\n",
       "n_images                156\n",
       "distance_to_center      163\n",
       "avg_rating            36630\n",
       "stars                   175\n",
       "n_reviews               163\n",
       "avg_rank                  0\n",
       "avg_price                58\n",
       "avg_saving_percent       58\n",
       "dtype: int64"
      ]
     },
     "execution_count": 38,
     "metadata": {},
     "output_type": "execute_result"
    }
   ],
   "source": [
    "df_test.isnull().sum()"
   ]
  },
  {
   "cell_type": "code",
   "execution_count": 39,
   "metadata": {},
   "outputs": [
    {
     "data": {
      "text/plain": [
       "((386628, 11), (132162, 10))"
      ]
     },
     "execution_count": 39,
     "metadata": {},
     "output_type": "execute_result"
    }
   ],
   "source": [
    "df.shape, df_test.shape"
   ]
  },
  {
   "cell_type": "code",
   "execution_count": 40,
   "metadata": {},
   "outputs": [
    {
     "data": {
      "text/html": [
       "<div>\n",
       "<style scoped>\n",
       "    .dataframe tbody tr th:only-of-type {\n",
       "        vertical-align: middle;\n",
       "    }\n",
       "\n",
       "    .dataframe tbody tr th {\n",
       "        vertical-align: top;\n",
       "    }\n",
       "\n",
       "    .dataframe thead th {\n",
       "        text-align: right;\n",
       "    }\n",
       "</style>\n",
       "<table border=\"1\" class=\"dataframe\">\n",
       "  <thead>\n",
       "    <tr style=\"text-align: right;\">\n",
       "      <th></th>\n",
       "      <th>avg_price</th>\n",
       "      <th>avg_rank</th>\n",
       "      <th>avg_rating</th>\n",
       "      <th>avg_saving_percent</th>\n",
       "      <th>city_id</th>\n",
       "      <th>content_score</th>\n",
       "      <th>distance_to_center</th>\n",
       "      <th>n_clicks</th>\n",
       "      <th>n_images</th>\n",
       "      <th>n_reviews</th>\n",
       "      <th>stars</th>\n",
       "    </tr>\n",
       "  </thead>\n",
       "  <tbody>\n",
       "    <tr>\n",
       "      <th>0</th>\n",
       "      <td>81.64</td>\n",
       "      <td>17.550</td>\n",
       "      <td>77.0</td>\n",
       "      <td>18.0</td>\n",
       "      <td>134520.0</td>\n",
       "      <td>70.0</td>\n",
       "      <td>1199.0</td>\n",
       "      <td>0.0</td>\n",
       "      <td>2.0</td>\n",
       "      <td>861.0</td>\n",
       "      <td>4.0</td>\n",
       "    </tr>\n",
       "    <tr>\n",
       "      <th>1</th>\n",
       "      <td>189.38</td>\n",
       "      <td>17.383</td>\n",
       "      <td>90.0</td>\n",
       "      <td>28.0</td>\n",
       "      <td>133876.0</td>\n",
       "      <td>67.0</td>\n",
       "      <td>12585.0</td>\n",
       "      <td>4.0</td>\n",
       "      <td>3.0</td>\n",
       "      <td>4371.0</td>\n",
       "      <td>4.0</td>\n",
       "    </tr>\n",
       "    <tr>\n",
       "      <th>2</th>\n",
       "      <td>57.63</td>\n",
       "      <td>16.438</td>\n",
       "      <td>83.0</td>\n",
       "      <td>27.0</td>\n",
       "      <td>133732.0</td>\n",
       "      <td>39.0</td>\n",
       "      <td>23491.0</td>\n",
       "      <td>44.0</td>\n",
       "      <td>3.0</td>\n",
       "      <td>1005.0</td>\n",
       "      <td>3.0</td>\n",
       "    </tr>\n",
       "    <tr>\n",
       "      <th>3</th>\n",
       "      <td>72.16</td>\n",
       "      <td>7.000</td>\n",
       "      <td>73.0</td>\n",
       "      <td>2.0</td>\n",
       "      <td>43772.0</td>\n",
       "      <td>59.0</td>\n",
       "      <td>3291.0</td>\n",
       "      <td>4.0</td>\n",
       "      <td>8.0</td>\n",
       "      <td>3084.0</td>\n",
       "      <td>2.0</td>\n",
       "    </tr>\n",
       "    <tr>\n",
       "      <th>4</th>\n",
       "      <td>173.25</td>\n",
       "      <td>12.564</td>\n",
       "      <td>80.0</td>\n",
       "      <td>0.0</td>\n",
       "      <td>50532.0</td>\n",
       "      <td>66.0</td>\n",
       "      <td>288.0</td>\n",
       "      <td>10.0</td>\n",
       "      <td>1.0</td>\n",
       "      <td>603.0</td>\n",
       "      <td>0.0</td>\n",
       "    </tr>\n",
       "  </tbody>\n",
       "</table>\n",
       "</div>"
      ],
      "text/plain": [
       "   avg_price  avg_rank  avg_rating  avg_saving_percent   city_id  \\\n",
       "0      81.64    17.550        77.0                18.0  134520.0   \n",
       "1     189.38    17.383        90.0                28.0  133876.0   \n",
       "2      57.63    16.438        83.0                27.0  133732.0   \n",
       "3      72.16     7.000        73.0                 2.0   43772.0   \n",
       "4     173.25    12.564        80.0                 0.0   50532.0   \n",
       "\n",
       "   content_score  distance_to_center  n_clicks  n_images  n_reviews  stars  \n",
       "0           70.0              1199.0       0.0       2.0      861.0    4.0  \n",
       "1           67.0             12585.0       4.0       3.0     4371.0    4.0  \n",
       "2           39.0             23491.0      44.0       3.0     1005.0    3.0  \n",
       "3           59.0              3291.0       4.0       8.0     3084.0    2.0  \n",
       "4           66.0               288.0      10.0       1.0      603.0    0.0  "
      ]
     },
     "execution_count": 40,
     "metadata": {},
     "output_type": "execute_result"
    }
   ],
   "source": [
    "train_len = len(df)\n",
    "dataset =  pd.concat(objs=[df, df_test], axis=0).reset_index(drop=True)\n",
    "dataset.head(5)"
   ]
  },
  {
   "cell_type": "code",
   "execution_count": 41,
   "metadata": {},
   "outputs": [
    {
     "data": {
      "text/html": [
       "<div>\n",
       "<style scoped>\n",
       "    .dataframe tbody tr th:only-of-type {\n",
       "        vertical-align: middle;\n",
       "    }\n",
       "\n",
       "    .dataframe tbody tr th {\n",
       "        vertical-align: top;\n",
       "    }\n",
       "\n",
       "    .dataframe thead th {\n",
       "        text-align: right;\n",
       "    }\n",
       "</style>\n",
       "<table border=\"1\" class=\"dataframe\">\n",
       "  <thead>\n",
       "    <tr style=\"text-align: right;\">\n",
       "      <th></th>\n",
       "      <th>city_id</th>\n",
       "      <th>content_score</th>\n",
       "      <th>n_images</th>\n",
       "      <th>distance_to_center</th>\n",
       "      <th>avg_rating</th>\n",
       "      <th>stars</th>\n",
       "      <th>n_reviews</th>\n",
       "      <th>avg_rank</th>\n",
       "      <th>avg_price</th>\n",
       "      <th>avg_saving_percent</th>\n",
       "      <th>n_clicks</th>\n",
       "    </tr>\n",
       "  </thead>\n",
       "  <tbody>\n",
       "    <tr>\n",
       "      <th>0</th>\n",
       "      <td>134520.0</td>\n",
       "      <td>70.0</td>\n",
       "      <td>2.0</td>\n",
       "      <td>1199.0</td>\n",
       "      <td>77.0</td>\n",
       "      <td>4.0</td>\n",
       "      <td>861.0</td>\n",
       "      <td>17.550</td>\n",
       "      <td>81.64</td>\n",
       "      <td>18.0</td>\n",
       "      <td>0.0</td>\n",
       "    </tr>\n",
       "    <tr>\n",
       "      <th>1</th>\n",
       "      <td>133876.0</td>\n",
       "      <td>67.0</td>\n",
       "      <td>3.0</td>\n",
       "      <td>12585.0</td>\n",
       "      <td>90.0</td>\n",
       "      <td>4.0</td>\n",
       "      <td>4371.0</td>\n",
       "      <td>17.383</td>\n",
       "      <td>189.38</td>\n",
       "      <td>28.0</td>\n",
       "      <td>4.0</td>\n",
       "    </tr>\n",
       "    <tr>\n",
       "      <th>2</th>\n",
       "      <td>133732.0</td>\n",
       "      <td>39.0</td>\n",
       "      <td>3.0</td>\n",
       "      <td>23491.0</td>\n",
       "      <td>83.0</td>\n",
       "      <td>3.0</td>\n",
       "      <td>1005.0</td>\n",
       "      <td>16.438</td>\n",
       "      <td>57.63</td>\n",
       "      <td>27.0</td>\n",
       "      <td>44.0</td>\n",
       "    </tr>\n",
       "    <tr>\n",
       "      <th>3</th>\n",
       "      <td>43772.0</td>\n",
       "      <td>59.0</td>\n",
       "      <td>8.0</td>\n",
       "      <td>3291.0</td>\n",
       "      <td>73.0</td>\n",
       "      <td>2.0</td>\n",
       "      <td>3084.0</td>\n",
       "      <td>7.000</td>\n",
       "      <td>72.16</td>\n",
       "      <td>2.0</td>\n",
       "      <td>4.0</td>\n",
       "    </tr>\n",
       "    <tr>\n",
       "      <th>4</th>\n",
       "      <td>50532.0</td>\n",
       "      <td>66.0</td>\n",
       "      <td>1.0</td>\n",
       "      <td>288.0</td>\n",
       "      <td>80.0</td>\n",
       "      <td>0.0</td>\n",
       "      <td>603.0</td>\n",
       "      <td>12.564</td>\n",
       "      <td>173.25</td>\n",
       "      <td>0.0</td>\n",
       "      <td>10.0</td>\n",
       "    </tr>\n",
       "  </tbody>\n",
       "</table>\n",
       "</div>"
      ],
      "text/plain": [
       "    city_id  content_score  n_images  distance_to_center  avg_rating  stars  \\\n",
       "0  134520.0           70.0       2.0              1199.0        77.0    4.0   \n",
       "1  133876.0           67.0       3.0             12585.0        90.0    4.0   \n",
       "2  133732.0           39.0       3.0             23491.0        83.0    3.0   \n",
       "3   43772.0           59.0       8.0              3291.0        73.0    2.0   \n",
       "4   50532.0           66.0       1.0               288.0        80.0    0.0   \n",
       "\n",
       "   n_reviews  avg_rank  avg_price  avg_saving_percent  n_clicks  \n",
       "0      861.0    17.550      81.64                18.0       0.0  \n",
       "1     4371.0    17.383     189.38                28.0       4.0  \n",
       "2     1005.0    16.438      57.63                27.0      44.0  \n",
       "3     3084.0     7.000      72.16                 2.0       4.0  \n",
       "4      603.0    12.564     173.25                 0.0      10.0  "
      ]
     },
     "execution_count": 41,
     "metadata": {},
     "output_type": "execute_result"
    }
   ],
   "source": [
    "# Reindex colums since pd.concat reorder columns (the reason is that we creating \n",
    "# DataFrames out of dictionaries. Dictionaries are a unordered which means the keys do \n",
    "# not have a specific order.) \n",
    "\n",
    "dataset = dataset.reindex_axis(df.columns, axis = 1)\n",
    "dataset.head(5)"
   ]
  },
  {
   "cell_type": "markdown",
   "metadata": {},
   "source": [
    "We can see that the majority of columns have a relatively small amount of zero values. Therefore they can be replaced by mean value without loss of precision. However, in `avg_rating` column, almost 45% of values are missed. Simply replacing it with a mean of column maybe not the best strategy. What can be done is median `avg_rating` of similar rows according to `content_score`, `avg_price` and `avg_saving_percent` (most correlated with `avg_rating` features accorfin to correlation matrix)"
   ]
  },
  {
   "cell_type": "markdown",
   "metadata": {},
   "source": [
    "#### 2.1) First approach to data imputation\n",
    "\n",
    "Basically, if we just simply get rid of all rows with any zero column value we will reduce our train set from 380k to 280k of samples. "
   ]
  },
  {
   "cell_type": "code",
   "execution_count": 42,
   "metadata": {},
   "outputs": [
    {
     "data": {
      "text/plain": [
       "(286025, 11)"
      ]
     },
     "execution_count": 42,
     "metadata": {},
     "output_type": "execute_result"
    }
   ],
   "source": [
    "df_train_cleared_nan = df.dropna().reset_index(drop=True)\n",
    "df_train_cleared_nan.shape"
   ]
  },
  {
   "cell_type": "code",
   "execution_count": 43,
   "metadata": {},
   "outputs": [
    {
     "data": {
      "text/plain": [
       "city_id               0\n",
       "content_score         0\n",
       "n_images              0\n",
       "distance_to_center    0\n",
       "avg_rating            0\n",
       "stars                 0\n",
       "n_reviews             0\n",
       "avg_rank              0\n",
       "avg_price             0\n",
       "avg_saving_percent    0\n",
       "n_clicks              0\n",
       "dtype: int64"
      ]
     },
     "execution_count": 43,
     "metadata": {},
     "output_type": "execute_result"
    }
   ],
   "source": [
    "df_train_cleared_nan.isnull().sum()"
   ]
  },
  {
   "cell_type": "markdown",
   "metadata": {},
   "source": [
    "After removing we have lost around $25 - 30\\%$ of the train data, let us see if we could conduct more subtle imputation. But, out of curiosity we will run a 5-fold CV on this set in order to see , maybe its not so bad."
   ]
  },
  {
   "cell_type": "markdown",
   "metadata": {},
   "source": [
    "#### 2.2) Second approach"
   ]
  },
  {
   "cell_type": "markdown",
   "metadata": {},
   "source": [
    "Lets start with subtle imputation of `avg_rating` column with median avg_rating of similar rows according to `avg_price`,`content_score`,`avg_saving_percent`. These columns were chosen according to the correlation matrix above, the features which are most correlated with `avg_rating`.\n",
    "However, one should take into account that we take a median of the training set and impute it into the combination of train and test sets. The reason is that we should be careful with data leakage. "
   ]
  },
  {
   "cell_type": "code",
   "execution_count": 44,
   "metadata": {},
   "outputs": [
    {
     "data": {
      "text/plain": [
       "city_id                  663\n",
       "content_score            663\n",
       "n_images                 665\n",
       "distance_to_center       692\n",
       "avg_rating            137170\n",
       "stars                    737\n",
       "n_reviews                692\n",
       "avg_rank                   0\n",
       "avg_price                228\n",
       "avg_saving_percent       228\n",
       "n_clicks              132162\n",
       "dtype: int64"
      ]
     },
     "execution_count": 44,
     "metadata": {},
     "output_type": "execute_result"
    }
   ],
   "source": [
    "dataset.isnull().sum()"
   ]
  },
  {
   "cell_type": "code",
   "execution_count": 45,
   "metadata": {},
   "outputs": [
    {
     "data": {
      "text/html": [
       "<div>\n",
       "<style scoped>\n",
       "    .dataframe tbody tr th:only-of-type {\n",
       "        vertical-align: middle;\n",
       "    }\n",
       "\n",
       "    .dataframe tbody tr th {\n",
       "        vertical-align: top;\n",
       "    }\n",
       "\n",
       "    .dataframe thead th {\n",
       "        text-align: right;\n",
       "    }\n",
       "</style>\n",
       "<table border=\"1\" class=\"dataframe\">\n",
       "  <thead>\n",
       "    <tr style=\"text-align: right;\">\n",
       "      <th></th>\n",
       "      <th>city_id</th>\n",
       "      <th>content_score</th>\n",
       "      <th>n_images</th>\n",
       "      <th>distance_to_center</th>\n",
       "      <th>avg_rating</th>\n",
       "      <th>stars</th>\n",
       "      <th>n_reviews</th>\n",
       "      <th>avg_rank</th>\n",
       "      <th>avg_price</th>\n",
       "      <th>avg_saving_percent</th>\n",
       "      <th>n_clicks</th>\n",
       "    </tr>\n",
       "  </thead>\n",
       "  <tbody>\n",
       "    <tr>\n",
       "      <th>386623</th>\n",
       "      <td>NaN</td>\n",
       "      <td>NaN</td>\n",
       "      <td>NaN</td>\n",
       "      <td>NaN</td>\n",
       "      <td>NaN</td>\n",
       "      <td>NaN</td>\n",
       "      <td>NaN</td>\n",
       "      <td>17.333</td>\n",
       "      <td>103.07</td>\n",
       "      <td>0.0</td>\n",
       "      <td>0</td>\n",
       "    </tr>\n",
       "    <tr>\n",
       "      <th>386624</th>\n",
       "      <td>NaN</td>\n",
       "      <td>NaN</td>\n",
       "      <td>NaN</td>\n",
       "      <td>NaN</td>\n",
       "      <td>NaN</td>\n",
       "      <td>NaN</td>\n",
       "      <td>NaN</td>\n",
       "      <td>12.000</td>\n",
       "      <td>44.00</td>\n",
       "      <td>0.0</td>\n",
       "      <td>0</td>\n",
       "    </tr>\n",
       "    <tr>\n",
       "      <th>386625</th>\n",
       "      <td>NaN</td>\n",
       "      <td>NaN</td>\n",
       "      <td>NaN</td>\n",
       "      <td>NaN</td>\n",
       "      <td>NaN</td>\n",
       "      <td>NaN</td>\n",
       "      <td>NaN</td>\n",
       "      <td>6.400</td>\n",
       "      <td>42.78</td>\n",
       "      <td>29.0</td>\n",
       "      <td>4</td>\n",
       "    </tr>\n",
       "    <tr>\n",
       "      <th>386626</th>\n",
       "      <td>NaN</td>\n",
       "      <td>NaN</td>\n",
       "      <td>NaN</td>\n",
       "      <td>NaN</td>\n",
       "      <td>NaN</td>\n",
       "      <td>NaN</td>\n",
       "      <td>NaN</td>\n",
       "      <td>18.143</td>\n",
       "      <td>96.23</td>\n",
       "      <td>36.0</td>\n",
       "      <td>4</td>\n",
       "    </tr>\n",
       "    <tr>\n",
       "      <th>386627</th>\n",
       "      <td>NaN</td>\n",
       "      <td>NaN</td>\n",
       "      <td>NaN</td>\n",
       "      <td>NaN</td>\n",
       "      <td>NaN</td>\n",
       "      <td>NaN</td>\n",
       "      <td>NaN</td>\n",
       "      <td>16.833</td>\n",
       "      <td>65.69</td>\n",
       "      <td>5.0</td>\n",
       "      <td>4</td>\n",
       "    </tr>\n",
       "  </tbody>\n",
       "</table>\n",
       "</div>"
      ],
      "text/plain": [
       "        city_id  content_score  n_images  distance_to_center  avg_rating  \\\n",
       "386623      NaN            NaN       NaN                 NaN         NaN   \n",
       "386624      NaN            NaN       NaN                 NaN         NaN   \n",
       "386625      NaN            NaN       NaN                 NaN         NaN   \n",
       "386626      NaN            NaN       NaN                 NaN         NaN   \n",
       "386627      NaN            NaN       NaN                 NaN         NaN   \n",
       "\n",
       "        stars  n_reviews  avg_rank  avg_price  avg_saving_percent  n_clicks  \n",
       "386623    NaN        NaN    17.333     103.07                 0.0         0  \n",
       "386624    NaN        NaN    12.000      44.00                 0.0         0  \n",
       "386625    NaN        NaN     6.400      42.78                29.0         4  \n",
       "386626    NaN        NaN    18.143      96.23                36.0         4  \n",
       "386627    NaN        NaN    16.833      65.69                 5.0         4  "
      ]
     },
     "execution_count": 45,
     "metadata": {},
     "output_type": "execute_result"
    }
   ],
   "source": [
    "df.reset_index(inplace=True)\n",
    "df = df.drop('index', axis=1)\n",
    "df.tail()"
   ]
  },
  {
   "cell_type": "code",
   "execution_count": 46,
   "metadata": {},
   "outputs": [
    {
     "data": {
      "text/plain": [
       "city_id                  663\n",
       "content_score            663\n",
       "n_images                 665\n",
       "distance_to_center       692\n",
       "avg_rating            137170\n",
       "stars                    737\n",
       "n_reviews                692\n",
       "avg_rank                   0\n",
       "avg_price                228\n",
       "avg_saving_percent       228\n",
       "n_clicks              132162\n",
       "dtype: int64"
      ]
     },
     "execution_count": 46,
     "metadata": {},
     "output_type": "execute_result"
    }
   ],
   "source": [
    "dataset.isnull().sum()"
   ]
  },
  {
   "cell_type": "code",
   "execution_count": 47,
   "metadata": {},
   "outputs": [],
   "source": [
    "train_index_nan_avg_rating = list(df['avg_rating'][df['avg_rating'].isnull()].index)\n",
    "#train_index_nan_avg_rating"
   ]
  },
  {
   "cell_type": "code",
   "execution_count": 48,
   "metadata": {},
   "outputs": [],
   "source": [
    "# Training set\n",
    "\n",
    "for i in train_index_nan_avg_rating:\n",
    "    \n",
    "    rating_med = df['avg_rating'].median()\n",
    "    rating_pred = df['avg_rating'][((df['avg_price'] == df.iloc[i]['avg_price']) & \n",
    "                               (df['content_score'] == df.iloc[i]['content_score']) & \n",
    "                              (df['avg_saving_percent'] == df.iloc[i]['avg_saving_percent']))].median()\n",
    "   \n",
    "    if not np.isnan(rating_pred) :\n",
    "        dataset['avg_rating'].iloc[i] = rating_pred\n",
    "        \n",
    "    else :\n",
    "        dataset['avg_rating'].iloc[i] = rating_med\n",
    "        \n",
    "#print(dataset['avg_rating'])"
   ]
  },
  {
   "cell_type": "code",
   "execution_count": 49,
   "metadata": {},
   "outputs": [
    {
     "data": {
      "text/plain": [
       "city_id                  663\n",
       "content_score            663\n",
       "n_images                 665\n",
       "distance_to_center       692\n",
       "avg_rating             36630\n",
       "stars                    737\n",
       "n_reviews                692\n",
       "avg_rank                   0\n",
       "avg_price                228\n",
       "avg_saving_percent       228\n",
       "n_clicks              132162\n",
       "dtype: int64"
      ]
     },
     "execution_count": 49,
     "metadata": {},
     "output_type": "execute_result"
    }
   ],
   "source": [
    "dataset.isnull().sum()"
   ]
  },
  {
   "cell_type": "code",
   "execution_count": 50,
   "metadata": {},
   "outputs": [
    {
     "data": {
      "text/plain": [
       "city_id                  663\n",
       "content_score            663\n",
       "n_images                 665\n",
       "distance_to_center       692\n",
       "avg_rating                 0\n",
       "stars                    737\n",
       "n_reviews                692\n",
       "avg_rank                   0\n",
       "avg_price                228\n",
       "avg_saving_percent       228\n",
       "n_clicks              132162\n",
       "dtype: int64"
      ]
     },
     "execution_count": 50,
     "metadata": {},
     "output_type": "execute_result"
    }
   ],
   "source": [
    "# test set\n",
    "\n",
    "dataset['avg_rating'] = dataset['avg_rating'].fillna(df['avg_rating'].median()) \n",
    "dataset.isnull().sum()"
   ]
  },
  {
   "cell_type": "markdown",
   "metadata": {},
   "source": [
    "The columns `city_id` and `stars` should be imputed by the median value of the training set."
   ]
  },
  {
   "cell_type": "code",
   "execution_count": 51,
   "metadata": {},
   "outputs": [
    {
     "data": {
      "text/plain": [
       "city_id                    0\n",
       "content_score            663\n",
       "n_images                 665\n",
       "distance_to_center       692\n",
       "avg_rating                 0\n",
       "stars                      0\n",
       "n_reviews                692\n",
       "avg_rank                   0\n",
       "avg_price                228\n",
       "avg_saving_percent       228\n",
       "n_clicks              132162\n",
       "dtype: int64"
      ]
     },
     "execution_count": 51,
     "metadata": {},
     "output_type": "execute_result"
    }
   ],
   "source": [
    "dataset['city_id'] = dataset['city_id'].fillna((df['city_id'].median()))\n",
    "dataset['stars'] = dataset['stars'].fillna((df['stars'].median()))\n",
    "dataset.isna().sum()"
   ]
  },
  {
   "cell_type": "markdown",
   "metadata": {},
   "source": [
    "Since now only a small proportion of the data is missing and we have already removed outliers, lets use *mean* for imputation."
   ]
  },
  {
   "cell_type": "code",
   "execution_count": 52,
   "metadata": {},
   "outputs": [
    {
     "data": {
      "text/plain": [
       "city_id               0\n",
       "content_score         0\n",
       "n_images              0\n",
       "distance_to_center    0\n",
       "avg_rating            0\n",
       "stars                 0\n",
       "n_reviews             0\n",
       "avg_rank              0\n",
       "avg_price             0\n",
       "avg_saving_percent    0\n",
       "n_clicks              0\n",
       "dtype: int64"
      ]
     },
     "execution_count": 52,
     "metadata": {},
     "output_type": "execute_result"
    }
   ],
   "source": [
    "dataset = dataset.fillna(df.mean())\n",
    "dataset.isna().sum()"
   ]
  },
  {
   "cell_type": "code",
   "execution_count": 53,
   "metadata": {},
   "outputs": [],
   "source": [
    "# Save the obtained data\n",
    "\n",
    "dataset.to_csv('dataset_imputed.csv',sep=',')"
   ]
  },
  {
   "cell_type": "markdown",
   "metadata": {},
   "source": [
    "#### 2.3) Numerical - Categorical variables\n",
    "Let us work with some ordinal data, i.e. `stars` column and make it one-hot encoded."
   ]
  },
  {
   "cell_type": "code",
   "execution_count": 54,
   "metadata": {},
   "outputs": [
    {
     "data": {
      "text/html": [
       "<div>\n",
       "<style scoped>\n",
       "    .dataframe tbody tr th:only-of-type {\n",
       "        vertical-align: middle;\n",
       "    }\n",
       "\n",
       "    .dataframe tbody tr th {\n",
       "        vertical-align: top;\n",
       "    }\n",
       "\n",
       "    .dataframe thead th {\n",
       "        text-align: right;\n",
       "    }\n",
       "</style>\n",
       "<table border=\"1\" class=\"dataframe\">\n",
       "  <thead>\n",
       "    <tr style=\"text-align: right;\">\n",
       "      <th></th>\n",
       "      <th>city_id</th>\n",
       "      <th>content_score</th>\n",
       "      <th>n_images</th>\n",
       "      <th>distance_to_center</th>\n",
       "      <th>avg_rating</th>\n",
       "      <th>stars</th>\n",
       "      <th>n_reviews</th>\n",
       "      <th>avg_rank</th>\n",
       "      <th>avg_price</th>\n",
       "      <th>avg_saving_percent</th>\n",
       "      <th>n_clicks</th>\n",
       "    </tr>\n",
       "  </thead>\n",
       "  <tbody>\n",
       "    <tr>\n",
       "      <th>0</th>\n",
       "      <td>134520.0</td>\n",
       "      <td>70.0</td>\n",
       "      <td>2.0</td>\n",
       "      <td>1199.0</td>\n",
       "      <td>77.0</td>\n",
       "      <td>4.0</td>\n",
       "      <td>861.0</td>\n",
       "      <td>17.550</td>\n",
       "      <td>81.64</td>\n",
       "      <td>18.0</td>\n",
       "      <td>0.0</td>\n",
       "    </tr>\n",
       "    <tr>\n",
       "      <th>1</th>\n",
       "      <td>133876.0</td>\n",
       "      <td>67.0</td>\n",
       "      <td>3.0</td>\n",
       "      <td>12585.0</td>\n",
       "      <td>90.0</td>\n",
       "      <td>4.0</td>\n",
       "      <td>4371.0</td>\n",
       "      <td>17.383</td>\n",
       "      <td>189.38</td>\n",
       "      <td>28.0</td>\n",
       "      <td>4.0</td>\n",
       "    </tr>\n",
       "    <tr>\n",
       "      <th>2</th>\n",
       "      <td>133732.0</td>\n",
       "      <td>39.0</td>\n",
       "      <td>3.0</td>\n",
       "      <td>23491.0</td>\n",
       "      <td>83.0</td>\n",
       "      <td>3.0</td>\n",
       "      <td>1005.0</td>\n",
       "      <td>16.438</td>\n",
       "      <td>57.63</td>\n",
       "      <td>27.0</td>\n",
       "      <td>44.0</td>\n",
       "    </tr>\n",
       "    <tr>\n",
       "      <th>3</th>\n",
       "      <td>43772.0</td>\n",
       "      <td>59.0</td>\n",
       "      <td>8.0</td>\n",
       "      <td>3291.0</td>\n",
       "      <td>73.0</td>\n",
       "      <td>2.0</td>\n",
       "      <td>3084.0</td>\n",
       "      <td>7.000</td>\n",
       "      <td>72.16</td>\n",
       "      <td>2.0</td>\n",
       "      <td>4.0</td>\n",
       "    </tr>\n",
       "    <tr>\n",
       "      <th>4</th>\n",
       "      <td>50532.0</td>\n",
       "      <td>66.0</td>\n",
       "      <td>1.0</td>\n",
       "      <td>288.0</td>\n",
       "      <td>80.0</td>\n",
       "      <td>0.0</td>\n",
       "      <td>603.0</td>\n",
       "      <td>12.564</td>\n",
       "      <td>173.25</td>\n",
       "      <td>0.0</td>\n",
       "      <td>10.0</td>\n",
       "    </tr>\n",
       "  </tbody>\n",
       "</table>\n",
       "</div>"
      ],
      "text/plain": [
       "    city_id  content_score  n_images  distance_to_center  avg_rating  stars  \\\n",
       "0  134520.0           70.0       2.0              1199.0        77.0    4.0   \n",
       "1  133876.0           67.0       3.0             12585.0        90.0    4.0   \n",
       "2  133732.0           39.0       3.0             23491.0        83.0    3.0   \n",
       "3   43772.0           59.0       8.0              3291.0        73.0    2.0   \n",
       "4   50532.0           66.0       1.0               288.0        80.0    0.0   \n",
       "\n",
       "   n_reviews  avg_rank  avg_price  avg_saving_percent  n_clicks  \n",
       "0      861.0    17.550      81.64                18.0       0.0  \n",
       "1     4371.0    17.383     189.38                28.0       4.0  \n",
       "2     1005.0    16.438      57.63                27.0      44.0  \n",
       "3     3084.0     7.000      72.16                 2.0       4.0  \n",
       "4      603.0    12.564     173.25                 0.0      10.0  "
      ]
     },
     "execution_count": 54,
     "metadata": {},
     "output_type": "execute_result"
    }
   ],
   "source": [
    "dataset.head()"
   ]
  },
  {
   "cell_type": "code",
   "execution_count": 55,
   "metadata": {},
   "outputs": [],
   "source": [
    "# One-hot encode 'Stars' column\n",
    "\n",
    "dataset = pd.get_dummies(dataset, columns = ['stars'], prefix=\"star\")"
   ]
  },
  {
   "cell_type": "code",
   "execution_count": 56,
   "metadata": {},
   "outputs": [
    {
     "data": {
      "text/html": [
       "<div>\n",
       "<style scoped>\n",
       "    .dataframe tbody tr th:only-of-type {\n",
       "        vertical-align: middle;\n",
       "    }\n",
       "\n",
       "    .dataframe tbody tr th {\n",
       "        vertical-align: top;\n",
       "    }\n",
       "\n",
       "    .dataframe thead th {\n",
       "        text-align: right;\n",
       "    }\n",
       "</style>\n",
       "<table border=\"1\" class=\"dataframe\">\n",
       "  <thead>\n",
       "    <tr style=\"text-align: right;\">\n",
       "      <th></th>\n",
       "      <th>city_id</th>\n",
       "      <th>content_score</th>\n",
       "      <th>n_images</th>\n",
       "      <th>distance_to_center</th>\n",
       "      <th>avg_rating</th>\n",
       "      <th>n_reviews</th>\n",
       "      <th>avg_rank</th>\n",
       "      <th>avg_price</th>\n",
       "      <th>avg_saving_percent</th>\n",
       "      <th>n_clicks</th>\n",
       "      <th>star_0.0</th>\n",
       "      <th>star_1.0</th>\n",
       "      <th>star_2.0</th>\n",
       "      <th>star_3.0</th>\n",
       "      <th>star_4.0</th>\n",
       "      <th>star_5.0</th>\n",
       "    </tr>\n",
       "  </thead>\n",
       "  <tbody>\n",
       "    <tr>\n",
       "      <th>0</th>\n",
       "      <td>134520.0</td>\n",
       "      <td>70.0</td>\n",
       "      <td>2.0</td>\n",
       "      <td>1199.0</td>\n",
       "      <td>77.0</td>\n",
       "      <td>861.0</td>\n",
       "      <td>17.550</td>\n",
       "      <td>81.64</td>\n",
       "      <td>18.0</td>\n",
       "      <td>0.0</td>\n",
       "      <td>0</td>\n",
       "      <td>0</td>\n",
       "      <td>0</td>\n",
       "      <td>0</td>\n",
       "      <td>1</td>\n",
       "      <td>0</td>\n",
       "    </tr>\n",
       "    <tr>\n",
       "      <th>1</th>\n",
       "      <td>133876.0</td>\n",
       "      <td>67.0</td>\n",
       "      <td>3.0</td>\n",
       "      <td>12585.0</td>\n",
       "      <td>90.0</td>\n",
       "      <td>4371.0</td>\n",
       "      <td>17.383</td>\n",
       "      <td>189.38</td>\n",
       "      <td>28.0</td>\n",
       "      <td>4.0</td>\n",
       "      <td>0</td>\n",
       "      <td>0</td>\n",
       "      <td>0</td>\n",
       "      <td>0</td>\n",
       "      <td>1</td>\n",
       "      <td>0</td>\n",
       "    </tr>\n",
       "    <tr>\n",
       "      <th>2</th>\n",
       "      <td>133732.0</td>\n",
       "      <td>39.0</td>\n",
       "      <td>3.0</td>\n",
       "      <td>23491.0</td>\n",
       "      <td>83.0</td>\n",
       "      <td>1005.0</td>\n",
       "      <td>16.438</td>\n",
       "      <td>57.63</td>\n",
       "      <td>27.0</td>\n",
       "      <td>44.0</td>\n",
       "      <td>0</td>\n",
       "      <td>0</td>\n",
       "      <td>0</td>\n",
       "      <td>1</td>\n",
       "      <td>0</td>\n",
       "      <td>0</td>\n",
       "    </tr>\n",
       "    <tr>\n",
       "      <th>3</th>\n",
       "      <td>43772.0</td>\n",
       "      <td>59.0</td>\n",
       "      <td>8.0</td>\n",
       "      <td>3291.0</td>\n",
       "      <td>73.0</td>\n",
       "      <td>3084.0</td>\n",
       "      <td>7.000</td>\n",
       "      <td>72.16</td>\n",
       "      <td>2.0</td>\n",
       "      <td>4.0</td>\n",
       "      <td>0</td>\n",
       "      <td>0</td>\n",
       "      <td>1</td>\n",
       "      <td>0</td>\n",
       "      <td>0</td>\n",
       "      <td>0</td>\n",
       "    </tr>\n",
       "    <tr>\n",
       "      <th>4</th>\n",
       "      <td>50532.0</td>\n",
       "      <td>66.0</td>\n",
       "      <td>1.0</td>\n",
       "      <td>288.0</td>\n",
       "      <td>80.0</td>\n",
       "      <td>603.0</td>\n",
       "      <td>12.564</td>\n",
       "      <td>173.25</td>\n",
       "      <td>0.0</td>\n",
       "      <td>10.0</td>\n",
       "      <td>1</td>\n",
       "      <td>0</td>\n",
       "      <td>0</td>\n",
       "      <td>0</td>\n",
       "      <td>0</td>\n",
       "      <td>0</td>\n",
       "    </tr>\n",
       "  </tbody>\n",
       "</table>\n",
       "</div>"
      ],
      "text/plain": [
       "    city_id  content_score  n_images  distance_to_center  avg_rating  \\\n",
       "0  134520.0           70.0       2.0              1199.0        77.0   \n",
       "1  133876.0           67.0       3.0             12585.0        90.0   \n",
       "2  133732.0           39.0       3.0             23491.0        83.0   \n",
       "3   43772.0           59.0       8.0              3291.0        73.0   \n",
       "4   50532.0           66.0       1.0               288.0        80.0   \n",
       "\n",
       "   n_reviews  avg_rank  avg_price  avg_saving_percent  n_clicks  star_0.0  \\\n",
       "0      861.0    17.550      81.64                18.0       0.0         0   \n",
       "1     4371.0    17.383     189.38                28.0       4.0         0   \n",
       "2     1005.0    16.438      57.63                27.0      44.0         0   \n",
       "3     3084.0     7.000      72.16                 2.0       4.0         0   \n",
       "4      603.0    12.564     173.25                 0.0      10.0         1   \n",
       "\n",
       "   star_1.0  star_2.0  star_3.0  star_4.0  star_5.0  \n",
       "0         0         0         0         1         0  \n",
       "1         0         0         0         1         0  \n",
       "2         0         0         1         0         0  \n",
       "3         0         1         0         0         0  \n",
       "4         0         0         0         0         0  "
      ]
     },
     "execution_count": 56,
     "metadata": {},
     "output_type": "execute_result"
    }
   ],
   "source": [
    "dataset.head()"
   ]
  },
  {
   "cell_type": "markdown",
   "metadata": {},
   "source": [
    "We cleared the data and now it makes sense to train some models to see which data imputation approach is giving a better result and to choose proper learning algorithm."
   ]
  },
  {
   "cell_type": "markdown",
   "metadata": {},
   "source": [
    "### 3) Baseline Training model and Feature Importance"
   ]
  },
  {
   "cell_type": "code",
   "execution_count": 57,
   "metadata": {},
   "outputs": [],
   "source": [
    "# We need to split our 'dataset' back into train and test \n",
    "\n",
    "data_train = dataset[:train_len]\n",
    "data_test = dataset[train_len:].reset_index(drop=True)\n",
    "\n",
    "# delete simulated 'n_clicks' from test set\n",
    "\n",
    "data_test.drop(['n_clicks'], axis=1, inplace=True)"
   ]
  },
  {
   "cell_type": "code",
   "execution_count": 58,
   "metadata": {},
   "outputs": [
    {
     "data": {
      "text/html": [
       "<div>\n",
       "<style scoped>\n",
       "    .dataframe tbody tr th:only-of-type {\n",
       "        vertical-align: middle;\n",
       "    }\n",
       "\n",
       "    .dataframe tbody tr th {\n",
       "        vertical-align: top;\n",
       "    }\n",
       "\n",
       "    .dataframe thead th {\n",
       "        text-align: right;\n",
       "    }\n",
       "</style>\n",
       "<table border=\"1\" class=\"dataframe\">\n",
       "  <thead>\n",
       "    <tr style=\"text-align: right;\">\n",
       "      <th></th>\n",
       "      <th>city_id</th>\n",
       "      <th>content_score</th>\n",
       "      <th>n_images</th>\n",
       "      <th>distance_to_center</th>\n",
       "      <th>avg_rating</th>\n",
       "      <th>n_reviews</th>\n",
       "      <th>avg_rank</th>\n",
       "      <th>avg_price</th>\n",
       "      <th>avg_saving_percent</th>\n",
       "      <th>n_clicks</th>\n",
       "      <th>star_0.0</th>\n",
       "      <th>star_1.0</th>\n",
       "      <th>star_2.0</th>\n",
       "      <th>star_3.0</th>\n",
       "      <th>star_4.0</th>\n",
       "      <th>star_5.0</th>\n",
       "    </tr>\n",
       "  </thead>\n",
       "  <tbody>\n",
       "    <tr>\n",
       "      <th>0</th>\n",
       "      <td>134520.0</td>\n",
       "      <td>70.0</td>\n",
       "      <td>2.0</td>\n",
       "      <td>1199.0</td>\n",
       "      <td>77.0</td>\n",
       "      <td>861.0</td>\n",
       "      <td>17.550</td>\n",
       "      <td>81.64</td>\n",
       "      <td>18.0</td>\n",
       "      <td>0</td>\n",
       "      <td>0</td>\n",
       "      <td>0</td>\n",
       "      <td>0</td>\n",
       "      <td>0</td>\n",
       "      <td>1</td>\n",
       "      <td>0</td>\n",
       "    </tr>\n",
       "    <tr>\n",
       "      <th>1</th>\n",
       "      <td>133876.0</td>\n",
       "      <td>67.0</td>\n",
       "      <td>3.0</td>\n",
       "      <td>12585.0</td>\n",
       "      <td>90.0</td>\n",
       "      <td>4371.0</td>\n",
       "      <td>17.383</td>\n",
       "      <td>189.38</td>\n",
       "      <td>28.0</td>\n",
       "      <td>4</td>\n",
       "      <td>0</td>\n",
       "      <td>0</td>\n",
       "      <td>0</td>\n",
       "      <td>0</td>\n",
       "      <td>1</td>\n",
       "      <td>0</td>\n",
       "    </tr>\n",
       "    <tr>\n",
       "      <th>2</th>\n",
       "      <td>133732.0</td>\n",
       "      <td>39.0</td>\n",
       "      <td>3.0</td>\n",
       "      <td>23491.0</td>\n",
       "      <td>83.0</td>\n",
       "      <td>1005.0</td>\n",
       "      <td>16.438</td>\n",
       "      <td>57.63</td>\n",
       "      <td>27.0</td>\n",
       "      <td>44</td>\n",
       "      <td>0</td>\n",
       "      <td>0</td>\n",
       "      <td>0</td>\n",
       "      <td>1</td>\n",
       "      <td>0</td>\n",
       "      <td>0</td>\n",
       "    </tr>\n",
       "    <tr>\n",
       "      <th>3</th>\n",
       "      <td>43772.0</td>\n",
       "      <td>59.0</td>\n",
       "      <td>8.0</td>\n",
       "      <td>3291.0</td>\n",
       "      <td>73.0</td>\n",
       "      <td>3084.0</td>\n",
       "      <td>7.000</td>\n",
       "      <td>72.16</td>\n",
       "      <td>2.0</td>\n",
       "      <td>4</td>\n",
       "      <td>0</td>\n",
       "      <td>0</td>\n",
       "      <td>1</td>\n",
       "      <td>0</td>\n",
       "      <td>0</td>\n",
       "      <td>0</td>\n",
       "    </tr>\n",
       "    <tr>\n",
       "      <th>4</th>\n",
       "      <td>50532.0</td>\n",
       "      <td>66.0</td>\n",
       "      <td>1.0</td>\n",
       "      <td>288.0</td>\n",
       "      <td>80.0</td>\n",
       "      <td>603.0</td>\n",
       "      <td>12.564</td>\n",
       "      <td>173.25</td>\n",
       "      <td>0.0</td>\n",
       "      <td>10</td>\n",
       "      <td>1</td>\n",
       "      <td>0</td>\n",
       "      <td>0</td>\n",
       "      <td>0</td>\n",
       "      <td>0</td>\n",
       "      <td>0</td>\n",
       "    </tr>\n",
       "  </tbody>\n",
       "</table>\n",
       "</div>"
      ],
      "text/plain": [
       "    city_id  content_score  n_images  distance_to_center  avg_rating  \\\n",
       "0  134520.0           70.0       2.0              1199.0        77.0   \n",
       "1  133876.0           67.0       3.0             12585.0        90.0   \n",
       "2  133732.0           39.0       3.0             23491.0        83.0   \n",
       "3   43772.0           59.0       8.0              3291.0        73.0   \n",
       "4   50532.0           66.0       1.0               288.0        80.0   \n",
       "\n",
       "   n_reviews  avg_rank  avg_price  avg_saving_percent  n_clicks  star_0.0  \\\n",
       "0      861.0    17.550      81.64                18.0         0         0   \n",
       "1     4371.0    17.383     189.38                28.0         4         0   \n",
       "2     1005.0    16.438      57.63                27.0        44         0   \n",
       "3     3084.0     7.000      72.16                 2.0         4         0   \n",
       "4      603.0    12.564     173.25                 0.0        10         1   \n",
       "\n",
       "   star_1.0  star_2.0  star_3.0  star_4.0  star_5.0  \n",
       "0         0         0         0         1         0  \n",
       "1         0         0         0         1         0  \n",
       "2         0         0         1         0         0  \n",
       "3         0         1         0         0         0  \n",
       "4         0         0         0         0         0  "
      ]
     },
     "execution_count": 58,
     "metadata": {},
     "output_type": "execute_result"
    }
   ],
   "source": [
    "data_train['n_clicks'] = data_train['n_clicks'].astype('int64') \n",
    "data_train.head(5)"
   ]
  },
  {
   "cell_type": "code",
   "execution_count": 59,
   "metadata": {},
   "outputs": [
    {
     "data": {
      "text/plain": [
       "((386628, 16), (132162, 15))"
      ]
     },
     "execution_count": 59,
     "metadata": {},
     "output_type": "execute_result"
    }
   ],
   "source": [
    "data_train.shape, data_test.shape"
   ]
  },
  {
   "cell_type": "markdown",
   "metadata": {},
   "source": [
    "Well, before we go to modeling, I would like to point out that `data_test` dataset does not have `n_clinks` column, but we have to predict it. So basically, we create a model, train it on `data_train` and then we feed `data_test` to the model in order to have a prediction. In the case of Kaggle competition, we would create a submission file and see the result of our model performance. In the case of real business, we would evaluate the results through different business metrics. However, for now, there is no further use of `data_test`, but we going to see how *accurate* was our prediction by simply comparing the values of what we predicted and what we actually had. In order to do so, we need to split our `data_train` into two subsets `train` and `validation`. We will train the models on supervised manner with the train and will predict `n_clinks` for the `validation` (which already has ground truth - clicks)."
   ]
  },
  {
   "cell_type": "code",
   "execution_count": 60,
   "metadata": {},
   "outputs": [
    {
     "data": {
      "text/plain": [
       "(309410, 77218)"
      ]
     },
     "execution_count": 60,
     "metadata": {},
     "output_type": "execute_result"
    }
   ],
   "source": [
    "# Create a train and validation sets\n",
    "\n",
    "msk = np.random.rand(len(data_train)) < 0.8\n",
    "\n",
    "train = data_train[msk]\n",
    "validation = data_train[~msk]\n",
    "\n",
    "len(train), len(validation)"
   ]
  },
  {
   "cell_type": "code",
   "execution_count": 61,
   "metadata": {},
   "outputs": [],
   "source": [
    "Y = train.n_clicks\n",
    "X = train.drop('n_clicks', axis=1)"
   ]
  },
  {
   "cell_type": "code",
   "execution_count": 62,
   "metadata": {},
   "outputs": [
    {
     "name": "stdout",
     "output_type": "stream",
     "text": [
      "[0.1903728  0.05633409 0.04816812 0.07371614 0.04479306 0.17013754\n",
      " 0.16989576 0.12035821 0.09548825 0.00417756 0.00044331 0.00132527\n",
      " 0.00418177 0.00708582 0.0135223 ]\n"
     ]
    }
   ],
   "source": [
    "X_train, X_holdout, y_train, y_holdout = train_test_split(X.values, Y, test_size=0.3,\n",
    "    random_state=17)  \n",
    "    \n",
    "forest = RandomForestRegressor(n_estimators=1000, max_features=10,\n",
    "                                    random_state=0,n_jobs=-1)\n",
    "    \n",
    "forest.fit(X_train,y_train)\n",
    "    \n",
    "importances = forest.feature_importances_\n",
    "\n",
    "print(importances)\n"
   ]
  },
  {
   "cell_type": "code",
   "execution_count": 63,
   "metadata": {},
   "outputs": [],
   "source": [
    "def plot_feature_importance(X,feature_importance):\n",
    "    \n",
    "    # Create a dictionary of feature names\n",
    "    \n",
    "    features = {}\n",
    "    for i in range(len(X.columns)):\n",
    "        \n",
    "        features['f' + str(i+1)] = {X.columns[i]}\n",
    "        \n",
    "    print(features)\n",
    "    \n",
    "    indices = np.argsort(feature_importance)[::-1]\n",
    "        \n",
    "    # Plot the feature importancies of the forest\n",
    "    \n",
    "    num_to_plot = 13\n",
    "    feature_indices = [ind+1 for ind in indices[:num_to_plot]]\n",
    "    \n",
    "    # Print the feature ranking\n",
    "    \n",
    "    print(\"Feature ranking:\")\n",
    "      \n",
    "    for f in range(num_to_plot):\n",
    "        print(\"%d. %s %f \" % (f, \n",
    "                features[\"f\"+str(feature_indices[f])], \n",
    "                feature_importance[indices[f]]))\n",
    "        \n",
    "    plt.figure(figsize=(15,5))\n",
    "    plt.title(u\"Feature Importance\")\n",
    "    bars = plt.bar(range(num_to_plot), \n",
    "                   feature_importance[indices[:num_to_plot]],\n",
    "           color=([str(i/float(num_to_plot+1)) \n",
    "                   for i in range(num_to_plot)]),\n",
    "                   align=\"center\")\n",
    "    ticks = plt.xticks(range(num_to_plot), \n",
    "                       feature_indices)\n",
    "    plt.xlim([-1, num_to_plot])\n",
    "    plt.legend(bars, [u''.join(features[\"f\"+str(i)]) \n",
    "                      for i in feature_indices]);"
   ]
  },
  {
   "cell_type": "markdown",
   "metadata": {},
   "source": [
    "Lets plot **feature importance**"
   ]
  },
  {
   "cell_type": "code",
   "execution_count": 64,
   "metadata": {},
   "outputs": [
    {
     "name": "stdout",
     "output_type": "stream",
     "text": [
      "{'f1': set(['city_id']), 'f2': set(['content_score']), 'f3': set(['n_images']), 'f4': set(['distance_to_center']), 'f5': set(['avg_rating']), 'f6': set(['n_reviews']), 'f7': set(['avg_rank']), 'f8': set(['avg_price']), 'f9': set(['avg_saving_percent']), 'f12': set(['star_2.0']), 'f13': set(['star_3.0']), 'f10': set(['star_0.0']), 'f11': set(['star_1.0']), 'f14': set(['star_4.0']), 'f15': set(['star_5.0'])}\n",
      "Feature ranking:\n",
      "0. set(['city_id']) 0.190373 \n",
      "1. set(['n_reviews']) 0.170138 \n",
      "2. set(['avg_rank']) 0.169896 \n",
      "3. set(['avg_price']) 0.120358 \n",
      "4. set(['avg_saving_percent']) 0.095488 \n",
      "5. set(['distance_to_center']) 0.073716 \n",
      "6. set(['content_score']) 0.056334 \n",
      "7. set(['n_images']) 0.048168 \n",
      "8. set(['avg_rating']) 0.044793 \n",
      "9. set(['star_5.0']) 0.013522 \n",
      "10. set(['star_4.0']) 0.007086 \n",
      "11. set(['star_3.0']) 0.004182 \n",
      "12. set(['star_0.0']) 0.004178 \n"
     ]
    },
    {
     "data": {
      "image/png": "[encoded data removed]",
      "text/plain": [
       "<Figure size 1080x360 with 1 Axes>"
      ]
     },
     "metadata": {
      "needs_background": "light"
     },
     "output_type": "display_data"
    }
   ],
   "source": [
    "plot_feature_importance(X,importances)"
   ]
  },
  {
   "cell_type": "markdown",
   "metadata": {},
   "source": [
    "By performing sklearn in-built feature performance analysis we see that according to the basic Random Forest model the most important features w.r.t `n_clicks` are: `city_id`,`avg_rank`,`n_reviews`,`avg_price`,`avg_saving_percent`. Let us recall our correlation matrix and features which we thought would be helpful for classification: `n_reviews`, `avg_saving_percent`,`content_score`,`stars`,`avg_rank`. The once can see along with the feature we would expect to have `avg_rank` and `n_reviews` RF defined other two features to be relevant: `city_id`,`avg_saving_percent`.\n"
   ]
  },
  {
   "cell_type": "markdown",
   "metadata": {},
   "source": [
    "### 4) Modeling"
   ]
  },
  {
   "cell_type": "markdown",
   "metadata": {},
   "source": [
    "In this section, we will build some models and test them. We start with very two simple algorithms DT and KNN in order to establish some baseline and to test whether imputation of 'Nan' is better than just simply deleting 'Nan's' rows."
   ]
  },
  {
   "cell_type": "code",
   "execution_count": 65,
   "metadata": {},
   "outputs": [],
   "source": [
    "# Firstly, we need to normalize our data since some of the regression algorithms\n",
    "# are quite sensitive to the scaling factor\n",
    "\n",
    "\n",
    "lasso = make_pipeline(RobustScaler(), Lasso(alpha =0.0005, random_state=1))\n",
    "\n",
    "ENet = make_pipeline(RobustScaler(), ElasticNet(alpha=0.0005, l1_ratio=.9, random_state=3))\n",
    "\n",
    "Ridge = make_pipeline(RobustScaler(), Ridge(alpha =0.0005, random_state=5))\n",
    "\n",
    "GBoost = GradientBoostingRegressor(n_estimators=1500, learning_rate=0.05,\n",
    "                                   max_depth=4, max_features='sqrt',\n",
    "                                   min_samples_leaf=15, min_samples_split=10, \n",
    "                                   loss='huber', random_state =5)\n",
    "\n",
    "model_xgb = xgb.XGBRegressor(colsample_bytree=0.4603, gamma=0.0468, \n",
    "                             learning_rate=0.05, max_depth=3, \n",
    "                             min_child_weight=1.7817, n_estimators=2200,\n",
    "                             reg_alpha=0.4640, reg_lambda=0.8571,\n",
    "                             subsample=0.5213, silent=1,\n",
    "                             random_state =7, nthread = -1)\n",
    "\n",
    "model_lgb = lgb.LGBMRegressor(objective='regression',num_leaves=5,\n",
    "                              learning_rate=0.05, n_estimators=720,\n",
    "                              max_bin = 55, bagging_fraction = 0.8,\n",
    "                              bagging_freq = 5, feature_fraction = 0.2319,\n",
    "                              feature_fraction_seed=9, bagging_seed=9,\n",
    "                              min_data_in_leaf =6, min_sum_hessian_in_leaf = 11)"
   ]
  },
  {
   "cell_type": "code",
   "execution_count": 66,
   "metadata": {},
   "outputs": [],
   "source": [
    "# Model Validation\n",
    "\n",
    "n_folds = 5\n",
    "\n",
    "def rmse_mae(model):\n",
    "    \n",
    "    kf = KFold(n_folds, shuffle=True, random_state=17).get_n_splits(X_train)\n",
    "    rmse= np.sqrt(-cross_val_score(model, X_train, y_train, scoring=\"neg_mean_squared_error\", cv = kf))\n",
    "    mae = np.sqrt(-cross_val_score(model, X_train, y_train, scoring=\"neg_mean_absolute_error\", cv = kf))\n",
    "    \n",
    "    return rmse,mae"
   ]
  },
  {
   "cell_type": "code",
   "execution_count": 67,
   "metadata": {},
   "outputs": [
    {
     "name": "stderr",
     "output_type": "stream",
     "text": [
      "/upb/users/s/ssmirnov/profiles/unix/imt/.local/lib/python2.7/site-packages/sklearn/linear_model/ridge.py:125: LinAlgWarning: Ill-conditioned matrix (rcond=3.2427e-17): result may not be accurate.\n",
      "  overwrite_a=True).T\n",
      "/upb/users/s/ssmirnov/profiles/unix/imt/.local/lib/python2.7/site-packages/sklearn/linear_model/ridge.py:125: LinAlgWarning: Ill-conditioned matrix (rcond=3.68857e-17): result may not be accurate.\n",
      "  overwrite_a=True).T\n",
      "/upb/users/s/ssmirnov/profiles/unix/imt/.local/lib/python2.7/site-packages/sklearn/linear_model/ridge.py:125: LinAlgWarning: Ill-conditioned matrix (rcond=3.19036e-17): result may not be accurate.\n",
      "  overwrite_a=True).T\n",
      "/upb/users/s/ssmirnov/profiles/unix/imt/.local/lib/python2.7/site-packages/sklearn/linear_model/ridge.py:125: LinAlgWarning: Ill-conditioned matrix (rcond=4.17118e-17): result may not be accurate.\n",
      "  overwrite_a=True).T\n",
      "/upb/users/s/ssmirnov/profiles/unix/imt/.local/lib/python2.7/site-packages/sklearn/linear_model/ridge.py:125: LinAlgWarning: Ill-conditioned matrix (rcond=3.40743e-17): result may not be accurate.\n",
      "  overwrite_a=True).T\n"
     ]
    },
    {
     "name": "stdout",
     "output_type": "stream",
     "text": [
      "Lasso score RMSE: 118.0815 (18.9865)\n",
      "\n",
      "Ridge score RMSE: 118.0815 (18.9864)\n",
      "\n",
      "ElasticNet score RMSE: 118.0815 (18.9866)\n",
      "\n",
      "Xgboost score RMSE: 103.0596 (16.0557)\n",
      "\n",
      "LGBM score RMSE: 105.5570 (18.6124)\n",
      "\n",
      "\n",
      "Lasso score MAE: 4.7997 (0.0510)\n",
      "\n",
      "Ridge score MAE: 4.7998 (0.0510)\n",
      "\n",
      "ElasticNet score MAE: 4.7997 (0.0510)\n",
      "\n",
      "Xgboost score MAE: 4.2329 (0.0278)\n",
      "\n",
      "LGBM score MAE: 4.3156 (0.0439)\n",
      "\n",
      "CPU times: user 4h 40min 15s, sys: 14.2 s, total: 4h 40min 29s\n",
      "Wall time: 48min 37s\n"
     ]
    }
   ],
   "source": [
    "%%time\n",
    "\n",
    "score_lasso_rmse,score_lasso_mae = rmse_mae(lasso)\n",
    "score_ridge_rmse,score_ridge_mae = rmse_mae(Ridge)\n",
    "score_enet_rmse,score_enet_mae = rmse_mae(ENet)\n",
    "score_xgb_rmse,score_xgb_mae = rmse_mae(model_xgb)\n",
    "score_lgb_rmse,score_lgb_mae = rmse_mae(model_lgb)\n",
    "\n",
    "print(\"Lasso score RMSE: {:.4f} ({:.4f})\\n\".format(score_lasso_rmse.mean(), score_lasso_rmse.std()))\n",
    "print(\"Ridge score RMSE: {:.4f} ({:.4f})\\n\".format(score_ridge_rmse.mean(), score_ridge_rmse.std()))\n",
    "print(\"ElasticNet score RMSE: {:.4f} ({:.4f})\\n\".format(score_enet_rmse.mean(), score_enet_rmse.std()))\n",
    "print(\"Xgboost score RMSE: {:.4f} ({:.4f})\\n\".format(score_xgb_rmse.mean(), score_xgb_rmse.std()))\n",
    "print(\"LGBM score RMSE: {:.4f} ({:.4f})\\n\" .format(score_lgb_rmse.mean(), score_lgb_rmse.std()))\n",
    "\n",
    "print(\"\\nLasso score MAE: {:.4f} ({:.4f})\\n\".format(score_lasso_mae.mean(), score_lasso_mae.std()))\n",
    "print(\"Ridge score MAE: {:.4f} ({:.4f})\\n\".format(score_ridge_mae.mean(), score_ridge_mae.std()))\n",
    "print(\"ElasticNet score MAE: {:.4f} ({:.4f})\\n\".format(score_enet_mae.mean(), score_enet_mae.std()))\n",
    "print(\"Xgboost score MAE: {:.4f} ({:.4f})\\n\".format(score_xgb_mae.mean(), score_xgb_mae.std()))\n",
    "print(\"LGBM score MAE: {:.4f} ({:.4f})\\n\" .format(score_lgb_mae.mean(), score_lgb_mae.std()))"
   ]
  },
  {
   "cell_type": "markdown",
   "metadata": {},
   "source": [
    "Well, apparently xgb boost is working way better than others according to **RMSE** and **MAE** metrics. Lets have a look at the perfomance on the test set."
   ]
  },
  {
   "cell_type": "code",
   "execution_count": 68,
   "metadata": {},
   "outputs": [],
   "source": [
    "def rmse(y_pred,y_true):\n",
    "    result = np.sqrt(mean_squared_error(y_true,y_pred))\n",
    "    \n",
    "    return result\n",
    "\n",
    "def regressions(model):\n",
    "    \n",
    "    model.fit(X_train,y_train)\n",
    "    model_predict = model.predict(X_holdout)\n",
    "    \n",
    "    print('MAE : %f' % (mean_absolute_error(y_holdout, model_predict)))\n",
    "    print('RMSE : %f' % (rmse(y_holdout, model_predict)))\n",
    "    print('R2 : %f' % (r2_score(y_holdout, model_predict)))"
   ]
  },
  {
   "cell_type": "code",
   "execution_count": 69,
   "metadata": {},
   "outputs": [
    {
     "name": "stdout",
     "output_type": "stream",
     "text": [
      "MAE : 23.172347\n",
      "RMSE : 114.021433\n",
      "R2 : 0.069438\n"
     ]
    }
   ],
   "source": [
    "regressions(ENet)"
   ]
  },
  {
   "cell_type": "code",
   "execution_count": 70,
   "metadata": {},
   "outputs": [
    {
     "name": "stdout",
     "output_type": "stream",
     "text": [
      "MAE : 23.172822\n",
      "RMSE : 114.021420\n",
      "R2 : 0.069438\n"
     ]
    }
   ],
   "source": [
    "regressions(lasso)"
   ]
  },
  {
   "cell_type": "code",
   "execution_count": 71,
   "metadata": {},
   "outputs": [
    {
     "name": "stdout",
     "output_type": "stream",
     "text": [
      "MAE : 23.173649\n",
      "RMSE : 114.021408\n",
      "R2 : 0.069439\n"
     ]
    },
    {
     "name": "stderr",
     "output_type": "stream",
     "text": [
      "/upb/users/s/ssmirnov/profiles/unix/imt/.local/lib/python2.7/site-packages/sklearn/linear_model/ridge.py:125: LinAlgWarning: Ill-conditioned matrix (rcond=2.80474e-17): result may not be accurate.\n",
      "  overwrite_a=True).T\n"
     ]
    }
   ],
   "source": [
    "regressions(Ridge)"
   ]
  },
  {
   "cell_type": "code",
   "execution_count": 72,
   "metadata": {},
   "outputs": [
    {
     "name": "stdout",
     "output_type": "stream",
     "text": [
      "MAE : 17.812497\n",
      "RMSE : 99.475859\n",
      "R2 : 0.291716\n"
     ]
    }
   ],
   "source": [
    "regressions(model_xgb)"
   ]
  },
  {
   "cell_type": "code",
   "execution_count": 73,
   "metadata": {},
   "outputs": [
    {
     "name": "stdout",
     "output_type": "stream",
     "text": [
      "MAE : 18.299053\n",
      "RMSE : 101.796138\n",
      "R2 : 0.258289\n"
     ]
    }
   ],
   "source": [
    "regressions(model_lgb)"
   ]
  },
  {
   "cell_type": "code",
   "execution_count": 74,
   "metadata": {},
   "outputs": [
    {
     "data": {
      "text/plain": [
       "array([1.5980466e-01, 7.0677608e-02, 8.2547650e-02, 4.6055757e-02,\n",
       "       4.3342602e-02, 2.3726514e-01, 1.3925253e-01, 7.7460490e-02,\n",
       "       8.8516586e-02, 6.5115648e-03, 1.3565760e-04, 8.8177441e-04,\n",
       "       4.1375570e-03, 1.4718849e-02, 2.8691582e-02], dtype=float32)"
      ]
     },
     "execution_count": 74,
     "metadata": {},
     "output_type": "execute_result"
    }
   ],
   "source": [
    "#Lets find and plot features which are actually important for out XGB model\n",
    "\n",
    "feature_importance_xgb = model_xgb.feature_importances_\n",
    "feature_importance_xgb"
   ]
  },
  {
   "cell_type": "code",
   "execution_count": 75,
   "metadata": {},
   "outputs": [
    {
     "name": "stdout",
     "output_type": "stream",
     "text": [
      "{'f1': set(['city_id']), 'f2': set(['content_score']), 'f3': set(['n_images']), 'f4': set(['distance_to_center']), 'f5': set(['avg_rating']), 'f6': set(['n_reviews']), 'f7': set(['avg_rank']), 'f8': set(['avg_price']), 'f9': set(['avg_saving_percent']), 'f12': set(['star_2.0']), 'f13': set(['star_3.0']), 'f10': set(['star_0.0']), 'f11': set(['star_1.0']), 'f14': set(['star_4.0']), 'f15': set(['star_5.0'])}\n",
      "Feature ranking:\n",
      "0. set(['n_reviews']) 0.237265 \n",
      "1. set(['city_id']) 0.159805 \n",
      "2. set(['avg_rank']) 0.139253 \n",
      "3. set(['avg_saving_percent']) 0.088517 \n",
      "4. set(['n_images']) 0.082548 \n",
      "5. set(['avg_price']) 0.077460 \n",
      "6. set(['content_score']) 0.070678 \n",
      "7. set(['distance_to_center']) 0.046056 \n",
      "8. set(['avg_rating']) 0.043343 \n",
      "9. set(['star_5.0']) 0.028692 \n",
      "10. set(['star_4.0']) 0.014719 \n",
      "11. set(['star_0.0']) 0.006512 \n",
      "12. set(['star_3.0']) 0.004138 \n"
     ]
    },
    {
     "data": {
      "image/png": "[encoded data removed]",
      "text/plain": [
       "<Figure size 1080x360 with 1 Axes>"
      ]
     },
     "metadata": {
      "needs_background": "light"
     },
     "output_type": "display_data"
    }
   ],
   "source": [
    "plot_feature_importance(X,feature_importance_xgb)"
   ]
  },
  {
   "cell_type": "markdown",
   "metadata": {},
   "source": [
    "By performing sklearn in-built feature performance analysis on GB algorithms we see that feature importance has changed. Top-5 features are still the same, however, now\n",
    "`n_reviews` became the most important feature and has more relative weight."
   ]
  },
  {
   "cell_type": "markdown",
   "metadata": {},
   "source": [
    "#### Lets make some predictions with XG boost seems it is working better than others"
   ]
  },
  {
   "cell_type": "code",
   "execution_count": 102,
   "metadata": {},
   "outputs": [
    {
     "data": {
      "text/html": [
       "<div>\n",
       "<style scoped>\n",
       "    .dataframe tbody tr th:only-of-type {\n",
       "        vertical-align: middle;\n",
       "    }\n",
       "\n",
       "    .dataframe tbody tr th {\n",
       "        vertical-align: top;\n",
       "    }\n",
       "\n",
       "    .dataframe thead th {\n",
       "        text-align: right;\n",
       "    }\n",
       "</style>\n",
       "<table border=\"1\" class=\"dataframe\">\n",
       "  <thead>\n",
       "    <tr style=\"text-align: right;\">\n",
       "      <th></th>\n",
       "      <th>city_id</th>\n",
       "      <th>content_score</th>\n",
       "      <th>n_images</th>\n",
       "      <th>distance_to_center</th>\n",
       "      <th>avg_rating</th>\n",
       "      <th>n_reviews</th>\n",
       "      <th>avg_rank</th>\n",
       "      <th>avg_price</th>\n",
       "      <th>avg_saving_percent</th>\n",
       "      <th>star_0.0</th>\n",
       "      <th>star_1.0</th>\n",
       "      <th>star_2.0</th>\n",
       "      <th>star_3.0</th>\n",
       "      <th>star_4.0</th>\n",
       "      <th>star_5.0</th>\n",
       "    </tr>\n",
       "  </thead>\n",
       "  <tbody>\n",
       "    <tr>\n",
       "      <th>2</th>\n",
       "      <td>133732.0</td>\n",
       "      <td>39.0</td>\n",
       "      <td>3.0</td>\n",
       "      <td>23491.0</td>\n",
       "      <td>83.0</td>\n",
       "      <td>1005.0</td>\n",
       "      <td>16.438</td>\n",
       "      <td>57.63</td>\n",
       "      <td>27.0</td>\n",
       "      <td>0</td>\n",
       "      <td>0</td>\n",
       "      <td>0</td>\n",
       "      <td>1</td>\n",
       "      <td>0</td>\n",
       "      <td>0</td>\n",
       "    </tr>\n",
       "    <tr>\n",
       "      <th>5</th>\n",
       "      <td>52142.0</td>\n",
       "      <td>58.0</td>\n",
       "      <td>2.0</td>\n",
       "      <td>1249.0</td>\n",
       "      <td>87.0</td>\n",
       "      <td>1683.0</td>\n",
       "      <td>18.391</td>\n",
       "      <td>96.70</td>\n",
       "      <td>0.0</td>\n",
       "      <td>1</td>\n",
       "      <td>0</td>\n",
       "      <td>0</td>\n",
       "      <td>0</td>\n",
       "      <td>0</td>\n",
       "      <td>0</td>\n",
       "    </tr>\n",
       "    <tr>\n",
       "      <th>15</th>\n",
       "      <td>137544.0</td>\n",
       "      <td>50.0</td>\n",
       "      <td>0.0</td>\n",
       "      <td>11022.0</td>\n",
       "      <td>84.0</td>\n",
       "      <td>315.0</td>\n",
       "      <td>17.600</td>\n",
       "      <td>52.80</td>\n",
       "      <td>0.0</td>\n",
       "      <td>1</td>\n",
       "      <td>0</td>\n",
       "      <td>0</td>\n",
       "      <td>0</td>\n",
       "      <td>0</td>\n",
       "      <td>0</td>\n",
       "    </tr>\n",
       "    <tr>\n",
       "      <th>37</th>\n",
       "      <td>30282.0</td>\n",
       "      <td>51.0</td>\n",
       "      <td>0.0</td>\n",
       "      <td>105.0</td>\n",
       "      <td>75.0</td>\n",
       "      <td>201.0</td>\n",
       "      <td>17.088</td>\n",
       "      <td>40.52</td>\n",
       "      <td>0.0</td>\n",
       "      <td>1</td>\n",
       "      <td>0</td>\n",
       "      <td>0</td>\n",
       "      <td>0</td>\n",
       "      <td>0</td>\n",
       "      <td>0</td>\n",
       "    </tr>\n",
       "    <tr>\n",
       "      <th>40</th>\n",
       "      <td>54646.0</td>\n",
       "      <td>56.0</td>\n",
       "      <td>0.0</td>\n",
       "      <td>1370.0</td>\n",
       "      <td>76.0</td>\n",
       "      <td>552.0</td>\n",
       "      <td>15.701</td>\n",
       "      <td>68.43</td>\n",
       "      <td>0.0</td>\n",
       "      <td>1</td>\n",
       "      <td>0</td>\n",
       "      <td>0</td>\n",
       "      <td>0</td>\n",
       "      <td>0</td>\n",
       "      <td>0</td>\n",
       "    </tr>\n",
       "  </tbody>\n",
       "</table>\n",
       "</div>"
      ],
      "text/plain": [
       "     city_id  content_score  n_images  distance_to_center  avg_rating  \\\n",
       "2   133732.0           39.0       3.0             23491.0        83.0   \n",
       "5    52142.0           58.0       2.0              1249.0        87.0   \n",
       "15  137544.0           50.0       0.0             11022.0        84.0   \n",
       "37   30282.0           51.0       0.0               105.0        75.0   \n",
       "40   54646.0           56.0       0.0              1370.0        76.0   \n",
       "\n",
       "    n_reviews  avg_rank  avg_price  avg_saving_percent  star_0.0  star_1.0  \\\n",
       "2      1005.0    16.438      57.63                27.0         0         0   \n",
       "5      1683.0    18.391      96.70                 0.0         1         0   \n",
       "15      315.0    17.600      52.80                 0.0         1         0   \n",
       "37      201.0    17.088      40.52                 0.0         1         0   \n",
       "40      552.0    15.701      68.43                 0.0         1         0   \n",
       "\n",
       "    star_2.0  star_3.0  star_4.0  star_5.0  \n",
       "2          0         1         0         0  \n",
       "5          0         0         0         0  \n",
       "15         0         0         0         0  \n",
       "37         0         0         0         0  \n",
       "40         0         0         0         0  "
      ]
     },
     "execution_count": 102,
     "metadata": {},
     "output_type": "execute_result"
    }
   ],
   "source": [
    "clicks = validation.n_clicks;\n",
    "validation_predict = validation.drop('n_clicks', axis=1)\n",
    "validation_predict.head()"
   ]
  },
  {
   "cell_type": "code",
   "execution_count": 103,
   "metadata": {},
   "outputs": [
    {
     "data": {
      "text/html": [
       "<div>\n",
       "<style scoped>\n",
       "    .dataframe tbody tr th:only-of-type {\n",
       "        vertical-align: middle;\n",
       "    }\n",
       "\n",
       "    .dataframe tbody tr th {\n",
       "        vertical-align: top;\n",
       "    }\n",
       "\n",
       "    .dataframe thead th {\n",
       "        text-align: right;\n",
       "    }\n",
       "</style>\n",
       "<table border=\"1\" class=\"dataframe\">\n",
       "  <thead>\n",
       "    <tr style=\"text-align: right;\">\n",
       "      <th></th>\n",
       "      <th>city_id</th>\n",
       "      <th>content_score</th>\n",
       "      <th>n_images</th>\n",
       "      <th>distance_to_center</th>\n",
       "      <th>avg_rating</th>\n",
       "      <th>n_reviews</th>\n",
       "      <th>avg_rank</th>\n",
       "      <th>avg_price</th>\n",
       "      <th>avg_saving_percent</th>\n",
       "      <th>star_0.0</th>\n",
       "      <th>star_1.0</th>\n",
       "      <th>star_2.0</th>\n",
       "      <th>star_3.0</th>\n",
       "      <th>star_4.0</th>\n",
       "      <th>star_5.0</th>\n",
       "      <th>predicted_clicks</th>\n",
       "      <th>actual_clicks</th>\n",
       "      <th>clicks_difference</th>\n",
       "    </tr>\n",
       "  </thead>\n",
       "  <tbody>\n",
       "    <tr>\n",
       "      <th>2</th>\n",
       "      <td>133732.0</td>\n",
       "      <td>39.0</td>\n",
       "      <td>3.0</td>\n",
       "      <td>23491.0</td>\n",
       "      <td>83.0</td>\n",
       "      <td>1005.0</td>\n",
       "      <td>16.438</td>\n",
       "      <td>57.63</td>\n",
       "      <td>27.0</td>\n",
       "      <td>0</td>\n",
       "      <td>0</td>\n",
       "      <td>0</td>\n",
       "      <td>1</td>\n",
       "      <td>0</td>\n",
       "      <td>0</td>\n",
       "      <td>0.0</td>\n",
       "      <td>44</td>\n",
       "      <td>44.0</td>\n",
       "    </tr>\n",
       "    <tr>\n",
       "      <th>5</th>\n",
       "      <td>52142.0</td>\n",
       "      <td>58.0</td>\n",
       "      <td>2.0</td>\n",
       "      <td>1249.0</td>\n",
       "      <td>87.0</td>\n",
       "      <td>1683.0</td>\n",
       "      <td>18.391</td>\n",
       "      <td>96.70</td>\n",
       "      <td>0.0</td>\n",
       "      <td>1</td>\n",
       "      <td>0</td>\n",
       "      <td>0</td>\n",
       "      <td>0</td>\n",
       "      <td>0</td>\n",
       "      <td>0</td>\n",
       "      <td>6.0</td>\n",
       "      <td>0</td>\n",
       "      <td>-6.0</td>\n",
       "    </tr>\n",
       "    <tr>\n",
       "      <th>15</th>\n",
       "      <td>137544.0</td>\n",
       "      <td>50.0</td>\n",
       "      <td>0.0</td>\n",
       "      <td>11022.0</td>\n",
       "      <td>84.0</td>\n",
       "      <td>315.0</td>\n",
       "      <td>17.600</td>\n",
       "      <td>52.80</td>\n",
       "      <td>0.0</td>\n",
       "      <td>1</td>\n",
       "      <td>0</td>\n",
       "      <td>0</td>\n",
       "      <td>0</td>\n",
       "      <td>0</td>\n",
       "      <td>0</td>\n",
       "      <td>3.0</td>\n",
       "      <td>0</td>\n",
       "      <td>-3.0</td>\n",
       "    </tr>\n",
       "    <tr>\n",
       "      <th>37</th>\n",
       "      <td>30282.0</td>\n",
       "      <td>51.0</td>\n",
       "      <td>0.0</td>\n",
       "      <td>105.0</td>\n",
       "      <td>75.0</td>\n",
       "      <td>201.0</td>\n",
       "      <td>17.088</td>\n",
       "      <td>40.52</td>\n",
       "      <td>0.0</td>\n",
       "      <td>1</td>\n",
       "      <td>0</td>\n",
       "      <td>0</td>\n",
       "      <td>0</td>\n",
       "      <td>0</td>\n",
       "      <td>0</td>\n",
       "      <td>12.0</td>\n",
       "      <td>10</td>\n",
       "      <td>-2.0</td>\n",
       "    </tr>\n",
       "    <tr>\n",
       "      <th>40</th>\n",
       "      <td>54646.0</td>\n",
       "      <td>56.0</td>\n",
       "      <td>0.0</td>\n",
       "      <td>1370.0</td>\n",
       "      <td>76.0</td>\n",
       "      <td>552.0</td>\n",
       "      <td>15.701</td>\n",
       "      <td>68.43</td>\n",
       "      <td>0.0</td>\n",
       "      <td>1</td>\n",
       "      <td>0</td>\n",
       "      <td>0</td>\n",
       "      <td>0</td>\n",
       "      <td>0</td>\n",
       "      <td>0</td>\n",
       "      <td>7.0</td>\n",
       "      <td>4</td>\n",
       "      <td>-3.0</td>\n",
       "    </tr>\n",
       "    <tr>\n",
       "      <th>47</th>\n",
       "      <td>28514.0</td>\n",
       "      <td>52.0</td>\n",
       "      <td>1.0</td>\n",
       "      <td>6851.0</td>\n",
       "      <td>70.0</td>\n",
       "      <td>72.0</td>\n",
       "      <td>15.778</td>\n",
       "      <td>60.54</td>\n",
       "      <td>0.0</td>\n",
       "      <td>0</td>\n",
       "      <td>1</td>\n",
       "      <td>0</td>\n",
       "      <td>0</td>\n",
       "      <td>0</td>\n",
       "      <td>0</td>\n",
       "      <td>-7.0</td>\n",
       "      <td>0</td>\n",
       "      <td>7.0</td>\n",
       "    </tr>\n",
       "    <tr>\n",
       "      <th>53</th>\n",
       "      <td>28104.0</td>\n",
       "      <td>56.0</td>\n",
       "      <td>1.0</td>\n",
       "      <td>272.0</td>\n",
       "      <td>81.0</td>\n",
       "      <td>234.0</td>\n",
       "      <td>15.171</td>\n",
       "      <td>126.33</td>\n",
       "      <td>37.0</td>\n",
       "      <td>1</td>\n",
       "      <td>0</td>\n",
       "      <td>0</td>\n",
       "      <td>0</td>\n",
       "      <td>0</td>\n",
       "      <td>0</td>\n",
       "      <td>16.0</td>\n",
       "      <td>24</td>\n",
       "      <td>8.0</td>\n",
       "    </tr>\n",
       "    <tr>\n",
       "      <th>64</th>\n",
       "      <td>32434.0</td>\n",
       "      <td>59.0</td>\n",
       "      <td>0.0</td>\n",
       "      <td>3683.0</td>\n",
       "      <td>73.0</td>\n",
       "      <td>1371.0</td>\n",
       "      <td>19.889</td>\n",
       "      <td>115.66</td>\n",
       "      <td>12.0</td>\n",
       "      <td>0</td>\n",
       "      <td>0</td>\n",
       "      <td>1</td>\n",
       "      <td>0</td>\n",
       "      <td>0</td>\n",
       "      <td>0</td>\n",
       "      <td>3.0</td>\n",
       "      <td>0</td>\n",
       "      <td>-3.0</td>\n",
       "    </tr>\n",
       "    <tr>\n",
       "      <th>71</th>\n",
       "      <td>31910.0</td>\n",
       "      <td>58.0</td>\n",
       "      <td>2.0</td>\n",
       "      <td>1882.0</td>\n",
       "      <td>84.0</td>\n",
       "      <td>1518.0</td>\n",
       "      <td>15.000</td>\n",
       "      <td>50.31</td>\n",
       "      <td>37.0</td>\n",
       "      <td>0</td>\n",
       "      <td>0</td>\n",
       "      <td>1</td>\n",
       "      <td>0</td>\n",
       "      <td>0</td>\n",
       "      <td>0</td>\n",
       "      <td>11.0</td>\n",
       "      <td>0</td>\n",
       "      <td>-11.0</td>\n",
       "    </tr>\n",
       "    <tr>\n",
       "      <th>73</th>\n",
       "      <td>49014.0</td>\n",
       "      <td>61.0</td>\n",
       "      <td>1.0</td>\n",
       "      <td>1787.0</td>\n",
       "      <td>88.0</td>\n",
       "      <td>465.0</td>\n",
       "      <td>15.000</td>\n",
       "      <td>73.60</td>\n",
       "      <td>0.0</td>\n",
       "      <td>1</td>\n",
       "      <td>0</td>\n",
       "      <td>0</td>\n",
       "      <td>0</td>\n",
       "      <td>0</td>\n",
       "      <td>0</td>\n",
       "      <td>2.0</td>\n",
       "      <td>0</td>\n",
       "      <td>-2.0</td>\n",
       "    </tr>\n",
       "    <tr>\n",
       "      <th>76</th>\n",
       "      <td>552742.0</td>\n",
       "      <td>58.0</td>\n",
       "      <td>0.0</td>\n",
       "      <td>948.0</td>\n",
       "      <td>84.0</td>\n",
       "      <td>2583.0</td>\n",
       "      <td>14.048</td>\n",
       "      <td>37.38</td>\n",
       "      <td>14.0</td>\n",
       "      <td>0</td>\n",
       "      <td>0</td>\n",
       "      <td>1</td>\n",
       "      <td>0</td>\n",
       "      <td>0</td>\n",
       "      <td>0</td>\n",
       "      <td>8.0</td>\n",
       "      <td>0</td>\n",
       "      <td>-8.0</td>\n",
       "    </tr>\n",
       "    <tr>\n",
       "      <th>77</th>\n",
       "      <td>66598.0</td>\n",
       "      <td>62.0</td>\n",
       "      <td>2.0</td>\n",
       "      <td>2064.0</td>\n",
       "      <td>87.0</td>\n",
       "      <td>93.0</td>\n",
       "      <td>23.000</td>\n",
       "      <td>39.34</td>\n",
       "      <td>3.0</td>\n",
       "      <td>0</td>\n",
       "      <td>0</td>\n",
       "      <td>0</td>\n",
       "      <td>1</td>\n",
       "      <td>0</td>\n",
       "      <td>0</td>\n",
       "      <td>-4.0</td>\n",
       "      <td>0</td>\n",
       "      <td>4.0</td>\n",
       "    </tr>\n",
       "    <tr>\n",
       "      <th>82</th>\n",
       "      <td>126616.0</td>\n",
       "      <td>44.0</td>\n",
       "      <td>0.0</td>\n",
       "      <td>15824.0</td>\n",
       "      <td>80.0</td>\n",
       "      <td>102.0</td>\n",
       "      <td>16.250</td>\n",
       "      <td>101.61</td>\n",
       "      <td>0.0</td>\n",
       "      <td>1</td>\n",
       "      <td>0</td>\n",
       "      <td>0</td>\n",
       "      <td>0</td>\n",
       "      <td>0</td>\n",
       "      <td>0</td>\n",
       "      <td>1.0</td>\n",
       "      <td>0</td>\n",
       "      <td>-1.0</td>\n",
       "    </tr>\n",
       "    <tr>\n",
       "      <th>92</th>\n",
       "      <td>31786.0</td>\n",
       "      <td>62.0</td>\n",
       "      <td>4.0</td>\n",
       "      <td>4334.0</td>\n",
       "      <td>85.0</td>\n",
       "      <td>1464.0</td>\n",
       "      <td>11.406</td>\n",
       "      <td>67.76</td>\n",
       "      <td>43.0</td>\n",
       "      <td>0</td>\n",
       "      <td>0</td>\n",
       "      <td>0</td>\n",
       "      <td>0</td>\n",
       "      <td>0</td>\n",
       "      <td>1</td>\n",
       "      <td>66.0</td>\n",
       "      <td>8</td>\n",
       "      <td>-58.0</td>\n",
       "    </tr>\n",
       "    <tr>\n",
       "      <th>98</th>\n",
       "      <td>105132.0</td>\n",
       "      <td>58.0</td>\n",
       "      <td>1.0</td>\n",
       "      <td>304.0</td>\n",
       "      <td>89.0</td>\n",
       "      <td>3699.0</td>\n",
       "      <td>18.558</td>\n",
       "      <td>48.09</td>\n",
       "      <td>3.0</td>\n",
       "      <td>1</td>\n",
       "      <td>0</td>\n",
       "      <td>0</td>\n",
       "      <td>0</td>\n",
       "      <td>0</td>\n",
       "      <td>0</td>\n",
       "      <td>3.0</td>\n",
       "      <td>0</td>\n",
       "      <td>-3.0</td>\n",
       "    </tr>\n",
       "    <tr>\n",
       "      <th>99</th>\n",
       "      <td>174470.0</td>\n",
       "      <td>58.0</td>\n",
       "      <td>0.0</td>\n",
       "      <td>2282.0</td>\n",
       "      <td>80.0</td>\n",
       "      <td>900.0</td>\n",
       "      <td>17.055</td>\n",
       "      <td>15.43</td>\n",
       "      <td>23.0</td>\n",
       "      <td>1</td>\n",
       "      <td>0</td>\n",
       "      <td>0</td>\n",
       "      <td>0</td>\n",
       "      <td>0</td>\n",
       "      <td>0</td>\n",
       "      <td>2.0</td>\n",
       "      <td>0</td>\n",
       "      <td>-2.0</td>\n",
       "    </tr>\n",
       "    <tr>\n",
       "      <th>105</th>\n",
       "      <td>123898.0</td>\n",
       "      <td>52.0</td>\n",
       "      <td>0.0</td>\n",
       "      <td>718.0</td>\n",
       "      <td>89.0</td>\n",
       "      <td>93.0</td>\n",
       "      <td>18.200</td>\n",
       "      <td>84.96</td>\n",
       "      <td>0.0</td>\n",
       "      <td>1</td>\n",
       "      <td>0</td>\n",
       "      <td>0</td>\n",
       "      <td>0</td>\n",
       "      <td>0</td>\n",
       "      <td>0</td>\n",
       "      <td>0.0</td>\n",
       "      <td>2</td>\n",
       "      <td>2.0</td>\n",
       "    </tr>\n",
       "    <tr>\n",
       "      <th>115</th>\n",
       "      <td>49518.0</td>\n",
       "      <td>60.0</td>\n",
       "      <td>1.0</td>\n",
       "      <td>138.0</td>\n",
       "      <td>85.0</td>\n",
       "      <td>318.0</td>\n",
       "      <td>15.500</td>\n",
       "      <td>104.60</td>\n",
       "      <td>7.0</td>\n",
       "      <td>0</td>\n",
       "      <td>0</td>\n",
       "      <td>0</td>\n",
       "      <td>1</td>\n",
       "      <td>0</td>\n",
       "      <td>0</td>\n",
       "      <td>3.0</td>\n",
       "      <td>2</td>\n",
       "      <td>-1.0</td>\n",
       "    </tr>\n",
       "    <tr>\n",
       "      <th>117</th>\n",
       "      <td>781340.0</td>\n",
       "      <td>59.0</td>\n",
       "      <td>1.0</td>\n",
       "      <td>4113.0</td>\n",
       "      <td>78.0</td>\n",
       "      <td>135.0</td>\n",
       "      <td>20.000</td>\n",
       "      <td>33.60</td>\n",
       "      <td>0.0</td>\n",
       "      <td>0</td>\n",
       "      <td>0</td>\n",
       "      <td>0</td>\n",
       "      <td>1</td>\n",
       "      <td>0</td>\n",
       "      <td>0</td>\n",
       "      <td>-0.0</td>\n",
       "      <td>0</td>\n",
       "      <td>0.0</td>\n",
       "    </tr>\n",
       "    <tr>\n",
       "      <th>125</th>\n",
       "      <td>11200.0</td>\n",
       "      <td>62.0</td>\n",
       "      <td>2.0</td>\n",
       "      <td>511.0</td>\n",
       "      <td>85.0</td>\n",
       "      <td>3117.0</td>\n",
       "      <td>4.037</td>\n",
       "      <td>76.31</td>\n",
       "      <td>48.0</td>\n",
       "      <td>0</td>\n",
       "      <td>0</td>\n",
       "      <td>0</td>\n",
       "      <td>1</td>\n",
       "      <td>0</td>\n",
       "      <td>0</td>\n",
       "      <td>1011.0</td>\n",
       "      <td>812</td>\n",
       "      <td>-199.0</td>\n",
       "    </tr>\n",
       "    <tr>\n",
       "      <th>127</th>\n",
       "      <td>52124.0</td>\n",
       "      <td>49.0</td>\n",
       "      <td>2.0</td>\n",
       "      <td>159.0</td>\n",
       "      <td>81.0</td>\n",
       "      <td>129.0</td>\n",
       "      <td>19.000</td>\n",
       "      <td>55.60</td>\n",
       "      <td>0.0</td>\n",
       "      <td>1</td>\n",
       "      <td>0</td>\n",
       "      <td>0</td>\n",
       "      <td>0</td>\n",
       "      <td>0</td>\n",
       "      <td>0</td>\n",
       "      <td>3.0</td>\n",
       "      <td>0</td>\n",
       "      <td>-3.0</td>\n",
       "    </tr>\n",
       "    <tr>\n",
       "      <th>143</th>\n",
       "      <td>53604.0</td>\n",
       "      <td>67.0</td>\n",
       "      <td>4.0</td>\n",
       "      <td>134.0</td>\n",
       "      <td>85.0</td>\n",
       "      <td>6669.0</td>\n",
       "      <td>16.499</td>\n",
       "      <td>175.53</td>\n",
       "      <td>38.0</td>\n",
       "      <td>0</td>\n",
       "      <td>0</td>\n",
       "      <td>0</td>\n",
       "      <td>0</td>\n",
       "      <td>1</td>\n",
       "      <td>0</td>\n",
       "      <td>96.0</td>\n",
       "      <td>84</td>\n",
       "      <td>-12.0</td>\n",
       "    </tr>\n",
       "    <tr>\n",
       "      <th>150</th>\n",
       "      <td>31126.0</td>\n",
       "      <td>70.0</td>\n",
       "      <td>4.0</td>\n",
       "      <td>3835.0</td>\n",
       "      <td>80.0</td>\n",
       "      <td>6648.0</td>\n",
       "      <td>13.515</td>\n",
       "      <td>96.09</td>\n",
       "      <td>18.0</td>\n",
       "      <td>0</td>\n",
       "      <td>0</td>\n",
       "      <td>0</td>\n",
       "      <td>0</td>\n",
       "      <td>1</td>\n",
       "      <td>0</td>\n",
       "      <td>37.0</td>\n",
       "      <td>42</td>\n",
       "      <td>5.0</td>\n",
       "    </tr>\n",
       "    <tr>\n",
       "      <th>157</th>\n",
       "      <td>63314.0</td>\n",
       "      <td>67.0</td>\n",
       "      <td>4.0</td>\n",
       "      <td>3038.0</td>\n",
       "      <td>87.0</td>\n",
       "      <td>582.0</td>\n",
       "      <td>16.303</td>\n",
       "      <td>332.55</td>\n",
       "      <td>33.0</td>\n",
       "      <td>0</td>\n",
       "      <td>0</td>\n",
       "      <td>0</td>\n",
       "      <td>0</td>\n",
       "      <td>0</td>\n",
       "      <td>1</td>\n",
       "      <td>23.0</td>\n",
       "      <td>10</td>\n",
       "      <td>-13.0</td>\n",
       "    </tr>\n",
       "    <tr>\n",
       "      <th>163</th>\n",
       "      <td>107614.0</td>\n",
       "      <td>58.0</td>\n",
       "      <td>2.0</td>\n",
       "      <td>1575.0</td>\n",
       "      <td>70.0</td>\n",
       "      <td>6531.0</td>\n",
       "      <td>14.273</td>\n",
       "      <td>65.06</td>\n",
       "      <td>11.0</td>\n",
       "      <td>0</td>\n",
       "      <td>0</td>\n",
       "      <td>0</td>\n",
       "      <td>1</td>\n",
       "      <td>0</td>\n",
       "      <td>0</td>\n",
       "      <td>1.0</td>\n",
       "      <td>6</td>\n",
       "      <td>5.0</td>\n",
       "    </tr>\n",
       "  </tbody>\n",
       "</table>\n",
       "</div>"
      ],
      "text/plain": [
       "      city_id  content_score  n_images  distance_to_center  avg_rating  \\\n",
       "2    133732.0           39.0       3.0             23491.0        83.0   \n",
       "5     52142.0           58.0       2.0              1249.0        87.0   \n",
       "15   137544.0           50.0       0.0             11022.0        84.0   \n",
       "37    30282.0           51.0       0.0               105.0        75.0   \n",
       "40    54646.0           56.0       0.0              1370.0        76.0   \n",
       "47    28514.0           52.0       1.0              6851.0        70.0   \n",
       "53    28104.0           56.0       1.0               272.0        81.0   \n",
       "64    32434.0           59.0       0.0              3683.0        73.0   \n",
       "71    31910.0           58.0       2.0              1882.0        84.0   \n",
       "73    49014.0           61.0       1.0              1787.0        88.0   \n",
       "76   552742.0           58.0       0.0               948.0        84.0   \n",
       "77    66598.0           62.0       2.0              2064.0        87.0   \n",
       "82   126616.0           44.0       0.0             15824.0        80.0   \n",
       "92    31786.0           62.0       4.0              4334.0        85.0   \n",
       "98   105132.0           58.0       1.0               304.0        89.0   \n",
       "99   174470.0           58.0       0.0              2282.0        80.0   \n",
       "105  123898.0           52.0       0.0               718.0        89.0   \n",
       "115   49518.0           60.0       1.0               138.0        85.0   \n",
       "117  781340.0           59.0       1.0              4113.0        78.0   \n",
       "125   11200.0           62.0       2.0               511.0        85.0   \n",
       "127   52124.0           49.0       2.0               159.0        81.0   \n",
       "143   53604.0           67.0       4.0               134.0        85.0   \n",
       "150   31126.0           70.0       4.0              3835.0        80.0   \n",
       "157   63314.0           67.0       4.0              3038.0        87.0   \n",
       "163  107614.0           58.0       2.0              1575.0        70.0   \n",
       "\n",
       "     n_reviews  avg_rank  avg_price  avg_saving_percent  star_0.0  star_1.0  \\\n",
       "2       1005.0    16.438      57.63                27.0         0         0   \n",
       "5       1683.0    18.391      96.70                 0.0         1         0   \n",
       "15       315.0    17.600      52.80                 0.0         1         0   \n",
       "37       201.0    17.088      40.52                 0.0         1         0   \n",
       "40       552.0    15.701      68.43                 0.0         1         0   \n",
       "47        72.0    15.778      60.54                 0.0         0         1   \n",
       "53       234.0    15.171     126.33                37.0         1         0   \n",
       "64      1371.0    19.889     115.66                12.0         0         0   \n",
       "71      1518.0    15.000      50.31                37.0         0         0   \n",
       "73       465.0    15.000      73.60                 0.0         1         0   \n",
       "76      2583.0    14.048      37.38                14.0         0         0   \n",
       "77        93.0    23.000      39.34                 3.0         0         0   \n",
       "82       102.0    16.250     101.61                 0.0         1         0   \n",
       "92      1464.0    11.406      67.76                43.0         0         0   \n",
       "98      3699.0    18.558      48.09                 3.0         1         0   \n",
       "99       900.0    17.055      15.43                23.0         1         0   \n",
       "105       93.0    18.200      84.96                 0.0         1         0   \n",
       "115      318.0    15.500     104.60                 7.0         0         0   \n",
       "117      135.0    20.000      33.60                 0.0         0         0   \n",
       "125     3117.0     4.037      76.31                48.0         0         0   \n",
       "127      129.0    19.000      55.60                 0.0         1         0   \n",
       "143     6669.0    16.499     175.53                38.0         0         0   \n",
       "150     6648.0    13.515      96.09                18.0         0         0   \n",
       "157      582.0    16.303     332.55                33.0         0         0   \n",
       "163     6531.0    14.273      65.06                11.0         0         0   \n",
       "\n",
       "     star_2.0  star_3.0  star_4.0  star_5.0  predicted_clicks  actual_clicks  \\\n",
       "2           0         1         0         0               0.0             44   \n",
       "5           0         0         0         0               6.0              0   \n",
       "15          0         0         0         0               3.0              0   \n",
       "37          0         0         0         0              12.0             10   \n",
       "40          0         0         0         0               7.0              4   \n",
       "47          0         0         0         0              -7.0              0   \n",
       "53          0         0         0         0              16.0             24   \n",
       "64          1         0         0         0               3.0              0   \n",
       "71          1         0         0         0              11.0              0   \n",
       "73          0         0         0         0               2.0              0   \n",
       "76          1         0         0         0               8.0              0   \n",
       "77          0         1         0         0              -4.0              0   \n",
       "82          0         0         0         0               1.0              0   \n",
       "92          0         0         0         1              66.0              8   \n",
       "98          0         0         0         0               3.0              0   \n",
       "99          0         0         0         0               2.0              0   \n",
       "105         0         0         0         0               0.0              2   \n",
       "115         0         1         0         0               3.0              2   \n",
       "117         0         1         0         0              -0.0              0   \n",
       "125         0         1         0         0            1011.0            812   \n",
       "127         0         0         0         0               3.0              0   \n",
       "143         0         0         1         0              96.0             84   \n",
       "150         0         0         1         0              37.0             42   \n",
       "157         0         0         0         1              23.0             10   \n",
       "163         0         1         0         0               1.0              6   \n",
       "\n",
       "     clicks_difference  \n",
       "2                 44.0  \n",
       "5                 -6.0  \n",
       "15                -3.0  \n",
       "37                -2.0  \n",
       "40                -3.0  \n",
       "47                 7.0  \n",
       "53                 8.0  \n",
       "64                -3.0  \n",
       "71               -11.0  \n",
       "73                -2.0  \n",
       "76                -8.0  \n",
       "77                 4.0  \n",
       "82                -1.0  \n",
       "92               -58.0  \n",
       "98                -3.0  \n",
       "99                -2.0  \n",
       "105                2.0  \n",
       "115               -1.0  \n",
       "117                0.0  \n",
       "125             -199.0  \n",
       "127               -3.0  \n",
       "143              -12.0  \n",
       "150                5.0  \n",
       "157              -13.0  \n",
       "163                5.0  "
      ]
     },
     "execution_count": 103,
     "metadata": {},
     "output_type": "execute_result"
    }
   ],
   "source": [
    "validation_predict['predicted_clicks'] = model_xgb.predict(validation_predict.values)\n",
    "validation_predict['predicted_clicks'] = validation_predict['predicted_clicks'].values.round(0)\n",
    "validation_predict['actual_clicks'] = clicks\n",
    "validation_predict['clicks_difference'] = validation_predict['actual_clicks'] - validation_predict['predicted_clicks']\n",
    "validation_predict.head(25)"
   ]
  },
  {
   "cell_type": "markdown",
   "metadata": {},
   "source": [
    "**Conclusion**: In this tutorial, we have worked with hotel clicks prediction. We started with **EDA**, followed by outliers removal and data imputation (which is the redundant step in case of tree-based algorithms). Several algorithms were trained and **feature importance** was observed in order to have a glimpse at what are decisive criteria for customers to click on the hotels. This work can be extended with corresponding HP tuning, which will definitely improve the results. Possibly, there is a room for **feature engineering**, which was not part of this project. Overall we see that tradition GB algorithm is outperforming competitors, however, it still has to be tuned since the one can that the difference between predicted and actual clicks is quite big in a few cases."
   ]
  }
 ],
 "metadata": {
  "kernelspec": {
   "display_name": "Python 2",
   "language": "python",
   "name": "python2"
  },
  "language_info": {
   "codemirror_mode": {
    "name": "ipython",
    "version": 2
   },
   "file_extension": ".py",
   "mimetype": "text/x-python",
   "name": "python",
   "nbconvert_exporter": "python",
   "pygments_lexer": "ipython2",
   "version": "2.7.13"
  }
 },
 "nbformat": 4,
 "nbformat_minor": 2
}
