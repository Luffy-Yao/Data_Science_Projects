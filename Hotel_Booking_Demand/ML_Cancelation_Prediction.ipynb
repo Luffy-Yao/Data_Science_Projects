{
 "cells": [
  {
   "cell_type": "markdown",
   "metadata": {},
   "source": [
    "# Hotel booking\n",
    "\n",
    "\n",
    "The dataset contains data from two different hotels. One Resort hotel and one City hotel.\n",
    "\n",
    "From the publication (https://www.sciencedirect.com/science/article/pii/S2352340918315191) we know that both hotels are located in Portugal (southern Europe) (\"H1 at the resort region of Algarve and H2 at the city of Lisbon\"). The distance between these two locations is ca. 280 km by car and both locations border on the north atlantic.  \n",
    "\n",
    "The data contains \"bookings due to arrive between the 1st of July of 2015 and the 31st of August 2017\".  \n",
    "\n",
    "Columns description:\n",
    "\n",
    "   - `is_canceled` - Value indicating if the booking was canceled (1) or not (0)\n",
    "   - `lead_time` - Number of days that elapsed between the entering date of the booking into the PMS and the arrival date\n",
    "   - `arrival_date_year` - Year of arrival date\n",
    "   - `arrival_date_month` - Month of arrival date\n",
    "   - `arrival_date_week_number` - Week number of year for arrival date\n",
    "   - `arrival_date_day_of_month` - Day of arrival date\n",
    "   - `stays_in_weekend_nights`- Number of weekend nights (Saturday or Sunday) the guest stayed or booked to stay at the hotel\n",
    "   - `stays_in_week_nights` - Number of week nights (Monday to Friday) the guest stayed or booked to stay at the hotel\n",
    "   - `adults` - Number of adults\n",
    "   - `childrenNumber` - Number of children\n",
    "   - `babies` - Number of babies\n",
    "   - `mealType` - type of meal booked. Categories are presented in standard hospitality meal packages: Undefined/SC – no meal package; BB – Bed & Breakfast; HB – Half board (breakfast and one other meal – usually dinner); FB – Full board (breakfast, lunch and dinner)\n",
    "   - `country` - Country of origin. Categories are represented in the ISO 3155–3:2013 format \n",
    "   - `market_segment` - Market segment designation. In categories, the term “TA” means “Travel Agents” and “TO” means “Tour Operators”\n",
    "   - `distribution_channel` - Booking distribution channel. The term “TA” means “Travel Agents” and “TO” means “Tour Operators”\n",
    "   - `is_repeated_guest` - Value indicating if the booking name was from a repeated guest (1) or not (0)\n",
    "   - `previous_cancellations` - Number of previous bookings that were cancelled by the customer prior to the current booking\n",
    "   - `previous_bookings_not_canceled` - Number of previous bookings not cancelled by the customer prior to the current booking\n",
    "   - `reserved_room_type` - Code of room type reserved. Code is presented instead of designation for anonymity reasons.\n",
    "   - `assigned_room_type` - Code for the type of room assigned to the booking. Sometimes the assigned room type differs from the reserved room type due to hotel operation reasons (e.g. overbooking) or by customer request. Code is presented instead of designation for anonymity reasons.\n",
    "   - `booking_changes` - Number of changes/amendments made to the booking from the moment the booking was entered on the PMS until the moment of check-in or cancellation\n",
    "   - `deposit_type` - Indication on if the customer made a deposit to guarantee the booking. This variable can assume three categories: No Deposit – no deposit was made; Non Refund – a deposit was made in the value of the total stay cost; Refundable – a deposit was made with a value under the total cost of stay.\n",
    "   - `agentID` - of the travel agency that made the booking\n",
    "   - `companyID` - of the company/entity that made the booking or responsible for paying the booking. ID is presented instead of designation for anonymity reasons\n",
    "   - `days_in_waiting_list` - Number of days the booking was in the waiting list before it was confirmed to the customer\n",
    "   - `customer_type` - Type of booking, assuming one of four categories: Contract - when the booking has an allotment or other type of contract associated to it; Group – when the booking is associated to a group; Transient – when the booking is not part of a group or contract, and is not associated to other transient booking; Transient-party – when the booking is transient, but is associated to at least other transient booking.\n",
    "   - `adr` - Average Daily Rate as defined by dividing the sum of all lodging transactions by the total number of staying nights\n",
    "   - `required_car_parking_spaces` - Number of car parking spaces required by the customer\n",
    "   - `total_of_special_requests` - Number of special requests made by the customer (e.g. twin bed or high floor)  \n",
    "   - `reservation_status` - Reservation last status, assuming one of three categories: Canceled – booking was canceled by the customer; Check-Out – customer has checked in but already departed; No-Show – customer did not check-in and did inform the hotel of the reason why\n",
    "   - `reservation_status_date` - Date at which the last status was set. This variable can be used in conjunction with the ReservationStatus to understand when was the booking canceled or when did the customer checked-out of the hotel"
   ]
  },
  {
   "cell_type": "markdown",
   "metadata": {},
   "source": [
    "### 2. Predicting Cancelations\n",
    "The goal of this task is to predict whether the customer will come or cancel his booking. This can help a hotel to plan things like stuff, supplies, pricing etc. Its gonna be classical `classification` problem.\n",
    "\n",
    "### 3. Evaluate Feature importance\n",
    "Which features are most important to predict cancelations?  "
   ]
  },
  {
   "cell_type": "code",
   "execution_count": null,
   "metadata": {},
   "outputs": [],
   "source": [
    "import numpy as np # linear algebra\n",
    "import pandas as pd # data processing, CSV file I/O (e.g. pd.read_csv)\n",
    "\n",
    "# Use 3 decimal places in output display\n",
    "pd.set_option(\"display.precision\", 3)\n",
    "# Don't wrap repr(DataFrame) across additional lines\n",
    "pd.set_option(\"display.expand_frame_repr\", False)\n",
    "# Set max rows displayed in output to 250\n",
    "pd.set_option(\"display.max_rows\", 250)\n",
    "# Set max columns displayed in output to 50\n",
    "pd.set_option(\"display.max_columns\", 250)\n",
    "\n",
    "# Import label encoder \n",
    "from sklearn import preprocessing \n",
    "from categotical_features_encoding import to_label_encode_cat_data, to_one_hot_encode_cat_data, get_list_of_cat_features\n",
    "from evaluation import cv_roc_auc_acc, model_evaluation_classification, cv_rmse_mae, model_evaluation_regression\n",
    "from preprocessing import time_features_encoding"
   ]
  },
  {
   "cell_type": "code",
   "execution_count": null,
   "metadata": {},
   "outputs": [],
   "source": [
    "import matplotlib.pyplot as plt\n",
    "%matplotlib inline\n",
    "import seaborn as sns\n",
    "import plotly.express as px"
   ]
  },
  {
   "cell_type": "code",
   "execution_count": null,
   "metadata": {},
   "outputs": [],
   "source": [
    "from sklearn.model_selection import cross_val_score, StratifiedKFold, KFold, train_test_split, cross_validate\n",
    "from sklearn.metrics import accuracy_score, roc_auc_score, r2_score, median_absolute_error, mean_absolute_error, mean_squared_error\n",
    "from sklearn.preprocessing import RobustScaler\n",
    "from sklearn.pipeline import make_pipeline\n",
    "\n",
    "from sklearn.ensemble import GradientBoostingRegressor\n",
    "from sklearn.linear_model import ElasticNet, Lasso, Ridge\n",
    "import xgboost as xgb\n",
    "import lightgbm as lgb\n",
    "\n",
    "\n",
    "import warnings\n",
    "def ignore_warn(*args, **kwargs):\n",
    "    pass\n",
    "warnings.warn = ignore_warn #ignore annoying warning (from sklearn and seaborn)"
   ]
  },
  {
   "cell_type": "markdown",
   "metadata": {},
   "source": [
    "## Intro: Preprocessing"
   ]
  },
  {
   "cell_type": "code",
   "execution_count": null,
   "metadata": {},
   "outputs": [],
   "source": [
    "df = pd.read_csv(\"../Hotel_Booking_Demand/data/hotel_bookings.csv\")\n",
    "print(\"Data shape: rows {} and columns {}\".format(df.shape[0], df.shape[1]))"
   ]
  },
  {
   "cell_type": "code",
   "execution_count": null,
   "metadata": {},
   "outputs": [],
   "source": [
    "df.head().T"
   ]
  },
  {
   "cell_type": "code",
   "execution_count": null,
   "metadata": {},
   "outputs": [],
   "source": [
    "df.describe().T"
   ]
  },
  {
   "cell_type": "markdown",
   "metadata": {},
   "source": [
    "Interestingly that the minimum value for `adults` is zero, meaning that we have some bookings without adults, which does not really make much sence. We are going to expore it later."
   ]
  },
  {
   "cell_type": "code",
   "execution_count": null,
   "metadata": {},
   "outputs": [],
   "source": [
    "df.info()"
   ]
  },
  {
   "cell_type": "code",
   "execution_count": null,
   "metadata": {},
   "outputs": [],
   "source": [
    "# Null values\n",
    "df.isnull().sum()"
   ]
  },
  {
   "cell_type": "code",
   "execution_count": null,
   "metadata": {},
   "outputs": [],
   "source": [
    "# Room type\n",
    "print(df.reserved_room_type.unique())\n",
    "print(\"Number of unique values in 'reserved_room_type' column is {}\".format(len(df.reserved_room_type.unique())))"
   ]
  },
  {
   "cell_type": "code",
   "execution_count": null,
   "metadata": {},
   "outputs": [],
   "source": [
    "# Company has at most of missing values lets have a look\n",
    "print(df.company.unique())\n",
    "print(\"Number of unique values in 'company' column is {}\".format(len(df.company.unique())))"
   ]
  },
  {
   "cell_type": "code",
   "execution_count": null,
   "metadata": {},
   "outputs": [],
   "source": [
    "# Now proceed with agent has second most of missing values lets have a look\n",
    "print(df.agent.unique())\n",
    "print(\"Number of unique values in 'agent' column is {}\".format(len(df.agent.unique())))"
   ]
  },
  {
   "cell_type": "code",
   "execution_count": null,
   "metadata": {},
   "outputs": [],
   "source": [
    "# Country\n",
    "print(df.country.unique())\n",
    "print(\"Number of unique values in 'country' column is {}\".format(len(df.country.unique())))"
   ]
  },
  {
   "cell_type": "markdown",
   "metadata": {},
   "source": [
    "We have missing values in 4 columns. Imputing strategy for NaN's is going to be the following:\n",
    "\n",
    "1. `Agent` is gonna be replaced by 0, meaning that if no agency is giving the assumption is that booking was made without one.\n",
    "2. `Company` is also going to be replaced by zero, since if None given it was most likely private.\n",
    "3. `Country` will be repalced by simply \"unknown\"\n",
    "4. `Children` replace by 0s."
   ]
  },
  {
   "cell_type": "code",
   "execution_count": null,
   "metadata": {},
   "outputs": [],
   "source": [
    "nan_replace_dict = {\"company\": 0, \"country\": \"Unknown\", \"agent\": 0, \"children\": 0}\n",
    "\n",
    "df = df.fillna(nan_replace_dict)"
   ]
  },
  {
   "cell_type": "code",
   "execution_count": null,
   "metadata": {},
   "outputs": [],
   "source": [
    "# Lets have more detailed look on other columns, for example 'meal'\n",
    "\n",
    "print(df.meal.unique())\n",
    "print(\"Number of unique values in 'meal' column is {}\".format(len(df.meal.unique())))"
   ]
  },
  {
   "cell_type": "markdown",
   "metadata": {},
   "source": [
    "'Undefined' means 'SC' - no food is being order, hence we can replace it"
   ]
  },
  {
   "cell_type": "code",
   "execution_count": null,
   "metadata": {},
   "outputs": [],
   "source": [
    "df[\"meal\"].replace(\"Undefined\", \"SC\", inplace=True)"
   ]
  },
  {
   "cell_type": "markdown",
   "metadata": {},
   "source": [
    "Now we go back to 0 in the 'adults' column."
   ]
  },
  {
   "cell_type": "code",
   "execution_count": null,
   "metadata": {},
   "outputs": [],
   "source": [
    "df.loc[df[\"adults\"] == 0].T"
   ]
  },
  {
   "cell_type": "markdown",
   "metadata": {},
   "source": [
    "We can see that some rows have zeros in `adults`, `children`, `babies` altogether. Lets drop these rows, since they do not seem to be correct."
   ]
  },
  {
   "cell_type": "code",
   "execution_count": null,
   "metadata": {},
   "outputs": [],
   "source": [
    "ghost_bookings = df.loc[df[\"adults\"] + df[\"children\"] +  df[\"babies\"]==0].index\n",
    "print(\"The amount of ghost booking rows: {}\".format(len(ghost_bookings)))"
   ]
  },
  {
   "cell_type": "code",
   "execution_count": null,
   "metadata": {},
   "outputs": [],
   "source": [
    "df.drop(df.index[ghost_bookings], inplace=True)\n",
    "df.shape"
   ]
  },
  {
   "cell_type": "markdown",
   "metadata": {},
   "source": [
    "## EDA"
   ]
  },
  {
   "cell_type": "code",
   "execution_count": null,
   "metadata": {},
   "outputs": [],
   "source": [
    "#Lets separate for a while Resort and City hotels for easier analysis/plotting\n",
    "# To know the acutal visitor numbers, only bookings that were not canceled are included. \n",
    "rh = df.loc[(df[\"hotel\"] == \"Resort Hotel\") & (df[\"is_canceled\"] == 0)]\n",
    "ch = df.loc[(df[\"hotel\"] == \"City Hotel\") & (df[\"is_canceled\"] == 0)]"
   ]
  },
  {
   "cell_type": "markdown",
   "metadata": {},
   "source": [
    "### Lets answer the question: 1) where do the guests come from?"
   ]
  },
  {
   "cell_type": "code",
   "execution_count": null,
   "metadata": {},
   "outputs": [],
   "source": [
    "country_data = pd.DataFrame(df.loc[df[\"is_canceled\"] == 0][\"country\"].value_counts())\n",
    "country_data.rename(columns={\"country\": \"Number of Guests\"}, inplace=True)\n",
    "total_guests = country_data[\"Number of Guests\"].sum()\n",
    "country_data[\"Guests in percentages\"] = round(country_data[\"Number of Guests\"] / total_guests * 100, 2)\n",
    "country_data[\"country\"] = country_data.index\n",
    "\n",
    "#Plot\n",
    "fig = px.pie(country_data,\n",
    "             values=\"Number of Guests\",\n",
    "             names=\"country\",\n",
    "             title=\"Home country of Bookings\",\n",
    "             template=\"seaborn\")\n",
    "\n",
    "fig.update_traces(textposition=\"inside\", textinfo=\"value+percent+label\")\n",
    "fig.show()"
   ]
  },
  {
   "cell_type": "code",
   "execution_count": null,
   "metadata": {},
   "outputs": [],
   "source": [
    "# display on the map\n",
    "\n",
    "bookings_map = px.choropleth(\n",
    "                            country_data,\n",
    "                            locations=country_data.index,\n",
    "                            color=country_data[\"Guests in percentages\"],\n",
    "                            hover_name=country_data.index,\n",
    "                            color_continuous_scale=px.colors.sequential.Plasma,\n",
    "                            title=\"Home country of Bookings\"\n",
    "                            )\n",
    "bookings_map.show()"
   ]
  },
  {
   "cell_type": "markdown",
   "metadata": {},
   "source": [
    "We can see that most of the bookings comes from West European Countries."
   ]
  },
  {
   "cell_type": "markdown",
   "metadata": {},
   "source": [
    "###  2) What is the price per night?"
   ]
  },
  {
   "cell_type": "code",
   "execution_count": null,
   "metadata": {},
   "outputs": [],
   "source": [
    "# We have been given a following column: Average Daily Rate, so lets have a \n",
    "# look at that what is Adr per Person\n",
    "df[\"adr_pp\"] = df[\"adr\"] / (df[\"adults\"] + df[\"children\"])\n",
    "rh[\"adr_pp\"] = rh[\"adr\"] / (rh[\"adults\"] + rh[\"children\"])\n",
    "ch[\"adr_pp\"] = ch[\"adr\"] / (ch[\"adults\"] + ch[\"children\"])"
   ]
  },
  {
   "cell_type": "code",
   "execution_count": null,
   "metadata": {},
   "outputs": [],
   "source": [
    "print(\"\"\"From all non-cancelled bookings, across all room types and meals, the average prices are: Resort hotel: {:.2f} euro \n",
    "per night and person. City hotel: {:.2f} euro per night and person.\"\"\".format(rh[\"adr_pp\"].mean(), ch[\"adr_pp\"].mean()))"
   ]
  },
  {
   "cell_type": "code",
   "execution_count": null,
   "metadata": {},
   "outputs": [],
   "source": [
    "# lets keep only actualy bookings\n",
    "df_bookings = df.loc[df[\"is_canceled\"] == 0]\n",
    "room_prices = df_bookings[[\"hotel\", \"reserved_room_type\", \"adr_pp\"]].sort_values(\"reserved_room_type\")\n",
    "\n",
    "plt.figure(figsize=(12, 8))\n",
    "sns.boxplot(x=\"reserved_room_type\",\n",
    "            y=\"adr_pp\",\n",
    "            hue=\"hotel\",\n",
    "            data=room_prices,\n",
    "            hue_order=[\"City Hotel\", \"Resort Hotel\"])\n",
    "\n",
    "plt.title(\"Price of room types per night and person\", fontsize=16)\n",
    "plt.xlabel(\"Room type\", fontsize=16)\n",
    "plt.ylabel(\"Price [EUR] per person\", fontsize=16)\n",
    "plt.legend(loc=\"upper right\")\n",
    "plt.ylim(0, 160)\n",
    "plt.show()"
   ]
  },
  {
   "cell_type": "markdown",
   "metadata": {},
   "source": [
    "### 3) How does the price per night vary over the year?  \n",
    "Lets have a look at the average price per night and person, regardless of the room type and meal.  "
   ]
  },
  {
   "cell_type": "code",
   "execution_count": null,
   "metadata": {},
   "outputs": [],
   "source": [
    "room_price_monthly = df[[\"hotel\", \"arrival_date_month\", \"adr_pp\"]].sort_values(\"arrival_date_month\")\n",
    "\n",
    "# order by month:\n",
    "ordered_months = [\"January\", \"February\", \"March\", \"April\", \"May\", \"June\", \n",
    "          \"July\", \"August\", \"September\", \"October\", \"November\", \"December\"]\n",
    "\n",
    "room_price_monthly[\"arrival_date_month\"] = pd.Categorical(room_prices_mothly[\"arrival_date_month\"], categories=ordered_months, ordered=True)\n",
    "\n",
    "#lineplot with std (https://pandas.pydata.org/pandas-docs/version/0.23.4/generated/pandas.Categorical.html)\n",
    "plt.figure(figsize=(12,8))\n",
    "sns.lineplot(x=\"arrival_date_month\", y=\"adr_pp\", hue=\"hotel\", data=room_price_monthly,  \n",
    "             hue_order = [\"City Hotel\", \"Resort Hotel\"], ci=\"sd\", size=\"hotel\", sizes=(2.5, 2.5))\n",
    "plt.title(\"Room price per night (per person) over the year\", fontsize=16)\n",
    "plt.xlabel(\"Month\", fontsize=16)\n",
    "plt.xticks(rotation=45)\n",
    "plt.ylabel(\"Price [EUR] per person\", fontsize=16)\n",
    "plt.show()"
   ]
  },
  {
   "cell_type": "markdown",
   "metadata": {},
   "source": [
    "This clearly shows that the prices in the Resort hotel are much higher during the summer (no surprise here).   "
   ]
  },
  {
   "cell_type": "markdown",
   "metadata": {},
   "source": [
    "### 4) Which months are the most occupied ones"
   ]
  },
  {
   "cell_type": "code",
   "execution_count": null,
   "metadata": {},
   "outputs": [],
   "source": [
    "resort_guest_monthly = rh.groupby(\"arrival_date_month\")[\"hotel\"].count()\n",
    "city_guest_monthly = ch.groupby(\"arrival_date_month\")[\"hotel\"].count()\n",
    "\n",
    "resort_guest_data = pd.DataFrame({\"Month\": list(resort_guest_monthly.index),\n",
    "                                  \"Hotel\": \"Resort Hotel\",\n",
    "                                  \"Guests\": list(resort_guest_monthly.values)\n",
    "                                 })\n",
    "\n",
    "city_guest_data = pd.DataFrame({\"Month\": list(city_guest_monthly.index),\n",
    "                                  \"Hotel\": \"City Hotel\",\n",
    "                                  \"Guests\": list(city_guest_monthly.values)\n",
    "                                 })\n",
    "guest_data = pd.concat([resort_guest_data, city_guest_data], ignore_index=True)\n",
    "\n",
    "# it would actually make sense to order by month\n",
    "ordered_months = [\"January\", \"February\", \"March\", \"April\", \"May\", \"June\", \n",
    "          \"July\", \"August\", \"September\", \"October\", \"November\", \"December\"]\n",
    "\n",
    "guest_data[\"Month\"] = pd.Categorical(guest_data[\"Month\"], categories=ordered_months, ordered=True)\n",
    " \n",
    "    \n",
    "# Normalize data since July and August date from 3 years, the other month from 2 years  \n",
    "guest_data.loc[(guest_data[\"Month\"] == \"July\")|(guest_data[\"Month\"] == \"August\"), \"Guests\"] /= 3\n",
    "guest_data.loc[~(guest_data[\"Month\"] == \"July\")|(guest_data[\"Month\"] == \"August\"), \"Guests\"] /= 2\n",
    "\n",
    "# show figure:\n",
    "plt.figure(figsize=(12,8))\n",
    "sns.lineplot(x=\"Month\", y=\"Guests\", hue=\"Hotel\", data=guest_data,\n",
    "            hue_order = [\"City Hotel\", \"Resort Hotel\"], size=\"Hotel\", sizes=(2.5, 2.5))\n",
    "plt.title(\"Average number of hotel guests per month\", fontsize=16)\n",
    "plt.xlabel(\"Month\", fontsize=16)\n",
    "plt.xticks(rotation=45)\n",
    "plt.ylabel(\"Number of guests\", fontsize=16)\n",
    "plt.show()"
   ]
  },
  {
   "cell_type": "markdown",
   "metadata": {},
   "source": [
    "The City hotel has more guests during spring and autumn, when its prices higher. In July and August there are less visitors (most probably goes to resort), although prices are lower. Guest numbers for the Resort hotel go down slighty from June to September, which is also when the prices are highest.  \n",
    "Both hotels have the fewest guests during the winter."
   ]
  },
  {
   "cell_type": "code",
   "execution_count": null,
   "metadata": {},
   "outputs": [],
   "source": []
  }
 ],
 "metadata": {
  "kernelspec": {
   "display_name": "Python 3",
   "language": "python",
   "name": "python3"
  },
  "language_info": {
   "codemirror_mode": {
    "name": "ipython",
    "version": 3
   },
   "file_extension": ".py",
   "mimetype": "text/x-python",
   "name": "python",
   "nbconvert_exporter": "python",
   "pygments_lexer": "ipython3",
   "version": "3.7.3"
  }
 },
 "nbformat": 4,
 "nbformat_minor": 2
}
